{
 "cells": [
  {
   "cell_type": "markdown",
   "metadata": {},
   "source": [
    "# Illustrating of co-plotting `hemibrain` skeleton with flywire dataset"
   ]
  },
  {
   "cell_type": "markdown",
   "metadata": {},
   "source": [
    "## Step 1: Import neccesary library modules now"
   ]
  },
  {
   "cell_type": "code",
   "execution_count": 1,
   "metadata": {},
   "outputs": [
    {
     "data": {
      "text/html": [
       "        <script type=\"text/javascript\">\n",
       "        window.PlotlyConfig = {MathJaxConfig: 'local'};\n",
       "        if (window.MathJax) {MathJax.Hub.Config({SVG: {font: \"STIX-Web\"}});}\n",
       "        if (typeof require !== 'undefined') {\n",
       "        require.undef(\"plotly\");\n",
       "        requirejs.config({\n",
       "            paths: {\n",
       "                'plotly': ['https://cdn.plot.ly/plotly-latest.min']\n",
       "            }\n",
       "        });\n",
       "        require(['plotly'], function(Plotly) {\n",
       "            window._Plotly = Plotly;\n",
       "        });\n",
       "        }\n",
       "        </script>\n",
       "        "
      ]
     },
     "metadata": {},
     "output_type": "display_data"
    }
   ],
   "source": [
    "import navis\n",
    "import fafbseg\n",
    "import flybrains"
   ]
  },
  {
   "cell_type": "code",
   "execution_count": 2,
   "metadata": {},
   "outputs": [],
   "source": [
    "from pyroglancer.localserver import startdataserver, closedataserver\n",
    "from pyroglancer.flywire import flywireurl2dict, add_flywirelayer"
   ]
  },
  {
   "cell_type": "markdown",
   "metadata": {},
   "source": [
    "## Step 2: Set configurations to fetch from data from `neuprint`"
   ]
  },
  {
   "cell_type": "code",
   "execution_count": 3,
   "metadata": {},
   "outputs": [],
   "source": [
    "import navis.interfaces.neuprint as neu\n",
    "client = neu.Client('https://neuprint.janelia.org/', dataset='hemibrain:v1.1')"
   ]
  },
  {
   "cell_type": "code",
   "execution_count": 4,
   "metadata": {},
   "outputs": [
    {
     "data": {
      "text/plain": [
       "Client(\"https://neuprint.janelia.org\", \"hemibrain:v1.1\")"
      ]
     },
     "execution_count": 4,
     "metadata": {},
     "output_type": "execute_result"
    }
   ],
   "source": [
    "client"
   ]
  },
  {
   "cell_type": "markdown",
   "metadata": {},
   "source": [
    "## Step 3: Get sample skids and neuropil meshes from `neuprint`"
   ]
  },
  {
   "cell_type": "code",
   "execution_count": 5,
   "metadata": {},
   "outputs": [],
   "source": [
    "da1pnbodyidList = [1734350788,1734350908,1765040289,5813039315,722817260]"
   ]
  },
  {
   "cell_type": "code",
   "execution_count": 6,
   "metadata": {},
   "outputs": [
    {
     "data": {
      "application/vnd.jupyter.widget-view+json": {
       "model_id": "",
       "version_major": 2,
       "version_minor": 0
      },
      "text/plain": [
       "HBox(children=(HTML(value='Fetching'), FloatProgress(value=0.0, max=5.0), HTML(value='')))"
      ]
     },
     "metadata": {},
     "output_type": "display_data"
    }
   ],
   "source": [
    "da1pn_skel = neu.fetch_skeletons(da1pnbodyidList, heal=1000, max_threads=30)"
   ]
  },
  {
   "cell_type": "code",
   "execution_count": 7,
   "metadata": {},
   "outputs": [],
   "source": [
    "#fetch mesh for Right Antenna lobe..\n",
    "al_R = neu.fetch_roi('AL(R)')"
   ]
  },
  {
   "cell_type": "code",
   "execution_count": 8,
   "metadata": {},
   "outputs": [],
   "source": [
    "hemibrain_mesh = navis.Volume(flybrains.JRCFIB2018Fraw.mesh)"
   ]
  },
  {
   "cell_type": "markdown",
   "metadata": {},
   "source": [
    "## Step 4: Transform them to Flywire space.."
   ]
  },
  {
   "cell_type": "code",
   "execution_count": 9,
   "metadata": {},
   "outputs": [
    {
     "name": "stdout",
     "output_type": "stream",
     "text": [
      "Transform path: JRCFIB2018Fraw->JRCFIB2018F->JRCFIB2018Fum->JRC2018F->FAFB14um->FAFB14->FAFB14raw->FLYWIREraw->FLYWIRE\n"
     ]
    },
    {
     "data": {
      "application/vnd.jupyter.widget-view+json": {
       "model_id": "",
       "version_major": 2,
       "version_minor": 0
      },
      "text/plain": [
       "HBox(children=(HTML(value='Xforming'), FloatProgress(value=0.0, max=5.0), HTML(value='')))"
      ]
     },
     "metadata": {},
     "output_type": "display_data"
    }
   ],
   "source": [
    "flywire_neuron=navis.xform_brain(da1pn_skel,source='JRCFIB2018Fraw', target='FLYWIRE')"
   ]
  },
  {
   "cell_type": "code",
   "execution_count": 10,
   "metadata": {},
   "outputs": [
    {
     "name": "stdout",
     "output_type": "stream",
     "text": [
      "Transform path: JRCFIB2018Fraw->JRCFIB2018F->JRCFIB2018Fum->JRC2018F->FAFB14um->FAFB14->FAFB14raw->FLYWIREraw->FLYWIRE\n"
     ]
    },
    {
     "name": "stderr",
     "output_type": "stream",
     "text": [
      "/Users/sri/anaconda3/lib/python3.7/site-packages/fafbseg/spine/base.py:303: UserWarning:\n",
      "\n",
      "225 points failed to transform.\n",
      "\n"
     ]
    },
    {
     "name": "stdout",
     "output_type": "stream",
     "text": [
      "Transform path: JRCFIB2018Fraw->JRCFIB2018F->JRCFIB2018Fum->JRC2018F->FAFB14um->FAFB14->FAFB14raw->FLYWIREraw->FLYWIRE\n"
     ]
    }
   ],
   "source": [
    "flywirevol = {}\n",
    "flywirevol['hemibrain']=navis.xform_brain(hemibrain_mesh, source='JRCFIB2018Fraw', target='FLYWIRE')\n",
    "flywirevol['AL_R']=navis.xform_brain(al_R, source='JRCFIB2018Fraw', target='FLYWIRE')"
   ]
  },
  {
   "cell_type": "code",
   "execution_count": 11,
   "metadata": {},
   "outputs": [
    {
     "data": {
      "text/plain": [
       "{'hemibrain': <navis.Volume(name=None, id=200, color=(0.85, 0.85, 0.85, 0.2), vertices.shape=(22125, 3), faces.shape=(44270, 3))>,\n",
       " 'AL_R': <navis.Volume(name=None, id=300, color=(0.85, 0.85, 0.85, 0.2), vertices.shape=(38829, 3), faces.shape=(77672, 3))>}"
      ]
     },
     "execution_count": 11,
     "metadata": {},
     "output_type": "execute_result"
    }
   ],
   "source": [
    "flywirevol['hemibrain'].id = 200\n",
    "flywirevol['AL_R'].id = 300\n",
    "flywirevol"
   ]
  },
  {
   "cell_type": "markdown",
   "metadata": {},
   "source": [
    "## Step 5: Start the dataserver to host precomputed data.."
   ]
  },
  {
   "cell_type": "code",
   "execution_count": 12,
   "metadata": {},
   "outputs": [
    {
     "name": "stdout",
     "output_type": "stream",
     "text": [
      "Serving data from:  /var/folders/6x/d_rd5yr937vbq8f46d4yzrsw0000gn/T/tmpf9bopxwo\n",
      "Serving directory at http://127.0.0.1:8000\n"
     ]
    }
   ],
   "source": [
    "startdataserver()"
   ]
  },
  {
   "cell_type": "markdown",
   "metadata": {},
   "source": [
    "## Step 6: Get the url from flywire to append data onto.."
   ]
  },
  {
   "cell_type": "code",
   "execution_count": 13,
   "metadata": {},
   "outputs": [],
   "source": [
    "shorturl = 'https://ngl.flywire.ai/?json_url=https://globalv1.flywire-daf.com/nglstate/6165741996867584'\n",
    "#This flywire segments has some stuff similar to the DA1 PNs, you will notice their closeness in the final plot"
   ]
  },
  {
   "cell_type": "markdown",
   "metadata": {},
   "source": [
    "## Step 7: Add bodyids to flywire layers.."
   ]
  },
  {
   "cell_type": "code",
   "execution_count": 14,
   "metadata": {},
   "outputs": [
    {
     "name": "stdout",
     "output_type": "stream",
     "text": [
      "/private/var/folders/6x/d_rd5yr937vbq8f46d4yzrsw0000gn/T/tmpf9bopxwo/precomputed/skeletons/722817260\n",
      "/private/var/folders/6x/d_rd5yr937vbq8f46d4yzrsw0000gn/T/tmpf9bopxwo/precomputed/skeletons/1734350788\n",
      "/private/var/folders/6x/d_rd5yr937vbq8f46d4yzrsw0000gn/T/tmpf9bopxwo/precomputed/skeletons/1734350908\n",
      "/private/var/folders/6x/d_rd5yr937vbq8f46d4yzrsw0000gn/T/tmpf9bopxwo/precomputed/skeletons/1765040289\n",
      "/private/var/folders/6x/d_rd5yr937vbq8f46d4yzrsw0000gn/T/tmpf9bopxwo/precomputed/skeletons/5813039315\n",
      "creating: /private/var/folders/6x/d_rd5yr937vbq8f46d4yzrsw0000gn/T/tmpf9bopxwo/precomputed/skeletons/seg_props\n",
      "flywire url at: https://ngl.flywire.ai/?json_url=https://globalv1.flywire-daf.com/nglstate/5243114302210048\n"
     ]
    }
   ],
   "source": [
    "tmpviewer = add_flywirelayer(flywireurl2dict(shorturl), layer_kws = {'type': 'skeletons','source': flywire_neuron})"
   ]
  },
  {
   "cell_type": "markdown",
   "metadata": {},
   "source": [
    "## Step 8: Add neuropil meshes to flywire layers"
   ]
  },
  {
   "cell_type": "code",
   "execution_count": 15,
   "metadata": {},
   "outputs": [],
   "source": [
    "shorturl = tmpviewer"
   ]
  },
  {
   "cell_type": "code",
   "execution_count": 16,
   "metadata": {},
   "outputs": [
    {
     "name": "stdout",
     "output_type": "stream",
     "text": [
      "mesh/200\n",
      "Seg id is: 200\n",
      "Full filepath: /private/var/folders/6x/d_rd5yr937vbq8f46d4yzrsw0000gn/T/tmpf9bopxwo/precomputed/volumes/mesh/200\n",
      "mesh/300\n",
      "Seg id is: 300\n",
      "Full filepath: /private/var/folders/6x/d_rd5yr937vbq8f46d4yzrsw0000gn/T/tmpf9bopxwo/precomputed/volumes/mesh/300\n",
      "creating: /private/var/folders/6x/d_rd5yr937vbq8f46d4yzrsw0000gn/T/tmpf9bopxwo/precomputed/volumes/mesh/segment_properties\n",
      "creating: /private/var/folders/6x/d_rd5yr937vbq8f46d4yzrsw0000gn/T/tmpf9bopxwo/precomputed/volumes/mesh/segment_names\n",
      "flywire url at: https://ngl.flywire.ai/?json_url=https://globalv1.flywire-daf.com/nglstate/5870058966351872\n"
     ]
    },
    {
     "name": "stderr",
     "output_type": "stream",
     "text": [
      "127.0.0.1 - - [03/Feb/2021 23:39:22] \"GET /precomputed/skeletons/info HTTP/1.1\" 200 -\n",
      "127.0.0.1 - - [03/Feb/2021 23:39:22] \"GET /precomputed/volumes/mesh/info HTTP/1.1\" 200 -\n",
      "127.0.0.1 - - [03/Feb/2021 23:39:22] \"GET /precomputed/volumes/mesh/300:0 HTTP/1.1\" 200 -\n",
      "127.0.0.1 - - [03/Feb/2021 23:39:22] \"GET /precomputed/skeletons/1734350788 HTTP/1.1\" 200 -\n",
      "127.0.0.1 - - [03/Feb/2021 23:39:22] \"GET /precomputed/volumes/mesh/200:0 HTTP/1.1\" 200 -\n",
      "127.0.0.1 - - [03/Feb/2021 23:39:22] \"GET /precomputed/skeletons/5813039315 HTTP/1.1\" 200 -\n",
      "127.0.0.1 - - [03/Feb/2021 23:39:22] \"GET /precomputed/skeletons/1734350908 HTTP/1.1\" 200 -\n",
      "127.0.0.1 - - [03/Feb/2021 23:39:22] \"GET /precomputed/skeletons/1765040289 HTTP/1.1\" 200 -\n",
      "127.0.0.1 - - [03/Feb/2021 23:39:22] \"GET /precomputed/skeletons/722817260 HTTP/1.1\" 200 -\n",
      "127.0.0.1 - - [03/Feb/2021 23:39:22] \"GET /precomputed/volumes/mesh/300 HTTP/1.1\" 200 -\n",
      "127.0.0.1 - - [03/Feb/2021 23:39:22] \"GET /precomputed/volumes/mesh/200 HTTP/1.1\" 200 -\n"
     ]
    }
   ],
   "source": [
    "tmpviewer = add_flywirelayer(flywireurl2dict(shorturl), layer_kws = {'type': 'volumes','source': [flywirevol['hemibrain'],\n",
    "                                                                               flywirevol['AL_R']]})"
   ]
  },
  {
   "cell_type": "code",
   "execution_count": null,
   "metadata": {},
   "outputs": [],
   "source": []
  },
  {
   "cell_type": "markdown",
   "metadata": {},
   "source": [
    "# Screenshot of the flywire instance should like below.."
   ]
  },
  {
   "cell_type": "markdown",
   "metadata": {},
   "source": [
    "### The grey mesh is the v14.1 neuropil, magenta is the Antenna lobe (Right), you can see the skeletons plotted in the skeleton layer, and corresponding meshes of the flywire dataset plotted as well"
   ]
  },
  {
   "cell_type": "markdown",
   "metadata": {},
   "source": [
    "![alt text](hemibrain2flywire.png \"Title\")"
   ]
  },
  {
   "cell_type": "code",
   "execution_count": null,
   "metadata": {},
   "outputs": [],
   "source": []
  },
  {
   "cell_type": "markdown",
   "metadata": {},
   "source": [
    "## Step 9: Close the dataserver"
   ]
  },
  {
   "cell_type": "code",
   "execution_count": null,
   "metadata": {},
   "outputs": [],
   "source": [
    "closedataserver()"
   ]
  },
  {
   "cell_type": "code",
   "execution_count": null,
   "metadata": {},
   "outputs": [],
   "source": []
  },
  {
   "cell_type": "code",
   "execution_count": null,
   "metadata": {},
   "outputs": [],
   "source": []
  },
  {
   "cell_type": "code",
   "execution_count": null,
   "metadata": {},
   "outputs": [],
   "source": []
  }
 ],
 "metadata": {
  "kernelspec": {
   "display_name": "Python 3",
   "language": "python",
   "name": "python3"
  },
  "language_info": {
   "codemirror_mode": {
    "name": "ipython",
    "version": 3
   },
   "file_extension": ".py",
   "mimetype": "text/x-python",
   "name": "python",
   "nbconvert_exporter": "python",
   "pygments_lexer": "ipython3",
   "version": "3.7.3"
  }
 },
 "nbformat": 4,
 "nbformat_minor": 2
}
