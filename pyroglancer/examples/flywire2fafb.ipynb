{
 "cells": [
  {
   "cell_type": "code",
   "execution_count": 1,
   "metadata": {},
   "outputs": [
    {
     "name": "stderr",
     "output_type": "stream",
     "text": [
      "WARNING: Could not load OpenGL library.\n"
     ]
    }
   ],
   "source": [
    "import navis\n",
    "import fafbseg\n",
    "import pymaid"
   ]
  },
  {
   "cell_type": "code",
   "execution_count": 2,
   "metadata": {},
   "outputs": [],
   "source": [
    "import pandas as pd\n",
    "import numpy as np\n",
    "import os\n",
    "from copy import deepcopy"
   ]
  },
  {
   "cell_type": "code",
   "execution_count": 3,
   "metadata": {},
   "outputs": [],
   "source": [
    "from pyroglancer.layers import create_nglayer\n",
    "from pyroglancer.localserver import startdataserver, closedataserver\n",
    "from pyroglancer.ngviewer import openviewer, closeviewer\n",
    "from pyroglancer.ngspaces import create_ngspace"
   ]
  },
  {
   "cell_type": "code",
   "execution_count": null,
   "metadata": {},
   "outputs": [],
   "source": []
  },
  {
   "cell_type": "markdown",
   "metadata": {},
   "source": [
    "# Step 1: Fetch stuff from flywire.."
   ]
  },
  {
   "cell_type": "code",
   "execution_count": 4,
   "metadata": {},
   "outputs": [],
   "source": [
    "#set the flywire token here..\n",
    "#fafbseg.flywire.set_chunkedgraph_secret(\"blabla\")"
   ]
  },
  {
   "cell_type": "code",
   "execution_count": 5,
   "metadata": {},
   "outputs": [],
   "source": [
    "#mesh in flywire for which to find a match..\n",
    "flywire_id = 720575940633919863"
   ]
  },
  {
   "cell_type": "code",
   "execution_count": 6,
   "metadata": {},
   "outputs": [
    {
     "data": {
      "text/html": [
       "<div>\n",
       "<style scoped>\n",
       "    .dataframe tbody tr th:only-of-type {\n",
       "        vertical-align: middle;\n",
       "    }\n",
       "\n",
       "    .dataframe tbody tr th {\n",
       "        vertical-align: top;\n",
       "    }\n",
       "\n",
       "    .dataframe thead th {\n",
       "        text-align: right;\n",
       "    }\n",
       "</style>\n",
       "<table border=\"1\" class=\"dataframe\">\n",
       "  <thead>\n",
       "    <tr style=\"text-align: right;\">\n",
       "      <th></th>\n",
       "      <th></th>\n",
       "    </tr>\n",
       "  </thead>\n",
       "  <tbody>\n",
       "    <tr>\n",
       "      <th>type</th>\n",
       "      <td>navis.MeshNeuron</td>\n",
       "    </tr>\n",
       "    <tr>\n",
       "      <th>name</th>\n",
       "      <td>None</td>\n",
       "    </tr>\n",
       "    <tr>\n",
       "      <th>id</th>\n",
       "      <td>720575940633919863</td>\n",
       "    </tr>\n",
       "    <tr>\n",
       "      <th>units</th>\n",
       "      <td>1 nanometer</td>\n",
       "    </tr>\n",
       "    <tr>\n",
       "      <th>n_vertices</th>\n",
       "      <td>785994</td>\n",
       "    </tr>\n",
       "    <tr>\n",
       "      <th>n_faces</th>\n",
       "      <td>1575396</td>\n",
       "    </tr>\n",
       "  </tbody>\n",
       "</table>\n",
       "</div>"
      ],
      "text/plain": [
       "type            navis.MeshNeuron\n",
       "name                        None\n",
       "id            720575940633919863\n",
       "units                1 nanometer\n",
       "n_vertices                785994\n",
       "n_faces                  1575396\n",
       "dtype: object"
      ]
     },
     "execution_count": 6,
     "metadata": {},
     "output_type": "execute_result"
    }
   ],
   "source": [
    "# Fetch the neuron's mesh\n",
    "putativeDNa02_a = fafbseg.flywire.get_mesh_neuron(flywire_id)\n",
    "putativeDNa02_a"
   ]
  },
  {
   "cell_type": "code",
   "execution_count": null,
   "metadata": {},
   "outputs": [],
   "source": []
  },
  {
   "cell_type": "markdown",
   "metadata": {},
   "source": [
    "# Step 2: Transform it to fafb.."
   ]
  },
  {
   "cell_type": "code",
   "execution_count": 7,
   "metadata": {},
   "outputs": [],
   "source": [
    "DNa02_xyz = pd.DataFrame(list(map(np.ravel, putativeDNa02_a.vertices)), columns=['x', 'y', 'z'])"
   ]
  },
  {
   "cell_type": "code",
   "execution_count": 8,
   "metadata": {},
   "outputs": [
    {
     "name": "stdout",
     "output_type": "stream",
     "text": [
      "Transform path: FLYWIRE -> FLYWIREraw -> FAFB14raw -> FAFB14\n"
     ]
    }
   ],
   "source": [
    "#move the vertices of the flywire mesh to fafb..\n",
    "fafb_putativeDNa02_xyz = navis.xform_brain(DNa02_xyz, source='FLYWIRE', target='FAFB14')"
   ]
  },
  {
   "cell_type": "code",
   "execution_count": 9,
   "metadata": {},
   "outputs": [],
   "source": [
    "fafb_putativeDNa02_a = putativeDNa02_a.copy()"
   ]
  },
  {
   "cell_type": "code",
   "execution_count": 10,
   "metadata": {},
   "outputs": [],
   "source": [
    "#put the transformed vertices in the new mesh..\n",
    "fafb_putativeDNa02_a.vertices = fafb_putativeDNa02_xyz.to_numpy()"
   ]
  },
  {
   "cell_type": "code",
   "execution_count": 11,
   "metadata": {},
   "outputs": [
    {
     "data": {
      "text/plain": [
       "<navis.Volume(name=putative_DNa02, id=720575940633919863, color=(0.85, 0.85, 0.85, 0.2), vertices.shape=(785994, 3), faces.shape=(1575396, 3))>"
      ]
     },
     "execution_count": 11,
     "metadata": {},
     "output_type": "execute_result"
    }
   ],
   "source": [
    "#perform a bit of conversion to navis volumes..\n",
    "fafb_putativeDNa02_a = navis.core.volumes.Volume(fafb_putativeDNa02_a)\n",
    "fafb_putativeDNa02_a.id = flywire_id\n",
    "fafb_putativeDNa02_a.name = 'putative_DNa02'\n",
    "fafb_putativeDNa02_a"
   ]
  },
  {
   "cell_type": "code",
   "execution_count": null,
   "metadata": {},
   "outputs": [],
   "source": []
  },
  {
   "cell_type": "markdown",
   "metadata": {},
   "source": [
    "# Step 3: fetch neuropils from catmaid for display.."
   ]
  },
  {
   "cell_type": "code",
   "execution_count": 12,
   "metadata": {},
   "outputs": [],
   "source": [
    "publicurl = 'https://fafb.catmaid.virtualflybrain.org/'"
   ]
  },
  {
   "cell_type": "code",
   "execution_count": 13,
   "metadata": {},
   "outputs": [
    {
     "name": "stderr",
     "output_type": "stream",
     "text": [
      "INFO  : Global CATMAID instance set. Caching is ON. (pymaid)\n"
     ]
    }
   ],
   "source": [
    "working_rm = pymaid.CatmaidInstance(publicurl, api_token=None, project_id = 1)"
   ]
  },
  {
   "cell_type": "code",
   "execution_count": 14,
   "metadata": {},
   "outputs": [],
   "source": [
    "# #set up catmaid (in case of private)..\n",
    "# working_rm = pymaid.CatmaidInstance('https://neuropil.janelia.org/tracing/fafb/v14',\n",
    "#                             api_token=os.environ['TOKEN'],\n",
    "#                             http_user=os.environ['authname'], # omit if not required\n",
    "#                             http_password=os.environ['authpassword'], project_id = 1) # omit if not required"
   ]
  },
  {
   "cell_type": "code",
   "execution_count": 15,
   "metadata": {},
   "outputs": [],
   "source": [
    "#fetch the LAL neuropil mesh..\n",
    "LAL_neuropil = pymaid.get_volume('LAL_L', color=(255, 0, 0, .2))"
   ]
  },
  {
   "cell_type": "code",
   "execution_count": 16,
   "metadata": {},
   "outputs": [
    {
     "data": {
      "text/plain": [
       "<navis.Volume(name=LAL_L, id=100, color=(0.85, 0.85, 0.85, 0.2), vertices.shape=(402, 3), faces.shape=(800, 3))>"
      ]
     },
     "execution_count": 16,
     "metadata": {},
     "output_type": "execute_result"
    }
   ],
   "source": [
    "#perform a bit of conversion to navis volumes..\n",
    "LAL_neuropil = navis.core.volumes.Volume(LAL_neuropil)\n",
    "LAL_neuropil.id = 100\n",
    "LAL_neuropil.name = 'LAL_L'\n",
    "LAL_neuropil"
   ]
  },
  {
   "cell_type": "code",
   "execution_count": 17,
   "metadata": {},
   "outputs": [
    {
     "name": "stderr",
     "output_type": "stream",
     "text": [
      "INFO  : Cached data used. Use `pymaid.clear_cache()` to clear. (pymaid)\n"
     ]
    }
   ],
   "source": [
    "#fetch the FB neuropil mesh..\n",
    "FB_neuropil = pymaid.get_volume('FB', color=(0, 255, 0, .2))"
   ]
  },
  {
   "cell_type": "code",
   "execution_count": 18,
   "metadata": {},
   "outputs": [
    {
     "data": {
      "text/plain": [
       "<navis.Volume(name=FB, id=200, color=(0.85, 0.85, 0.85, 0.2), vertices.shape=(614, 3), faces.shape=(1224, 3))>"
      ]
     },
     "execution_count": 18,
     "metadata": {},
     "output_type": "execute_result"
    }
   ],
   "source": [
    "#perform a bit of conversion to navis volumes..\n",
    "FB_neuropil = navis.core.volumes.Volume(FB_neuropil)\n",
    "FB_neuropil.id = 200\n",
    "FB_neuropil.name = 'FB'\n",
    "FB_neuropil"
   ]
  },
  {
   "cell_type": "code",
   "execution_count": null,
   "metadata": {},
   "outputs": [],
   "source": []
  },
  {
   "cell_type": "markdown",
   "metadata": {},
   "source": [
    "# Step 4: Set up pyroglancer configuration.."
   ]
  },
  {
   "cell_type": "code",
   "execution_count": 19,
   "metadata": {},
   "outputs": [
    {
     "name": "stdout",
     "output_type": "stream",
     "text": [
      "Serving data from:  /var/folders/_l/lrfvj_8j3ps0c37ncbr3c8dh0000gn/T/tmpspux6y4u\n",
      "Serving directory at http://127.0.0.1:8000\n"
     ]
    }
   ],
   "source": [
    "startdataserver()"
   ]
  },
  {
   "cell_type": "code",
   "execution_count": 20,
   "metadata": {},
   "outputs": [
    {
     "name": "stdout",
     "output_type": "stream",
     "text": [
      "using default location at:  /Users/sri/.pyroglancer/config.yml\n",
      "Neuroglancer viewer created at:  http://127.0.0.1:56945/v/576c0ea22c80d42cbea5432f2c43044b609cfa37/\n",
      "using default location at:  /Users/sri/.pyroglancer/config.yml\n",
      "Dimensions are in : FAFB\n",
      "Layer created:  image\n",
      "using default location at:  /Users/sri/.pyroglancer/config.yml\n",
      "Using layout : xy-3d\n",
      "using default location at:  /Users/sri/.pyroglancer/config.yml\n",
      "Dimensions are in : FAFB\n",
      "Layer created:  image\n",
      "using default location at:  /Users/sri/.pyroglancer/config.yml\n",
      "Using layout : xy-3d\n",
      "using default location at:  /Users/sri/.pyroglancer/config.yml\n",
      "Dimensions are in : FAFB\n",
      "Layer created:  surfacemesh\n",
      "using default location at:  /Users/sri/.pyroglancer/config.yml\n",
      "Using layout : xy-3d\n",
      "using default location at:  /Users/sri/.pyroglancer/config.yml\n",
      "Dimensions are in : FAFB\n",
      "Layer created:  segmentation\n",
      "using default location at:  /Users/sri/.pyroglancer/config.yml\n",
      "Using layout : xy-3d\n",
      "using default location at:  /Users/sri/.pyroglancer/config.yml\n",
      "Dimensions are in : FAFB\n",
      "Layer created:  synapsepred\n",
      "using default location at:  /Users/sri/.pyroglancer/config.yml\n",
      "Using layout : xy-3d\n",
      "using default location at:  /Users/sri/.pyroglancer/config.yml\n",
      "Dimensions are in : FAFB\n",
      "Layer created:  synapticcleft\n",
      "using default location at:  /Users/sri/.pyroglancer/config.yml\n",
      "Using layout : xy-3d\n"
     ]
    }
   ],
   "source": [
    "create_ngspace('FAFB')"
   ]
  },
  {
   "cell_type": "code",
   "execution_count": null,
   "metadata": {},
   "outputs": [],
   "source": []
  },
  {
   "cell_type": "markdown",
   "metadata": {},
   "source": [
    "# Step 5: Inject the neuron mesh and neuropils.."
   ]
  },
  {
   "cell_type": "code",
   "execution_count": 21,
   "metadata": {},
   "outputs": [
    {
     "name": "stdout",
     "output_type": "stream",
     "text": [
      "using default location at:  /Users/sri/.pyroglancer/config.yml\n",
      "Dimensions are in : FAFB\n",
      "Layer created:  volumes\n",
      "mesh/720575940633919863\n",
      "Seg id is: 720575940633919863\n",
      "Full filepath: /private/var/folders/_l/lrfvj_8j3ps0c37ncbr3c8dh0000gn/T/tmpspux6y4u/precomputed/flywiremeshes/mesh/720575940633919863\n",
      "creating: /private/var/folders/_l/lrfvj_8j3ps0c37ncbr3c8dh0000gn/T/tmpspux6y4u/precomputed/flywiremeshes/mesh/segment_properties\n",
      "creating: /private/var/folders/_l/lrfvj_8j3ps0c37ncbr3c8dh0000gn/T/tmpspux6y4u/precomputed/flywiremeshes/mesh/segment_names\n",
      "Using layout : xy-3d\n"
     ]
    }
   ],
   "source": [
    "tmpviewer = create_nglayer(layer_kws = {'type': 'volumes','source': fafb_putativeDNa02_a,\n",
    "                                        'name': 'flywiremeshes','color': 'yellow'})"
   ]
  },
  {
   "cell_type": "code",
   "execution_count": 22,
   "metadata": {},
   "outputs": [
    {
     "name": "stdout",
     "output_type": "stream",
     "text": [
      "using default location at:  /Users/sri/.pyroglancer/config.yml\n",
      "Dimensions are in : FAFB\n",
      "Layer created:  volumes\n",
      "mesh/100\n",
      "Seg id is: 100\n",
      "Full filepath: /private/var/folders/_l/lrfvj_8j3ps0c37ncbr3c8dh0000gn/T/tmpspux6y4u/precomputed/neuropils/mesh/100\n",
      "mesh/200\n",
      "Seg id is: 200\n",
      "Full filepath: /private/var/folders/_l/lrfvj_8j3ps0c37ncbr3c8dh0000gn/T/tmpspux6y4u/precomputed/neuropils/mesh/200\n",
      "creating: /private/var/folders/_l/lrfvj_8j3ps0c37ncbr3c8dh0000gn/T/tmpspux6y4u/precomputed/neuropils/mesh/segment_properties\n",
      "creating: /private/var/folders/_l/lrfvj_8j3ps0c37ncbr3c8dh0000gn/T/tmpspux6y4u/precomputed/neuropils/mesh/segment_names\n",
      "Using layout : xy-3d\n"
     ]
    },
    {
     "name": "stderr",
     "output_type": "stream",
     "text": [
      "127.0.0.1 - - [26/Feb/2021 13:33:47] \"GET /precomputed/flywiremeshes/mesh/info HTTP/1.1\" 200 -\n",
      "127.0.0.1 - - [26/Feb/2021 13:33:47] \"GET /precomputed/neuropils/mesh/info HTTP/1.1\" 200 -\n",
      "127.0.0.1 - - [26/Feb/2021 13:33:47] \"GET /precomputed/flywiremeshes/mesh/segment_properties/info HTTP/1.1\" 200 -\n",
      "127.0.0.1 - - [26/Feb/2021 13:33:47] \"GET /precomputed/neuropils/mesh/segment_properties/info HTTP/1.1\" 200 -\n",
      "127.0.0.1 - - [26/Feb/2021 13:34:32] \"GET /precomputed/neuropils/mesh/100:0 HTTP/1.1\" 200 -\n",
      "127.0.0.1 - - [26/Feb/2021 13:34:32] \"GET /precomputed/neuropils/mesh/200:0 HTTP/1.1\" 200 -\n",
      "127.0.0.1 - - [26/Feb/2021 13:34:32] \"GET /precomputed/neuropils/mesh/100 HTTP/1.1\" 200 -\n",
      "127.0.0.1 - - [26/Feb/2021 13:34:32] \"GET /precomputed/neuropils/mesh/200 HTTP/1.1\" 200 -\n",
      "127.0.0.1 - - [26/Feb/2021 13:34:37] \"GET /precomputed/flywiremeshes/mesh/720575940633919863:0 HTTP/1.1\" 200 -\n",
      "127.0.0.1 - - [26/Feb/2021 13:34:37] \"GET /precomputed/flywiremeshes/mesh/720575940633919863 HTTP/1.1\" 200 -\n",
      "127.0.0.1 - - [26/Feb/2021 13:35:28] \"GET /precomputed/flywiremeshes/mesh/info HTTP/1.1\" 304 -\n",
      "127.0.0.1 - - [26/Feb/2021 13:35:28] \"GET /precomputed/neuropils/mesh/info HTTP/1.1\" 304 -\n",
      "127.0.0.1 - - [26/Feb/2021 13:35:28] \"GET /precomputed/flywiremeshes/mesh/segment_properties/info HTTP/1.1\" 304 -\n",
      "127.0.0.1 - - [26/Feb/2021 13:35:28] \"GET /precomputed/neuropils/mesh/segment_properties/info HTTP/1.1\" 304 -\n",
      "127.0.0.1 - - [26/Feb/2021 13:35:28] \"GET /precomputed/flywiremeshes/mesh/720575940633919863:0 HTTP/1.1\" 304 -\n",
      "127.0.0.1 - - [26/Feb/2021 13:35:28] \"GET /precomputed/flywiremeshes/mesh/720575940633919863 HTTP/1.1\" 200 -\n"
     ]
    }
   ],
   "source": [
    "tmpviewer = create_nglayer(layer_kws = {'type': 'volumes','source': [LAL_neuropil,FB_neuropil],\n",
    "                                        'name': 'neuropils','color': ['magenta', 'cyan'], 'alpha': 0.3})"
   ]
  },
  {
   "cell_type": "code",
   "execution_count": null,
   "metadata": {},
   "outputs": [],
   "source": []
  },
  {
   "cell_type": "markdown",
   "metadata": {},
   "source": [
    "# Step 6: After injection poke around the flywire mesh"
   ]
  },
  {
   "cell_type": "markdown",
   "metadata": {},
   "source": [
    "### The yellow mesh is the flywire neuron mesh and the green mesh is the fafb poke around match. The magenta region is the LAL, and the cyan region is the FB. The red dots are presynapses, the blue dots are postsynapses. You can see that the putativeDNa02_a is indeed getting many synapses from LAL"
   ]
  },
  {
   "cell_type": "markdown",
   "metadata": {},
   "source": [
    "![alt text](pics/flywire2fafb.png \"Title\")"
   ]
  },
  {
   "cell_type": "code",
   "execution_count": null,
   "metadata": {},
   "outputs": [],
   "source": []
  },
  {
   "cell_type": "code",
   "execution_count": null,
   "metadata": {},
   "outputs": [],
   "source": []
  },
  {
   "cell_type": "code",
   "execution_count": 23,
   "metadata": {},
   "outputs": [
    {
     "name": "stdout",
     "output_type": "stream",
     "text": [
      "closing already existing ng viewer\n"
     ]
    }
   ],
   "source": [
    "closeviewer()"
   ]
  },
  {
   "cell_type": "code",
   "execution_count": 24,
   "metadata": {},
   "outputs": [
    {
     "name": "stdout",
     "output_type": "stream",
     "text": [
      "Closing server at http://127.0.0.1:8000\n",
      "Cleaning directory at /private/var/folders/_l/lrfvj_8j3ps0c37ncbr3c8dh0000gn/T/tmpspux6y4u\n"
     ]
    }
   ],
   "source": [
    "closedataserver()"
   ]
  },
  {
   "cell_type": "code",
   "execution_count": null,
   "metadata": {},
   "outputs": [],
   "source": []
  },
  {
   "cell_type": "code",
   "execution_count": null,
   "metadata": {},
   "outputs": [],
   "source": []
  },
  {
   "cell_type": "code",
   "execution_count": null,
   "metadata": {},
   "outputs": [],
   "source": []
  }
 ],
 "metadata": {
  "kernelspec": {
   "display_name": "Python 3",
   "language": "python",
   "name": "python3"
  },
  "language_info": {
   "codemirror_mode": {
    "name": "ipython",
    "version": 3
   },
   "file_extension": ".py",
   "mimetype": "text/x-python",
   "name": "python",
   "nbconvert_exporter": "python",
   "pygments_lexer": "ipython3",
   "version": "3.8.5"
  }
 },
 "nbformat": 4,
 "nbformat_minor": 2
}
