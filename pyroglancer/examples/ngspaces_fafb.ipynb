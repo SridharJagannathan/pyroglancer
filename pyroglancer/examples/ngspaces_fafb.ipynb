{
 "cells": [
  {
   "cell_type": "markdown",
   "metadata": {},
   "source": [
    "# Illustrating of ngspace configuration with `FAFB` dataset"
   ]
  },
  {
   "cell_type": "markdown",
   "metadata": {},
   "source": [
    "## Step 1: Import neccesary library modules now"
   ]
  },
  {
   "cell_type": "code",
   "execution_count": 1,
   "metadata": {},
   "outputs": [],
   "source": [
    "import navis\n",
    "import fafbseg\n",
    "import pymaid"
   ]
  },
  {
   "cell_type": "code",
   "execution_count": 2,
   "metadata": {},
   "outputs": [],
   "source": [
    "import pandas as pd\n",
    "import numpy as np\n",
    "import os\n",
    "from copy import deepcopy"
   ]
  },
  {
   "cell_type": "code",
   "execution_count": 3,
   "metadata": {},
   "outputs": [],
   "source": [
    "from ipywidgets import Image"
   ]
  },
  {
   "cell_type": "code",
   "execution_count": 4,
   "metadata": {},
   "outputs": [],
   "source": [
    "from pyroglancer.layers import create_nglayer\n",
    "from pyroglancer.localserver import startdataserver, closedataserver\n",
    "from pyroglancer.ngviewer import openviewer, closeviewer,setviewerstate\n",
    "from pyroglancer.ngspaces import create_ngspace\n",
    "from pyroglancer.createconfig import createconfig"
   ]
  },
  {
   "cell_type": "markdown",
   "metadata": {},
   "source": [
    "## Step 2: Set configurations to fetch from data from `CATMAID`"
   ]
  },
  {
   "cell_type": "code",
   "execution_count": 5,
   "metadata": {},
   "outputs": [],
   "source": [
    "publicurl = 'https://fafb.catmaid.virtualflybrain.org/'"
   ]
  },
  {
   "cell_type": "code",
   "execution_count": 6,
   "metadata": {},
   "outputs": [
    {
     "name": "stderr",
     "output_type": "stream",
     "text": [
      "INFO  : Global CATMAID instance set. Caching is ON. (pymaid)\n"
     ]
    }
   ],
   "source": [
    "working_rm = pymaid.CatmaidInstance(publicurl, api_token=None, project_id = 1)"
   ]
  },
  {
   "cell_type": "markdown",
   "metadata": {},
   "source": [
    "## Step 3: Get sample skids and neuropil meshes from `CATMAID`"
   ]
  },
  {
   "cell_type": "code",
   "execution_count": 7,
   "metadata": {},
   "outputs": [],
   "source": [
    "sample_skids = ['40637','27295','57311','2863104','57323']"
   ]
  },
  {
   "cell_type": "code",
   "execution_count": 8,
   "metadata": {},
   "outputs": [
    {
     "data": {
      "application/vnd.jupyter.widget-view+json": {
       "model_id": "",
       "version_major": 2,
       "version_minor": 0
      },
      "text/plain": [
       "HBox(children=(HTML(value='Fetch neurons'), FloatProgress(value=0.0, max=5.0), HTML(value='')))"
      ]
     },
     "metadata": {},
     "output_type": "display_data"
    },
    {
     "data": {
      "application/vnd.jupyter.widget-view+json": {
       "model_id": "",
       "version_major": 2,
       "version_minor": 0
      },
      "text/plain": [
       "HBox(children=(HTML(value='Make nrn'), FloatProgress(value=0.0, max=5.0), HTML(value='')))"
      ]
     },
     "metadata": {},
     "output_type": "display_data"
    }
   ],
   "source": [
    "catmiad_neuronlist=pymaid.get_neurons(sample_skids,remote_instance = working_rm)"
   ]
  },
  {
   "cell_type": "code",
   "execution_count": 9,
   "metadata": {},
   "outputs": [
    {
     "data": {
      "application/vnd.jupyter.widget-view+json": {
       "model_id": "",
       "version_major": 2,
       "version_minor": 0
      },
      "text/plain": [
       "HBox(children=(HTML(value='Volumes'), FloatProgress(value=0.0, max=2.0), HTML(value='')))"
      ]
     },
     "metadata": {},
     "output_type": "display_data"
    }
   ],
   "source": [
    "vols = pymaid.get_volume(['AL_L', 'AL_R'], color=(255, 0, 0, .2))"
   ]
  },
  {
   "cell_type": "code",
   "execution_count": 10,
   "metadata": {},
   "outputs": [
    {
     "data": {
      "text/plain": [
       "{'AL_R': <navis.Volume(name=AL_R, id=200, color=(255, 0, 0, 0.2), vertices.shape=(622, 3), faces.shape=(1240, 3))>,\n",
       " 'AL_L': <navis.Volume(name=AL_L, id=300, color=(255, 0, 0, 0.2), vertices.shape=(612, 3), faces.shape=(1228, 3))>}"
      ]
     },
     "execution_count": 10,
     "metadata": {},
     "output_type": "execute_result"
    }
   ],
   "source": [
    "vols['AL_R'].id = 200\n",
    "vols['AL_L'].id = 300\n",
    "vols"
   ]
  },
  {
   "cell_type": "markdown",
   "metadata": {},
   "source": [
    "## Step 4: Start the dataserver to host precomputed data.."
   ]
  },
  {
   "cell_type": "code",
   "execution_count": 11,
   "metadata": {},
   "outputs": [
    {
     "name": "stdout",
     "output_type": "stream",
     "text": [
      "Serving data from:  /var/folders/_l/lrfvj_8j3ps0c37ncbr3c8dh0000gn/T/tmp6jqw2azy\n",
      "Serving directory at http://127.0.0.1:8000\n"
     ]
    }
   ],
   "source": [
    "startdataserver()"
   ]
  },
  {
   "cell_type": "markdown",
   "metadata": {},
   "source": [
    "## Step 5: Start a basic neuroglancer local session with all `FAFB` configurations.."
   ]
  },
  {
   "cell_type": "code",
   "execution_count": 12,
   "metadata": {},
   "outputs": [],
   "source": [
    "configdata = [dict(ngspace='FAFB',\n",
    "                   dimension=dict(x=1, y=1,z=1,units='um'),\n",
    "                   voxelsize=dict(x=4,y=4,z=40,units='nm'),\n",
    "                   layers=dict(\n",
    "                       fafb_v14_clahe=dict(\n",
    "                            type='image',\n",
    "                            source='precomputed://gs://neuroglancer-fafb-data/fafb_v14/fafb_v14_clahe'\n",
    "                               ),\n",
    "                       fafb_surf=dict(\n",
    "                            type='surfacemesh',\n",
    "                            source='vtk://https://storage.googleapis.com/neuroglancer-fafb-data/elmr-data/FAFB.surf.vtk.gz'\n",
    "                               ))\n",
    "                  )]"
   ]
  },
  {
   "cell_type": "code",
   "execution_count": 13,
   "metadata": {},
   "outputs": [],
   "source": [
    "configfileloc = '/Users/sri/.pyroglancer/config_temp.yml'"
   ]
  },
  {
   "cell_type": "code",
   "execution_count": 14,
   "metadata": {},
   "outputs": [
    {
     "name": "stdout",
     "output_type": "stream",
     "text": [
      "setting default config file loc\n"
     ]
    }
   ],
   "source": [
    "createconfig(configdata, configfileloc)"
   ]
  },
  {
   "cell_type": "code",
   "execution_count": 15,
   "metadata": {},
   "outputs": [],
   "source": [
    "layer_kws = {'ngspace': 'FAFB'}"
   ]
  },
  {
   "cell_type": "code",
   "execution_count": 16,
   "metadata": {},
   "outputs": [
    {
     "name": "stdout",
     "output_type": "stream",
     "text": [
      "config file loc is at: None\n",
      "using default location at:  /Users/sri/.pyroglancer/config_temp.yml\n",
      "Neuroglancer viewer created at:  http://127.0.0.1:52941/v/e39487098df285080f7e30a98f94b163dda1909f/\n",
      "config file loc is at: None\n",
      "using default location at:  /Users/sri/.pyroglancer/config_temp.yml\n",
      "Dimensions are in : FAFB\n",
      "Layer created:  image\n",
      "config file loc is at: None\n",
      "using default location at:  /Users/sri/.pyroglancer/config_temp.yml\n",
      "Using layout : xy-3d\n",
      "config file loc is at: None\n",
      "using default location at:  /Users/sri/.pyroglancer/config_temp.yml\n",
      "Dimensions are in : FAFB\n",
      "Layer created:  surfacemesh\n",
      "config file loc is at: None\n",
      "using default location at:  /Users/sri/.pyroglancer/config_temp.yml\n",
      "Using layout : xy-3d\n"
     ]
    }
   ],
   "source": [
    "create_ngspace(layer_kws)"
   ]
  },
  {
   "cell_type": "markdown",
   "metadata": {},
   "source": [
    "## Step 6: Add skids to neuroglancer layers.."
   ]
  },
  {
   "cell_type": "code",
   "execution_count": 17,
   "metadata": {},
   "outputs": [
    {
     "name": "stdout",
     "output_type": "stream",
     "text": [
      "config file loc is at: None\n",
      "using default location at:  /Users/sri/.pyroglancer/config_temp.yml\n",
      "Dimensions are in : FAFB\n",
      "Layer created:  skeletons\n",
      "/private/var/folders/_l/lrfvj_8j3ps0c37ncbr3c8dh0000gn/T/tmp6jqw2azy/precomputed/skeletons/40637\n",
      "/private/var/folders/_l/lrfvj_8j3ps0c37ncbr3c8dh0000gn/T/tmp6jqw2azy/precomputed/skeletons/27295\n",
      "/private/var/folders/_l/lrfvj_8j3ps0c37ncbr3c8dh0000gn/T/tmp6jqw2azy/precomputed/skeletons/57311\n",
      "/private/var/folders/_l/lrfvj_8j3ps0c37ncbr3c8dh0000gn/T/tmp6jqw2azy/precomputed/skeletons/2863104\n",
      "/private/var/folders/_l/lrfvj_8j3ps0c37ncbr3c8dh0000gn/T/tmp6jqw2azy/precomputed/skeletons/57323\n",
      "creating: /private/var/folders/_l/lrfvj_8j3ps0c37ncbr3c8dh0000gn/T/tmp6jqw2azy/precomputed/skeletons/seg_props\n",
      "Using layout : xy-3d\n"
     ]
    }
   ],
   "source": [
    "tmpviewer = create_nglayer(layer_kws = {'type': 'skeletons',\n",
    "                                        'source': catmiad_neuronlist,\n",
    "                                        'color': 'green',\n",
    "                                        'alpha': 0.5})"
   ]
  },
  {
   "cell_type": "markdown",
   "metadata": {},
   "source": [
    "## Step 7: Add synapses to neuroglancer layers.."
   ]
  },
  {
   "cell_type": "code",
   "execution_count": 18,
   "metadata": {},
   "outputs": [
    {
     "name": "stdout",
     "output_type": "stream",
     "text": [
      "config file loc is at: None\n",
      "using default location at:  /Users/sri/.pyroglancer/config_temp.yml\n",
      "Dimensions are in : FAFB\n",
      "Layer created:  synapses\n",
      "config file loc is at: None\n",
      "using default location at:  /Users/sri/.pyroglancer/config_temp.yml\n",
      "Dimensions are in : FAFB\n",
      "creating: /private/var/folders/_l/lrfvj_8j3ps0c37ncbr3c8dh0000gn/T/tmp6jqw2azy/precomputed/presynapses\n",
      "creating: /private/var/folders/_l/lrfvj_8j3ps0c37ncbr3c8dh0000gn/T/tmp6jqw2azy/precomputed/postsynapses\n",
      "Adding neuron:  40637\n",
      "making: /private/var/folders/_l/lrfvj_8j3ps0c37ncbr3c8dh0000gn/T/tmp6jqw2azy/precomputed/presynapses/presynapses_cell/40637\n",
      "making: /private/var/folders/_l/lrfvj_8j3ps0c37ncbr3c8dh0000gn/T/tmp6jqw2azy/precomputed/postsynapses/postsynapses_cell/40637\n",
      "Adding neuron:  27295\n",
      "making: /private/var/folders/_l/lrfvj_8j3ps0c37ncbr3c8dh0000gn/T/tmp6jqw2azy/precomputed/presynapses/presynapses_cell/27295\n",
      "making: /private/var/folders/_l/lrfvj_8j3ps0c37ncbr3c8dh0000gn/T/tmp6jqw2azy/precomputed/postsynapses/postsynapses_cell/27295\n",
      "Adding neuron:  57311\n",
      "making: /private/var/folders/_l/lrfvj_8j3ps0c37ncbr3c8dh0000gn/T/tmp6jqw2azy/precomputed/presynapses/presynapses_cell/57311\n",
      "making: /private/var/folders/_l/lrfvj_8j3ps0c37ncbr3c8dh0000gn/T/tmp6jqw2azy/precomputed/postsynapses/postsynapses_cell/57311\n",
      "Adding neuron:  2863104\n",
      "making: /private/var/folders/_l/lrfvj_8j3ps0c37ncbr3c8dh0000gn/T/tmp6jqw2azy/precomputed/presynapses/presynapses_cell/2863104\n",
      "making: /private/var/folders/_l/lrfvj_8j3ps0c37ncbr3c8dh0000gn/T/tmp6jqw2azy/precomputed/postsynapses/postsynapses_cell/2863104\n",
      "Adding neuron:  57323\n",
      "making: /private/var/folders/_l/lrfvj_8j3ps0c37ncbr3c8dh0000gn/T/tmp6jqw2azy/precomputed/presynapses/presynapses_cell/57323\n",
      "making: /private/var/folders/_l/lrfvj_8j3ps0c37ncbr3c8dh0000gn/T/tmp6jqw2azy/precomputed/postsynapses/postsynapses_cell/57323\n",
      "Using layout : xy-3d\n"
     ]
    },
    {
     "name": "stderr",
     "output_type": "stream",
     "text": [
      "127.0.0.1 - - [30/Apr/2021 23:37:45] \"GET /precomputed/skeletons/info HTTP/1.1\" 200 -\n",
      "127.0.0.1 - - [30/Apr/2021 23:37:45] \"GET /precomputed/skeletons/seg_props/info HTTP/1.1\" 200 -\n"
     ]
    }
   ],
   "source": [
    "tmpviewer = create_nglayer(layer_kws = {'type': 'synapses',\n",
    "                                        'source': catmiad_neuronlist})"
   ]
  },
  {
   "cell_type": "markdown",
   "metadata": {},
   "source": [
    "## Step 8: Add neuropil meshes to neuroglancer layers.."
   ]
  },
  {
   "cell_type": "code",
   "execution_count": 19,
   "metadata": {},
   "outputs": [
    {
     "name": "stdout",
     "output_type": "stream",
     "text": [
      "config file loc is at: None\n",
      "using default location at:  /Users/sri/.pyroglancer/config_temp.yml\n",
      "Dimensions are in : FAFB\n",
      "Layer created:  volumes\n",
      "mesh/200\n",
      "Seg id is: 200\n",
      "Full filepath: /private/var/folders/_l/lrfvj_8j3ps0c37ncbr3c8dh0000gn/T/tmp6jqw2azy/precomputed/neuropils/mesh/200\n",
      "mesh/300\n",
      "Seg id is: 300\n",
      "Full filepath: /private/var/folders/_l/lrfvj_8j3ps0c37ncbr3c8dh0000gn/T/tmp6jqw2azy/precomputed/neuropils/mesh/300\n",
      "creating: /private/var/folders/_l/lrfvj_8j3ps0c37ncbr3c8dh0000gn/T/tmp6jqw2azy/precomputed/neuropils/mesh/segment_properties\n",
      "creating: /private/var/folders/_l/lrfvj_8j3ps0c37ncbr3c8dh0000gn/T/tmp6jqw2azy/precomputed/neuropils/mesh/segment_names\n",
      "Using layout : xy-3d\n"
     ]
    },
    {
     "name": "stderr",
     "output_type": "stream",
     "text": [
      "127.0.0.1 - - [30/Apr/2021 23:37:45] \"GET /precomputed/presynapses/info HTTP/1.1\" 200 -\n",
      "127.0.0.1 - - [30/Apr/2021 23:37:45] \"GET /precomputed/postsynapses/info HTTP/1.1\" 200 -\n"
     ]
    }
   ],
   "source": [
    "tmpviewer = create_nglayer(layer_kws = {'type': 'volumes','source': [vols['AL_R'],vols['AL_L']],\n",
    "                                        'name': 'neuropils','color': ['magenta', 'blue'], 'alpha': 0.3})"
   ]
  },
  {
   "cell_type": "markdown",
   "metadata": {},
   "source": [
    "## Step 9: Add annotations meshes to neuroglancer layers.."
   ]
  },
  {
   "cell_type": "code",
   "execution_count": 20,
   "metadata": {},
   "outputs": [],
   "source": [
    "temp_pts = pd.DataFrame([[123072, 47001, 3375]],columns=['x','y','z'])\n",
    "temp_pts = pd.DataFrame([[123072, 47001, 3375], [120000, 17001, 3000]], columns=['x', 'y', 'z'])\n",
    "temp_pts['description'] = ['center_pt','above_pt']"
   ]
  },
  {
   "cell_type": "code",
   "execution_count": 21,
   "metadata": {},
   "outputs": [
    {
     "name": "stdout",
     "output_type": "stream",
     "text": [
      "config file loc is at: None\n",
      "using default location at:  /Users/sri/.pyroglancer/config_temp.yml\n",
      "Dimensions are in : FAFB\n",
      "Layer created:  points\n",
      "config file loc is at: None\n",
      "using default location at:  /Users/sri/.pyroglancer/config_temp.yml\n",
      "Dimensions are in : FAFB\n",
      "using default location at:  /Users/sri/.pyroglancer/config_temp.yml\n",
      "using  voxel space with scale:  [4, 4, 40]\n",
      "creating: /private/var/folders/_l/lrfvj_8j3ps0c37ncbr3c8dh0000gn/T/tmp6jqw2azy/precomputed/landmarks\n",
      "/private/var/folders/_l/lrfvj_8j3ps0c37ncbr3c8dh0000gn/T/tmp6jqw2azy/precomputed/landmarks/spatial0/0_0_0\n",
      "/private/var/folders/_l/lrfvj_8j3ps0c37ncbr3c8dh0000gn/T/tmp6jqw2azy/precomputed/landmarks/by_id/0\n",
      "/private/var/folders/_l/lrfvj_8j3ps0c37ncbr3c8dh0000gn/T/tmp6jqw2azy/precomputed/landmarks/by_id/1\n",
      "Using layout : xy-3d\n"
     ]
    },
    {
     "name": "stderr",
     "output_type": "stream",
     "text": [
      "127.0.0.1 - - [30/Apr/2021 23:37:45] \"GET /precomputed/neuropils/mesh/info HTTP/1.1\" 200 -\n",
      "127.0.0.1 - - [30/Apr/2021 23:37:45] \"GET /precomputed/landmarks/info HTTP/1.1\" 200 -\n",
      "127.0.0.1 - - [30/Apr/2021 23:37:45] \"GET /precomputed/neuropils/mesh/segment_properties/info HTTP/1.1\" 200 -\n",
      "127.0.0.1 - - [30/Apr/2021 23:37:45] code 404, message File not found\n",
      "127.0.0.1 - - [30/Apr/2021 23:37:45] \"GET /precomputed/presynapses/spatial0/0_0_0 HTTP/1.1\" 404 -\n",
      "127.0.0.1 - - [30/Apr/2021 23:37:45] code 404, message File not found\n",
      "127.0.0.1 - - [30/Apr/2021 23:37:45] \"GET /precomputed/postsynapses/spatial0/0_0_0 HTTP/1.1\" 404 -\n",
      "127.0.0.1 - - [30/Apr/2021 23:37:45] \"GET /precomputed/landmarks/spatial0/0_0_0 HTTP/1.1\" 200 -\n",
      "127.0.0.1 - - [30/Apr/2021 23:38:19] \"GET /precomputed/skeletons/57311 HTTP/1.1\" 200 -\n",
      "127.0.0.1 - - [30/Apr/2021 23:38:19] \"GET /precomputed/skeletons/2863104 HTTP/1.1\" 200 -\n",
      "127.0.0.1 - - [30/Apr/2021 23:38:19] \"GET /precomputed/skeletons/27295 HTTP/1.1\" 200 -\n",
      "127.0.0.1 - - [30/Apr/2021 23:38:19] \"GET /precomputed/skeletons/57323 HTTP/1.1\" 200 -\n",
      "127.0.0.1 - - [30/Apr/2021 23:38:19] \"GET /precomputed/skeletons/40637 HTTP/1.1\" 200 -\n",
      "127.0.0.1 - - [30/Apr/2021 23:38:19] \"GET /precomputed/presynapses/presynapses_cell/27295 HTTP/1.1\" 200 -\n",
      "127.0.0.1 - - [30/Apr/2021 23:38:19] \"GET /precomputed/presynapses/presynapses_cell/57311 HTTP/1.1\" 200 -\n",
      "127.0.0.1 - - [30/Apr/2021 23:38:19] \"GET /precomputed/postsynapses/postsynapses_cell/57323 HTTP/1.1\" 200 -\n",
      "127.0.0.1 - - [30/Apr/2021 23:38:19] \"GET /precomputed/postsynapses/postsynapses_cell/2863104 HTTP/1.1\" 200 -\n",
      "127.0.0.1 - - [30/Apr/2021 23:38:19] \"GET /precomputed/postsynapses/postsynapses_cell/27295 HTTP/1.1\" 200 -\n",
      "127.0.0.1 - - [30/Apr/2021 23:38:19] \"GET /precomputed/postsynapses/postsynapses_cell/40637 HTTP/1.1\" 200 -\n",
      "127.0.0.1 - - [30/Apr/2021 23:38:19] \"GET /precomputed/postsynapses/postsynapses_cell/57311 HTTP/1.1\" 200 -\n",
      "127.0.0.1 - - [30/Apr/2021 23:38:19] \"GET /precomputed/presynapses/presynapses_cell/40637 HTTP/1.1\" 200 -\n",
      "127.0.0.1 - - [30/Apr/2021 23:38:19] \"GET /precomputed/presynapses/presynapses_cell/57323 HTTP/1.1\" 200 -\n",
      "127.0.0.1 - - [30/Apr/2021 23:38:19] \"GET /precomputed/presynapses/presynapses_cell/2863104 HTTP/1.1\" 200 -\n",
      "127.0.0.1 - - [30/Apr/2021 23:38:24] \"GET /precomputed/neuropils/mesh/300:0 HTTP/1.1\" 200 -\n",
      "127.0.0.1 - - [30/Apr/2021 23:38:24] \"GET /precomputed/neuropils/mesh/200:0 HTTP/1.1\" 200 -\n",
      "127.0.0.1 - - [30/Apr/2021 23:38:24] \"GET /precomputed/neuropils/mesh/300 HTTP/1.1\" 200 -\n",
      "127.0.0.1 - - [30/Apr/2021 23:38:24] \"GET /precomputed/neuropils/mesh/200 HTTP/1.1\" 200 -\n"
     ]
    }
   ],
   "source": [
    "#plot landmarks..\n",
    "tmpviewer = create_nglayer(layer_kws = {'type': 'points','name': 'landmarks',\n",
    "                                        \"annotationstatetype\": 'precomputed',\n",
    "                                        'source': temp_pts,'color': 'orange'})"
   ]
  },
  {
   "cell_type": "markdown",
   "metadata": {},
   "source": [
    "# Screenshot the neuroglancer instance.."
   ]
  },
  {
   "cell_type": "code",
   "execution_count": 22,
   "metadata": {},
   "outputs": [],
   "source": [
    "#layout = {'type':'xy-3d','orthographicProjection':'True'}"
   ]
  },
  {
   "cell_type": "code",
   "execution_count": 23,
   "metadata": {},
   "outputs": [],
   "source": [
    "tmpviewer = setviewerstate(axis_lines = False, bounding_box = False)"
   ]
  },
  {
   "cell_type": "code",
   "execution_count": 24,
   "metadata": {},
   "outputs": [
    {
     "data": {
      "application/vnd.jupyter.widget-view+json": {
       "model_id": "b1c1e93c3c8c437aa094090ee2e0a961",
       "version_major": 2,
       "version_minor": 0
      },
      "text/plain": [
       "Image(value=b'\\x89PNG\\r\\n\\x1a\\n\\x00\\x00\\x00\\rIHDR\\x00\\x00\\x07\\x80\\x00\\x00\\x03{\\x08\\x06\\x00\\x00\\x00\\xa4\\xb8\\x87…"
      ]
     },
     "metadata": {},
     "output_type": "display_data"
    }
   ],
   "source": [
    "screenshot = tmpviewer.screenshot(size=[800, 500])\n",
    "screenshot_image = Image(value=screenshot.screenshot.image)\n",
    "screenshot_image"
   ]
  },
  {
   "cell_type": "code",
   "execution_count": null,
   "metadata": {},
   "outputs": [],
   "source": []
  },
  {
   "cell_type": "markdown",
   "metadata": {},
   "source": [
    "## Step 10: Close the viewer and dataserver.."
   ]
  },
  {
   "cell_type": "code",
   "execution_count": 25,
   "metadata": {},
   "outputs": [
    {
     "name": "stdout",
     "output_type": "stream",
     "text": [
      "closing already existing ng viewer\n"
     ]
    }
   ],
   "source": [
    "closeviewer()"
   ]
  },
  {
   "cell_type": "code",
   "execution_count": 26,
   "metadata": {},
   "outputs": [
    {
     "name": "stdout",
     "output_type": "stream",
     "text": [
      "Closing server at http://127.0.0.1:8000\n",
      "Cleaning directory at /private/var/folders/_l/lrfvj_8j3ps0c37ncbr3c8dh0000gn/T/tmp6jqw2azy\n"
     ]
    }
   ],
   "source": [
    "closedataserver()"
   ]
  },
  {
   "cell_type": "code",
   "execution_count": null,
   "metadata": {},
   "outputs": [],
   "source": []
  },
  {
   "cell_type": "code",
   "execution_count": null,
   "metadata": {},
   "outputs": [],
   "source": []
  }
 ],
 "metadata": {
  "kernelspec": {
   "display_name": "Python 3",
   "language": "python",
   "name": "python3"
  },
  "language_info": {
   "codemirror_mode": {
    "name": "ipython",
    "version": 3
   },
   "file_extension": ".py",
   "mimetype": "text/x-python",
   "name": "python",
   "nbconvert_exporter": "python",
   "pygments_lexer": "ipython3",
   "version": "3.8.5"
  }
 },
 "nbformat": 4,
 "nbformat_minor": 2
}
