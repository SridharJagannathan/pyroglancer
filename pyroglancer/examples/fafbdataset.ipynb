{
 "cells": [
  {
   "cell_type": "code",
   "execution_count": 1,
   "metadata": {},
   "outputs": [
    {
     "data": {
      "text/html": [
       "        <script type=\"text/javascript\">\n",
       "        window.PlotlyConfig = {MathJaxConfig: 'local'};\n",
       "        if (window.MathJax) {MathJax.Hub.Config({SVG: {font: \"STIX-Web\"}});}\n",
       "        if (typeof require !== 'undefined') {\n",
       "        require.undef(\"plotly\");\n",
       "        requirejs.config({\n",
       "            paths: {\n",
       "                'plotly': ['https://cdn.plot.ly/plotly-latest.min']\n",
       "            }\n",
       "        });\n",
       "        require(['plotly'], function(Plotly) {\n",
       "            window._Plotly = Plotly;\n",
       "        });\n",
       "        }\n",
       "        </script>\n",
       "        "
      ]
     },
     "metadata": {},
     "output_type": "display_data"
    }
   ],
   "source": [
    "import navis\n",
    "import fafbseg\n",
    "import pymaid"
   ]
  },
  {
   "cell_type": "code",
   "execution_count": 2,
   "metadata": {},
   "outputs": [],
   "source": [
    "import pandas as pd\n",
    "import numpy as np\n",
    "import os\n",
    "from copy import deepcopy"
   ]
  },
  {
   "cell_type": "code",
   "execution_count": 3,
   "metadata": {},
   "outputs": [],
   "source": [
    "from pyroglancer.layers import create_nglayer\n",
    "from pyroglancer.localserver import startdataserver, closedataserver\n",
    "from pyroglancer.ngviewer import openviewer, closeviewer\n",
    "from pyroglancer.ngspaces import create_ngspace"
   ]
  },
  {
   "cell_type": "code",
   "execution_count": null,
   "metadata": {},
   "outputs": [],
   "source": []
  },
  {
   "cell_type": "code",
   "execution_count": null,
   "metadata": {},
   "outputs": [],
   "source": [
    "working_rm = pymaid.CatmaidInstance('https://neuropil.janelia.org/tracing/fafb/v14',\n",
    "                            api_token=os.environ['TOKEN'],\n",
    "                            http_user=os.environ['authname'], # omit if not required\n",
    "                            http_password=os.environ['authpassword'], project_id = 1) # omit if not required"
   ]
  },
  {
   "cell_type": "code",
   "execution_count": null,
   "metadata": {},
   "outputs": [],
   "source": [
    "#sample_skids = ['40637','27295','57311','2863104','57323']\n",
    "sample_skids = ['40637']"
   ]
  },
  {
   "cell_type": "code",
   "execution_count": null,
   "metadata": {},
   "outputs": [],
   "source": [
    "catmiad_neuronlist=pymaid.get_neurons(sample_skids,remote_instance = working_rm)"
   ]
  },
  {
   "cell_type": "code",
   "execution_count": null,
   "metadata": {},
   "outputs": [],
   "source": []
  },
  {
   "cell_type": "code",
   "execution_count": null,
   "metadata": {},
   "outputs": [],
   "source": [
    "vols = pymaid.get_volume('v14.neuropil', color=(255, 0, 0, .2))"
   ]
  },
  {
   "cell_type": "code",
   "execution_count": null,
   "metadata": {},
   "outputs": [],
   "source": []
  },
  {
   "cell_type": "code",
   "execution_count": 4,
   "metadata": {},
   "outputs": [
    {
     "name": "stdout",
     "output_type": "stream",
     "text": [
      "Serving data from:  /var/folders/6x/d_rd5yr937vbq8f46d4yzrsw0000gn/T/tmp88plqyi1\n",
      "Serving directory at http://127.0.0.1:8000\n"
     ]
    }
   ],
   "source": [
    "startdataserver()"
   ]
  },
  {
   "cell_type": "code",
   "execution_count": 5,
   "metadata": {},
   "outputs": [
    {
     "name": "stdout",
     "output_type": "stream",
     "text": [
      "using default location at:  ~/.pyroglancer/config.yml\n",
      "Neuroglancer viewer created at:  http://127.0.0.1:49325/v/404cf81c7feadfad9d8b83a80e9959d5091d254f/\n",
      "using default location at:  ~/.pyroglancer/config.yml\n",
      "Dimensions are in : FAFB\n",
      "Layer created:  image\n",
      "using default location at:  ~/.pyroglancer/config.yml\n",
      "Using layout : xy-3d\n",
      "using default location at:  ~/.pyroglancer/config.yml\n",
      "Dimensions are in : FAFB\n",
      "Layer created:  image\n",
      "using default location at:  ~/.pyroglancer/config.yml\n",
      "Using layout : xy-3d\n",
      "using default location at:  ~/.pyroglancer/config.yml\n",
      "Dimensions are in : FAFB\n",
      "Layer created:  surfacemesh\n",
      "using default location at:  ~/.pyroglancer/config.yml\n",
      "Using layout : xy-3d\n",
      "using default location at:  ~/.pyroglancer/config.yml\n",
      "Dimensions are in : FAFB\n",
      "Layer created:  segmentation\n",
      "using default location at:  ~/.pyroglancer/config.yml\n",
      "Using layout : xy-3d\n",
      "using default location at:  ~/.pyroglancer/config.yml\n",
      "Dimensions are in : FAFB\n",
      "Layer created:  synapsepred\n",
      "using default location at:  ~/.pyroglancer/config.yml\n",
      "Using layout : xy-3d\n",
      "using default location at:  ~/.pyroglancer/config.yml\n",
      "Dimensions are in : FAFB\n",
      "Layer created:  synapticcleft\n",
      "using default location at:  ~/.pyroglancer/config.yml\n",
      "Using layout : xy-3d\n"
     ]
    }
   ],
   "source": [
    "create_ngspace('FAFB')"
   ]
  },
  {
   "cell_type": "code",
   "execution_count": null,
   "metadata": {},
   "outputs": [],
   "source": []
  },
  {
   "cell_type": "code",
   "execution_count": null,
   "metadata": {},
   "outputs": [],
   "source": [
    "tmpviewer = create_nglayer(layer_kws = {'type': 'skeletons','source': catmiad_neuronlist})"
   ]
  },
  {
   "cell_type": "code",
   "execution_count": null,
   "metadata": {},
   "outputs": [],
   "source": [
    "tmpviewer = create_nglayer(layer_kws = {'type': 'synapses','source': catmiad_neuronlist})"
   ]
  },
  {
   "cell_type": "code",
   "execution_count": null,
   "metadata": {},
   "outputs": [],
   "source": []
  },
  {
   "cell_type": "code",
   "execution_count": 6,
   "metadata": {},
   "outputs": [
    {
     "data": {
      "text/html": [
       "<div>\n",
       "<style scoped>\n",
       "    .dataframe tbody tr th:only-of-type {\n",
       "        vertical-align: middle;\n",
       "    }\n",
       "\n",
       "    .dataframe tbody tr th {\n",
       "        vertical-align: top;\n",
       "    }\n",
       "\n",
       "    .dataframe thead th {\n",
       "        text-align: right;\n",
       "    }\n",
       "</style>\n",
       "<table border=\"1\" class=\"dataframe\">\n",
       "  <thead>\n",
       "    <tr style=\"text-align: right;\">\n",
       "      <th></th>\n",
       "      <th>x</th>\n",
       "      <th>y</th>\n",
       "      <th>z</th>\n",
       "      <th>description</th>\n",
       "    </tr>\n",
       "  </thead>\n",
       "  <tbody>\n",
       "    <tr>\n",
       "      <th>0</th>\n",
       "      <td>123072</td>\n",
       "      <td>47001</td>\n",
       "      <td>3375</td>\n",
       "      <td>center_pt</td>\n",
       "    </tr>\n",
       "    <tr>\n",
       "      <th>1</th>\n",
       "      <td>120000</td>\n",
       "      <td>17001</td>\n",
       "      <td>3000</td>\n",
       "      <td>above_pt</td>\n",
       "    </tr>\n",
       "  </tbody>\n",
       "</table>\n",
       "</div>"
      ],
      "text/plain": [
       "        x      y     z description\n",
       "0  123072  47001  3375   center_pt\n",
       "1  120000  17001  3000    above_pt"
      ]
     },
     "execution_count": 6,
     "metadata": {},
     "output_type": "execute_result"
    }
   ],
   "source": [
    "temp_pts = pd.DataFrame([[123072, 47001, 3375]],columns=['x','y','z'])\n",
    "temp_pts = pd.DataFrame([[123072, 47001, 3375], [120000, 17001, 3000]], columns=['x', 'y', 'z'])\n",
    "temp_pts['description'] = ['center_pt','above_pt']\n",
    "temp_pts"
   ]
  },
  {
   "cell_type": "code",
   "execution_count": 7,
   "metadata": {},
   "outputs": [
    {
     "name": "stdout",
     "output_type": "stream",
     "text": [
      "using default location at:  ~/.pyroglancer/config.yml\n",
      "Dimensions are in : FAFB\n",
      "Layer created:  points\n",
      "using default location at:  ~/.pyroglancer/config.yml\n",
      "using  voxel space with scale:  [4, 4, 40]\n",
      "Using layout : xy-3d\n"
     ]
    }
   ],
   "source": [
    "#plot landmarks..\n",
    "tmpviewer = create_nglayer(layer_kws = {'type': 'points','name': 'landmarks',\n",
    "                                        'source': temp_pts,'color': 'red'})"
   ]
  },
  {
   "cell_type": "code",
   "execution_count": null,
   "metadata": {},
   "outputs": [],
   "source": []
  },
  {
   "cell_type": "code",
   "execution_count": 8,
   "metadata": {},
   "outputs": [
    {
     "name": "stdout",
     "output_type": "stream",
     "text": [
      "closing already existing ng viewer\n"
     ]
    }
   ],
   "source": [
    "closeviewer()"
   ]
  },
  {
   "cell_type": "code",
   "execution_count": 9,
   "metadata": {},
   "outputs": [
    {
     "name": "stdout",
     "output_type": "stream",
     "text": [
      "Closing server at http://127.0.0.1:8000\n",
      "Cleaning directory at /private/var/folders/6x/d_rd5yr937vbq8f46d4yzrsw0000gn/T/tmp88plqyi1\n"
     ]
    }
   ],
   "source": [
    "closedataserver()"
   ]
  },
  {
   "cell_type": "code",
   "execution_count": null,
   "metadata": {},
   "outputs": [],
   "source": []
  },
  {
   "cell_type": "code",
   "execution_count": null,
   "metadata": {},
   "outputs": [],
   "source": []
  },
  {
   "cell_type": "code",
   "execution_count": null,
   "metadata": {},
   "outputs": [],
   "source": []
  },
  {
   "cell_type": "code",
   "execution_count": null,
   "metadata": {},
   "outputs": [],
   "source": []
  },
  {
   "cell_type": "code",
   "execution_count": null,
   "metadata": {},
   "outputs": [],
   "source": []
  },
  {
   "cell_type": "code",
   "execution_count": null,
   "metadata": {},
   "outputs": [],
   "source": []
  },
  {
   "cell_type": "code",
   "execution_count": null,
   "metadata": {},
   "outputs": [],
   "source": []
  },
  {
   "cell_type": "code",
   "execution_count": null,
   "metadata": {},
   "outputs": [],
   "source": []
  },
  {
   "cell_type": "code",
   "execution_count": null,
   "metadata": {},
   "outputs": [],
   "source": []
  },
  {
   "cell_type": "code",
   "execution_count": null,
   "metadata": {},
   "outputs": [],
   "source": []
  },
  {
   "cell_type": "code",
   "execution_count": null,
   "metadata": {},
   "outputs": [],
   "source": []
  },
  {
   "cell_type": "code",
   "execution_count": null,
   "metadata": {},
   "outputs": [],
   "source": []
  },
  {
   "cell_type": "code",
   "execution_count": null,
   "metadata": {},
   "outputs": [],
   "source": []
  },
  {
   "cell_type": "code",
   "execution_count": null,
   "metadata": {},
   "outputs": [],
   "source": []
  },
  {
   "cell_type": "code",
   "execution_count": null,
   "metadata": {},
   "outputs": [],
   "source": []
  },
  {
   "cell_type": "code",
   "execution_count": null,
   "metadata": {},
   "outputs": [],
   "source": []
  },
  {
   "cell_type": "code",
   "execution_count": null,
   "metadata": {},
   "outputs": [],
   "source": []
  }
 ],
 "metadata": {
  "kernelspec": {
   "display_name": "Python 3",
   "language": "python",
   "name": "python3"
  },
  "language_info": {
   "codemirror_mode": {
    "name": "ipython",
    "version": 3
   },
   "file_extension": ".py",
   "mimetype": "text/x-python",
   "name": "python",
   "nbconvert_exporter": "python",
   "pygments_lexer": "ipython3",
   "version": "3.7.3"
  }
 },
 "nbformat": 4,
 "nbformat_minor": 2
}
