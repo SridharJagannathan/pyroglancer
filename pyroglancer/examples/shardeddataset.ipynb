{
 "cells": [
  {
   "cell_type": "markdown",
   "metadata": {},
   "source": [
    "# Illustrating of ngspace configuration with `FAFB` dataset"
   ]
  },
  {
   "cell_type": "markdown",
   "metadata": {},
   "source": [
    "## Step 1: Import neccesary library modules now"
   ]
  },
  {
   "cell_type": "code",
   "execution_count": 1,
   "metadata": {},
   "outputs": [],
   "source": [
    "import navis\n",
    "import fafbseg\n",
    "import pymaid"
   ]
  },
  {
   "cell_type": "code",
   "execution_count": 2,
   "metadata": {},
   "outputs": [],
   "source": [
    "import pandas as pd\n",
    "import numpy as np\n",
    "import os\n",
    "from copy import deepcopy"
   ]
  },
  {
   "cell_type": "code",
   "execution_count": 3,
   "metadata": {},
   "outputs": [],
   "source": [
    "from pyroglancer.layers import create_nglayer\n",
    "from pyroglancer.localserver import startdataserver, closedataserver\n",
    "from pyroglancer.ngviewer import openviewer, closeviewer\n",
    "from pyroglancer.ngspaces import create_ngspace"
   ]
  },
  {
   "cell_type": "markdown",
   "metadata": {},
   "source": [
    "## Step 2: Set configurations to fetch from data from `CATMAID`"
   ]
  },
  {
   "cell_type": "code",
   "execution_count": 4,
   "metadata": {},
   "outputs": [],
   "source": [
    "publicurl = 'https://fafb.catmaid.virtualflybrain.org/'"
   ]
  },
  {
   "cell_type": "code",
   "execution_count": 5,
   "metadata": {},
   "outputs": [
    {
     "name": "stderr",
     "output_type": "stream",
     "text": [
      "INFO  : Global CATMAID instance set. Caching is ON. (pymaid)\n",
      "INFO - 2021-06-08 15:44:27,690 - client - Global CATMAID instance set. Caching is ON.\n"
     ]
    }
   ],
   "source": [
    "working_rm = pymaid.CatmaidInstance(publicurl, api_token=None, project_id = 1)"
   ]
  },
  {
   "cell_type": "markdown",
   "metadata": {},
   "source": [
    "## Step 3: Get sample skids and neuropil meshes from `CATMAID`"
   ]
  },
  {
   "cell_type": "code",
   "execution_count": 6,
   "metadata": {},
   "outputs": [
    {
     "data": {
      "application/vnd.jupyter.widget-view+json": {
       "model_id": "b2da9b35574b453e889996170784c6d8",
       "version_major": 2,
       "version_minor": 0
      },
      "text/plain": [
       "HBox(children=(HTML(value='Fetching'), FloatProgress(value=0.0, max=113.0), HTML(value='')))"
      ]
     },
     "metadata": {},
     "output_type": "display_data"
    },
    {
     "name": "stderr",
     "output_type": "stream",
     "text": [
      "WARNING - 2021-06-08 15:44:28,615 - connectionpool - Connection pool is full, discarding connection: fafb.catmaid.virtualflybrain.org\n",
      "WARNING - 2021-06-08 15:44:28,626 - connectionpool - Connection pool is full, discarding connection: fafb.catmaid.virtualflybrain.org\n",
      "WARNING - 2021-06-08 15:44:28,629 - connectionpool - Connection pool is full, discarding connection: fafb.catmaid.virtualflybrain.org\n",
      "WARNING - 2021-06-08 15:44:28,654 - connectionpool - Connection pool is full, discarding connection: fafb.catmaid.virtualflybrain.org\n",
      "WARNING - 2021-06-08 15:44:28,688 - connectionpool - Connection pool is full, discarding connection: fafb.catmaid.virtualflybrain.org\n",
      "WARNING - 2021-06-08 15:44:28,689 - connectionpool - Connection pool is full, discarding connection: fafb.catmaid.virtualflybrain.org\n",
      "WARNING - 2021-06-08 15:44:28,699 - connectionpool - Connection pool is full, discarding connection: fafb.catmaid.virtualflybrain.org\n",
      "WARNING - 2021-06-08 15:44:28,737 - connectionpool - Connection pool is full, discarding connection: fafb.catmaid.virtualflybrain.org\n",
      "WARNING - 2021-06-08 15:44:28,737 - connectionpool - Connection pool is full, discarding connection: fafb.catmaid.virtualflybrain.org\n",
      "WARNING - 2021-06-08 15:44:28,738 - connectionpool - Connection pool is full, discarding connection: fafb.catmaid.virtualflybrain.org\n",
      "WARNING - 2021-06-08 15:44:28,786 - connectionpool - Connection pool is full, discarding connection: fafb.catmaid.virtualflybrain.org\n",
      "WARNING - 2021-06-08 15:44:28,792 - connectionpool - Connection pool is full, discarding connection: fafb.catmaid.virtualflybrain.org\n",
      "WARNING - 2021-06-08 15:44:28,793 - connectionpool - Connection pool is full, discarding connection: fafb.catmaid.virtualflybrain.org\n",
      "WARNING - 2021-06-08 15:44:28,829 - connectionpool - Connection pool is full, discarding connection: fafb.catmaid.virtualflybrain.org\n",
      "WARNING - 2021-06-08 15:44:28,835 - connectionpool - Connection pool is full, discarding connection: fafb.catmaid.virtualflybrain.org\n",
      "WARNING - 2021-06-08 15:44:28,842 - connectionpool - Connection pool is full, discarding connection: fafb.catmaid.virtualflybrain.org\n",
      "WARNING - 2021-06-08 15:44:28,879 - connectionpool - Connection pool is full, discarding connection: fafb.catmaid.virtualflybrain.org\n",
      "WARNING - 2021-06-08 15:44:28,880 - connectionpool - Connection pool is full, discarding connection: fafb.catmaid.virtualflybrain.org\n",
      "WARNING - 2021-06-08 15:44:28,889 - connectionpool - Connection pool is full, discarding connection: fafb.catmaid.virtualflybrain.org\n",
      "WARNING - 2021-06-08 15:44:28,919 - connectionpool - Connection pool is full, discarding connection: fafb.catmaid.virtualflybrain.org\n",
      "WARNING - 2021-06-08 15:44:28,928 - connectionpool - Connection pool is full, discarding connection: fafb.catmaid.virtualflybrain.org\n",
      "WARNING - 2021-06-08 15:44:28,931 - connectionpool - Connection pool is full, discarding connection: fafb.catmaid.virtualflybrain.org\n",
      "WARNING - 2021-06-08 15:44:28,966 - connectionpool - Connection pool is full, discarding connection: fafb.catmaid.virtualflybrain.org\n",
      "WARNING - 2021-06-08 15:44:28,971 - connectionpool - Connection pool is full, discarding connection: fafb.catmaid.virtualflybrain.org\n",
      "WARNING - 2021-06-08 15:44:28,982 - connectionpool - Connection pool is full, discarding connection: fafb.catmaid.virtualflybrain.org\n",
      "WARNING - 2021-06-08 15:44:29,007 - connectionpool - Connection pool is full, discarding connection: fafb.catmaid.virtualflybrain.org\n",
      "WARNING - 2021-06-08 15:44:29,010 - connectionpool - Connection pool is full, discarding connection: fafb.catmaid.virtualflybrain.org\n",
      "WARNING - 2021-06-08 15:44:29,031 - connectionpool - Connection pool is full, discarding connection: fafb.catmaid.virtualflybrain.org\n",
      "WARNING - 2021-06-08 15:44:29,045 - connectionpool - Connection pool is full, discarding connection: fafb.catmaid.virtualflybrain.org\n",
      "WARNING - 2021-06-08 15:44:29,056 - connectionpool - Connection pool is full, discarding connection: fafb.catmaid.virtualflybrain.org\n",
      "WARNING - 2021-06-08 15:44:29,072 - connectionpool - Connection pool is full, discarding connection: fafb.catmaid.virtualflybrain.org\n",
      "WARNING - 2021-06-08 15:44:29,083 - connectionpool - Connection pool is full, discarding connection: fafb.catmaid.virtualflybrain.org\n",
      "WARNING - 2021-06-08 15:44:29,098 - connectionpool - Connection pool is full, discarding connection: fafb.catmaid.virtualflybrain.org\n",
      "WARNING - 2021-06-08 15:44:29,115 - connectionpool - Connection pool is full, discarding connection: fafb.catmaid.virtualflybrain.org\n",
      "WARNING - 2021-06-08 15:44:29,128 - connectionpool - Connection pool is full, discarding connection: fafb.catmaid.virtualflybrain.org\n",
      "WARNING - 2021-06-08 15:44:29,134 - connectionpool - Connection pool is full, discarding connection: fafb.catmaid.virtualflybrain.org\n",
      "WARNING - 2021-06-08 15:44:29,151 - connectionpool - Connection pool is full, discarding connection: fafb.catmaid.virtualflybrain.org\n",
      "WARNING - 2021-06-08 15:44:29,177 - connectionpool - Connection pool is full, discarding connection: fafb.catmaid.virtualflybrain.org\n",
      "WARNING - 2021-06-08 15:44:29,178 - connectionpool - Connection pool is full, discarding connection: fafb.catmaid.virtualflybrain.org\n",
      "WARNING - 2021-06-08 15:44:29,188 - connectionpool - Connection pool is full, discarding connection: fafb.catmaid.virtualflybrain.org\n",
      "WARNING - 2021-06-08 15:44:29,229 - connectionpool - Connection pool is full, discarding connection: fafb.catmaid.virtualflybrain.org\n",
      "WARNING - 2021-06-08 15:44:29,230 - connectionpool - Connection pool is full, discarding connection: fafb.catmaid.virtualflybrain.org\n",
      "WARNING - 2021-06-08 15:44:29,238 - connectionpool - Connection pool is full, discarding connection: fafb.catmaid.virtualflybrain.org\n",
      "WARNING - 2021-06-08 15:44:29,278 - connectionpool - Connection pool is full, discarding connection: fafb.catmaid.virtualflybrain.org\n",
      "WARNING - 2021-06-08 15:44:29,286 - connectionpool - Connection pool is full, discarding connection: fafb.catmaid.virtualflybrain.org\n",
      "WARNING - 2021-06-08 15:44:29,286 - connectionpool - Connection pool is full, discarding connection: fafb.catmaid.virtualflybrain.org\n",
      "WARNING - 2021-06-08 15:44:29,325 - connectionpool - Connection pool is full, discarding connection: fafb.catmaid.virtualflybrain.org\n",
      "WARNING - 2021-06-08 15:44:29,332 - connectionpool - Connection pool is full, discarding connection: fafb.catmaid.virtualflybrain.org\n",
      "WARNING - 2021-06-08 15:44:29,333 - connectionpool - Connection pool is full, discarding connection: fafb.catmaid.virtualflybrain.org\n",
      "WARNING - 2021-06-08 15:44:29,368 - connectionpool - Connection pool is full, discarding connection: fafb.catmaid.virtualflybrain.org\n",
      "WARNING - 2021-06-08 15:44:29,375 - connectionpool - Connection pool is full, discarding connection: fafb.catmaid.virtualflybrain.org\n",
      "WARNING - 2021-06-08 15:44:29,375 - connectionpool - Connection pool is full, discarding connection: fafb.catmaid.virtualflybrain.org\n",
      "WARNING - 2021-06-08 15:44:29,410 - connectionpool - Connection pool is full, discarding connection: fafb.catmaid.virtualflybrain.org\n",
      "WARNING - 2021-06-08 15:44:29,413 - connectionpool - Connection pool is full, discarding connection: fafb.catmaid.virtualflybrain.org\n",
      "WARNING - 2021-06-08 15:44:29,426 - connectionpool - Connection pool is full, discarding connection: fafb.catmaid.virtualflybrain.org\n",
      "WARNING - 2021-06-08 15:44:29,462 - connectionpool - Connection pool is full, discarding connection: fafb.catmaid.virtualflybrain.org\n",
      "WARNING - 2021-06-08 15:44:29,469 - connectionpool - Connection pool is full, discarding connection: fafb.catmaid.virtualflybrain.org\n",
      "WARNING - 2021-06-08 15:44:29,470 - connectionpool - Connection pool is full, discarding connection: fafb.catmaid.virtualflybrain.org\n",
      "WARNING - 2021-06-08 15:44:29,511 - connectionpool - Connection pool is full, discarding connection: fafb.catmaid.virtualflybrain.org\n",
      "WARNING - 2021-06-08 15:44:29,513 - connectionpool - Connection pool is full, discarding connection: fafb.catmaid.virtualflybrain.org\n",
      "WARNING - 2021-06-08 15:44:29,521 - connectionpool - Connection pool is full, discarding connection: fafb.catmaid.virtualflybrain.org\n",
      "WARNING - 2021-06-08 15:44:29,559 - connectionpool - Connection pool is full, discarding connection: fafb.catmaid.virtualflybrain.org\n",
      "WARNING - 2021-06-08 15:44:29,567 - connectionpool - Connection pool is full, discarding connection: fafb.catmaid.virtualflybrain.org\n",
      "WARNING - 2021-06-08 15:44:29,568 - connectionpool - Connection pool is full, discarding connection: fafb.catmaid.virtualflybrain.org\n",
      "WARNING - 2021-06-08 15:44:29,600 - connectionpool - Connection pool is full, discarding connection: fafb.catmaid.virtualflybrain.org\n",
      "WARNING - 2021-06-08 15:44:29,611 - connectionpool - Connection pool is full, discarding connection: fafb.catmaid.virtualflybrain.org\n",
      "WARNING - 2021-06-08 15:44:29,611 - connectionpool - Connection pool is full, discarding connection: fafb.catmaid.virtualflybrain.org\n",
      "WARNING - 2021-06-08 15:44:29,637 - connectionpool - Connection pool is full, discarding connection: fafb.catmaid.virtualflybrain.org\n",
      "WARNING - 2021-06-08 15:44:29,648 - connectionpool - Connection pool is full, discarding connection: fafb.catmaid.virtualflybrain.org\n",
      "WARNING - 2021-06-08 15:44:29,656 - connectionpool - Connection pool is full, discarding connection: fafb.catmaid.virtualflybrain.org\n",
      "WARNING - 2021-06-08 15:44:29,675 - connectionpool - Connection pool is full, discarding connection: fafb.catmaid.virtualflybrain.org\n",
      "WARNING - 2021-06-08 15:44:29,686 - connectionpool - Connection pool is full, discarding connection: fafb.catmaid.virtualflybrain.org\n",
      "WARNING - 2021-06-08 15:44:29,687 - connectionpool - Connection pool is full, discarding connection: fafb.catmaid.virtualflybrain.org\n",
      "WARNING - 2021-06-08 15:44:29,712 - connectionpool - Connection pool is full, discarding connection: fafb.catmaid.virtualflybrain.org\n",
      "WARNING - 2021-06-08 15:44:29,725 - connectionpool - Connection pool is full, discarding connection: fafb.catmaid.virtualflybrain.org\n",
      "WARNING - 2021-06-08 15:44:29,726 - connectionpool - Connection pool is full, discarding connection: fafb.catmaid.virtualflybrain.org\n",
      "WARNING - 2021-06-08 15:44:29,748 - connectionpool - Connection pool is full, discarding connection: fafb.catmaid.virtualflybrain.org\n",
      "WARNING - 2021-06-08 15:44:29,779 - connectionpool - Connection pool is full, discarding connection: fafb.catmaid.virtualflybrain.org\n",
      "WARNING - 2021-06-08 15:44:29,780 - connectionpool - Connection pool is full, discarding connection: fafb.catmaid.virtualflybrain.org\n",
      "WARNING - 2021-06-08 15:44:29,799 - connectionpool - Connection pool is full, discarding connection: fafb.catmaid.virtualflybrain.org\n",
      "WARNING - 2021-06-08 15:44:29,827 - connectionpool - Connection pool is full, discarding connection: fafb.catmaid.virtualflybrain.org\n",
      "WARNING - 2021-06-08 15:44:29,834 - connectionpool - Connection pool is full, discarding connection: fafb.catmaid.virtualflybrain.org\n",
      "WARNING - 2021-06-08 15:44:29,843 - connectionpool - Connection pool is full, discarding connection: fafb.catmaid.virtualflybrain.org\n",
      "WARNING - 2021-06-08 15:44:29,878 - connectionpool - Connection pool is full, discarding connection: fafb.catmaid.virtualflybrain.org\n",
      "WARNING - 2021-06-08 15:44:29,880 - connectionpool - Connection pool is full, discarding connection: fafb.catmaid.virtualflybrain.org\n",
      "WARNING - 2021-06-08 15:44:29,888 - connectionpool - Connection pool is full, discarding connection: fafb.catmaid.virtualflybrain.org\n",
      "WARNING - 2021-06-08 15:44:29,917 - connectionpool - Connection pool is full, discarding connection: fafb.catmaid.virtualflybrain.org\n",
      "WARNING - 2021-06-08 15:44:29,930 - connectionpool - Connection pool is full, discarding connection: fafb.catmaid.virtualflybrain.org\n",
      "WARNING - 2021-06-08 15:44:29,937 - connectionpool - Connection pool is full, discarding connection: fafb.catmaid.virtualflybrain.org\n",
      "WARNING - 2021-06-08 15:44:29,953 - connectionpool - Connection pool is full, discarding connection: fafb.catmaid.virtualflybrain.org\n"
     ]
    },
    {
     "data": {
      "application/vnd.jupyter.widget-view+json": {
       "model_id": "b913581719c44fcf81246efb44285f51",
       "version_major": 2,
       "version_minor": 0
      },
      "text/plain": [
       "HBox(children=(HTML(value='Fetch neurons'), FloatProgress(value=0.0, max=113.0), HTML(value='')))"
      ]
     },
     "metadata": {},
     "output_type": "display_data"
    },
    {
     "name": "stderr",
     "output_type": "stream",
     "text": [
      "WARNING - 2021-06-08 15:44:31,439 - connectionpool - Connection pool is full, discarding connection: fafb.catmaid.virtualflybrain.org\n",
      "WARNING - 2021-06-08 15:44:31,541 - connectionpool - Connection pool is full, discarding connection: fafb.catmaid.virtualflybrain.org\n",
      "WARNING - 2021-06-08 15:44:31,568 - connectionpool - Connection pool is full, discarding connection: fafb.catmaid.virtualflybrain.org\n",
      "WARNING - 2021-06-08 15:44:31,708 - connectionpool - Connection pool is full, discarding connection: fafb.catmaid.virtualflybrain.org\n",
      "WARNING - 2021-06-08 15:44:31,712 - connectionpool - Connection pool is full, discarding connection: fafb.catmaid.virtualflybrain.org\n",
      "WARNING - 2021-06-08 15:44:31,744 - connectionpool - Connection pool is full, discarding connection: fafb.catmaid.virtualflybrain.org\n",
      "WARNING - 2021-06-08 15:44:31,746 - connectionpool - Connection pool is full, discarding connection: fafb.catmaid.virtualflybrain.org\n",
      "WARNING - 2021-06-08 15:44:31,849 - connectionpool - Connection pool is full, discarding connection: fafb.catmaid.virtualflybrain.org\n",
      "WARNING - 2021-06-08 15:44:31,871 - connectionpool - Connection pool is full, discarding connection: fafb.catmaid.virtualflybrain.org\n",
      "WARNING - 2021-06-08 15:44:31,987 - connectionpool - Connection pool is full, discarding connection: fafb.catmaid.virtualflybrain.org\n",
      "WARNING - 2021-06-08 15:44:31,990 - connectionpool - Connection pool is full, discarding connection: fafb.catmaid.virtualflybrain.org\n",
      "WARNING - 2021-06-08 15:44:32,024 - connectionpool - Connection pool is full, discarding connection: fafb.catmaid.virtualflybrain.org\n",
      "WARNING - 2021-06-08 15:44:32,167 - connectionpool - Connection pool is full, discarding connection: fafb.catmaid.virtualflybrain.org\n",
      "WARNING - 2021-06-08 15:44:32,211 - connectionpool - Connection pool is full, discarding connection: fafb.catmaid.virtualflybrain.org\n",
      "WARNING - 2021-06-08 15:44:32,274 - connectionpool - Connection pool is full, discarding connection: fafb.catmaid.virtualflybrain.org\n",
      "WARNING - 2021-06-08 15:44:32,288 - connectionpool - Connection pool is full, discarding connection: fafb.catmaid.virtualflybrain.org\n",
      "WARNING - 2021-06-08 15:44:32,341 - connectionpool - Connection pool is full, discarding connection: fafb.catmaid.virtualflybrain.org\n",
      "WARNING - 2021-06-08 15:44:32,440 - connectionpool - Connection pool is full, discarding connection: fafb.catmaid.virtualflybrain.org\n",
      "WARNING - 2021-06-08 15:44:32,516 - connectionpool - Connection pool is full, discarding connection: fafb.catmaid.virtualflybrain.org\n",
      "WARNING - 2021-06-08 15:44:32,542 - connectionpool - Connection pool is full, discarding connection: fafb.catmaid.virtualflybrain.org\n",
      "WARNING - 2021-06-08 15:44:32,564 - connectionpool - Connection pool is full, discarding connection: fafb.catmaid.virtualflybrain.org\n",
      "WARNING - 2021-06-08 15:44:32,586 - connectionpool - Connection pool is full, discarding connection: fafb.catmaid.virtualflybrain.org\n",
      "WARNING - 2021-06-08 15:44:32,647 - connectionpool - Connection pool is full, discarding connection: fafb.catmaid.virtualflybrain.org\n",
      "WARNING - 2021-06-08 15:44:32,768 - connectionpool - Connection pool is full, discarding connection: fafb.catmaid.virtualflybrain.org\n",
      "WARNING - 2021-06-08 15:44:32,776 - connectionpool - Connection pool is full, discarding connection: fafb.catmaid.virtualflybrain.org\n",
      "WARNING - 2021-06-08 15:44:32,841 - connectionpool - Connection pool is full, discarding connection: fafb.catmaid.virtualflybrain.org\n",
      "WARNING - 2021-06-08 15:44:32,928 - connectionpool - Connection pool is full, discarding connection: fafb.catmaid.virtualflybrain.org\n",
      "WARNING - 2021-06-08 15:44:32,980 - connectionpool - Connection pool is full, discarding connection: fafb.catmaid.virtualflybrain.org\n",
      "WARNING - 2021-06-08 15:44:33,001 - connectionpool - Connection pool is full, discarding connection: fafb.catmaid.virtualflybrain.org\n",
      "WARNING - 2021-06-08 15:44:33,028 - connectionpool - Connection pool is full, discarding connection: fafb.catmaid.virtualflybrain.org\n",
      "WARNING - 2021-06-08 15:44:33,154 - connectionpool - Connection pool is full, discarding connection: fafb.catmaid.virtualflybrain.org\n",
      "WARNING - 2021-06-08 15:44:33,175 - connectionpool - Connection pool is full, discarding connection: fafb.catmaid.virtualflybrain.org\n",
      "WARNING - 2021-06-08 15:44:33,297 - connectionpool - Connection pool is full, discarding connection: fafb.catmaid.virtualflybrain.org\n",
      "WARNING - 2021-06-08 15:44:33,314 - connectionpool - Connection pool is full, discarding connection: fafb.catmaid.virtualflybrain.org\n",
      "WARNING - 2021-06-08 15:44:33,344 - connectionpool - Connection pool is full, discarding connection: fafb.catmaid.virtualflybrain.org\n",
      "WARNING - 2021-06-08 15:44:33,399 - connectionpool - Connection pool is full, discarding connection: fafb.catmaid.virtualflybrain.org\n",
      "WARNING - 2021-06-08 15:44:33,472 - connectionpool - Connection pool is full, discarding connection: fafb.catmaid.virtualflybrain.org\n",
      "WARNING - 2021-06-08 15:44:33,530 - connectionpool - Connection pool is full, discarding connection: fafb.catmaid.virtualflybrain.org\n",
      "WARNING - 2021-06-08 15:44:33,596 - connectionpool - Connection pool is full, discarding connection: fafb.catmaid.virtualflybrain.org\n",
      "WARNING - 2021-06-08 15:44:33,639 - connectionpool - Connection pool is full, discarding connection: fafb.catmaid.virtualflybrain.org\n",
      "WARNING - 2021-06-08 15:44:33,698 - connectionpool - Connection pool is full, discarding connection: fafb.catmaid.virtualflybrain.org\n",
      "WARNING - 2021-06-08 15:44:33,721 - connectionpool - Connection pool is full, discarding connection: fafb.catmaid.virtualflybrain.org\n",
      "WARNING - 2021-06-08 15:44:33,791 - connectionpool - Connection pool is full, discarding connection: fafb.catmaid.virtualflybrain.org\n",
      "WARNING - 2021-06-08 15:44:33,793 - connectionpool - Connection pool is full, discarding connection: fafb.catmaid.virtualflybrain.org\n",
      "WARNING - 2021-06-08 15:44:33,933 - connectionpool - Connection pool is full, discarding connection: fafb.catmaid.virtualflybrain.org\n",
      "WARNING - 2021-06-08 15:44:33,951 - connectionpool - Connection pool is full, discarding connection: fafb.catmaid.virtualflybrain.org\n",
      "WARNING - 2021-06-08 15:44:34,036 - connectionpool - Connection pool is full, discarding connection: fafb.catmaid.virtualflybrain.org\n",
      "WARNING - 2021-06-08 15:44:34,068 - connectionpool - Connection pool is full, discarding connection: fafb.catmaid.virtualflybrain.org\n",
      "WARNING - 2021-06-08 15:44:34,114 - connectionpool - Connection pool is full, discarding connection: fafb.catmaid.virtualflybrain.org\n",
      "WARNING - 2021-06-08 15:44:34,191 - connectionpool - Connection pool is full, discarding connection: fafb.catmaid.virtualflybrain.org\n",
      "WARNING - 2021-06-08 15:44:34,210 - connectionpool - Connection pool is full, discarding connection: fafb.catmaid.virtualflybrain.org\n",
      "WARNING - 2021-06-08 15:44:34,324 - connectionpool - Connection pool is full, discarding connection: fafb.catmaid.virtualflybrain.org\n",
      "WARNING - 2021-06-08 15:44:34,324 - connectionpool - Connection pool is full, discarding connection: fafb.catmaid.virtualflybrain.org\n",
      "WARNING - 2021-06-08 15:44:34,385 - connectionpool - Connection pool is full, discarding connection: fafb.catmaid.virtualflybrain.org\n",
      "WARNING - 2021-06-08 15:44:34,420 - connectionpool - Connection pool is full, discarding connection: fafb.catmaid.virtualflybrain.org\n",
      "WARNING - 2021-06-08 15:44:34,525 - connectionpool - Connection pool is full, discarding connection: fafb.catmaid.virtualflybrain.org\n",
      "WARNING - 2021-06-08 15:44:34,554 - connectionpool - Connection pool is full, discarding connection: fafb.catmaid.virtualflybrain.org\n",
      "WARNING - 2021-06-08 15:44:34,649 - connectionpool - Connection pool is full, discarding connection: fafb.catmaid.virtualflybrain.org\n",
      "WARNING - 2021-06-08 15:44:34,765 - connectionpool - Connection pool is full, discarding connection: fafb.catmaid.virtualflybrain.org\n",
      "WARNING - 2021-06-08 15:44:34,783 - connectionpool - Connection pool is full, discarding connection: fafb.catmaid.virtualflybrain.org\n",
      "WARNING - 2021-06-08 15:44:34,838 - connectionpool - Connection pool is full, discarding connection: fafb.catmaid.virtualflybrain.org\n",
      "WARNING - 2021-06-08 15:44:34,852 - connectionpool - Connection pool is full, discarding connection: fafb.catmaid.virtualflybrain.org\n",
      "WARNING - 2021-06-08 15:44:35,023 - connectionpool - Connection pool is full, discarding connection: fafb.catmaid.virtualflybrain.org\n",
      "WARNING - 2021-06-08 15:44:35,036 - connectionpool - Connection pool is full, discarding connection: fafb.catmaid.virtualflybrain.org\n",
      "WARNING - 2021-06-08 15:44:35,053 - connectionpool - Connection pool is full, discarding connection: fafb.catmaid.virtualflybrain.org\n",
      "WARNING - 2021-06-08 15:44:35,062 - connectionpool - Connection pool is full, discarding connection: fafb.catmaid.virtualflybrain.org\n",
      "WARNING - 2021-06-08 15:44:35,106 - connectionpool - Connection pool is full, discarding connection: fafb.catmaid.virtualflybrain.org\n",
      "WARNING - 2021-06-08 15:44:35,154 - connectionpool - Connection pool is full, discarding connection: fafb.catmaid.virtualflybrain.org\n",
      "WARNING - 2021-06-08 15:44:35,283 - connectionpool - Connection pool is full, discarding connection: fafb.catmaid.virtualflybrain.org\n",
      "WARNING - 2021-06-08 15:44:35,301 - connectionpool - Connection pool is full, discarding connection: fafb.catmaid.virtualflybrain.org\n",
      "WARNING - 2021-06-08 15:44:35,302 - connectionpool - Connection pool is full, discarding connection: fafb.catmaid.virtualflybrain.org\n",
      "WARNING - 2021-06-08 15:44:35,370 - connectionpool - Connection pool is full, discarding connection: fafb.catmaid.virtualflybrain.org\n",
      "WARNING - 2021-06-08 15:44:35,381 - connectionpool - Connection pool is full, discarding connection: fafb.catmaid.virtualflybrain.org\n",
      "WARNING - 2021-06-08 15:44:35,466 - connectionpool - Connection pool is full, discarding connection: fafb.catmaid.virtualflybrain.org\n",
      "WARNING - 2021-06-08 15:44:35,510 - connectionpool - Connection pool is full, discarding connection: fafb.catmaid.virtualflybrain.org\n",
      "WARNING - 2021-06-08 15:44:35,575 - connectionpool - Connection pool is full, discarding connection: fafb.catmaid.virtualflybrain.org\n",
      "WARNING - 2021-06-08 15:44:35,590 - connectionpool - Connection pool is full, discarding connection: fafb.catmaid.virtualflybrain.org\n",
      "WARNING - 2021-06-08 15:44:35,681 - connectionpool - Connection pool is full, discarding connection: fafb.catmaid.virtualflybrain.org\n",
      "WARNING - 2021-06-08 15:44:35,690 - connectionpool - Connection pool is full, discarding connection: fafb.catmaid.virtualflybrain.org\n",
      "WARNING - 2021-06-08 15:44:35,852 - connectionpool - Connection pool is full, discarding connection: fafb.catmaid.virtualflybrain.org\n",
      "WARNING - 2021-06-08 15:44:35,891 - connectionpool - Connection pool is full, discarding connection: fafb.catmaid.virtualflybrain.org\n",
      "WARNING - 2021-06-08 15:44:35,911 - connectionpool - Connection pool is full, discarding connection: fafb.catmaid.virtualflybrain.org\n",
      "WARNING - 2021-06-08 15:44:35,931 - connectionpool - Connection pool is full, discarding connection: fafb.catmaid.virtualflybrain.org\n",
      "WARNING - 2021-06-08 15:44:35,953 - connectionpool - Connection pool is full, discarding connection: fafb.catmaid.virtualflybrain.org\n",
      "WARNING - 2021-06-08 15:44:36,030 - connectionpool - Connection pool is full, discarding connection: fafb.catmaid.virtualflybrain.org\n",
      "WARNING - 2021-06-08 15:44:36,070 - connectionpool - Connection pool is full, discarding connection: fafb.catmaid.virtualflybrain.org\n",
      "WARNING - 2021-06-08 15:44:36,105 - connectionpool - Connection pool is full, discarding connection: fafb.catmaid.virtualflybrain.org\n",
      "WARNING - 2021-06-08 15:44:36,118 - connectionpool - Connection pool is full, discarding connection: fafb.catmaid.virtualflybrain.org\n",
      "WARNING - 2021-06-08 15:44:36,227 - connectionpool - Connection pool is full, discarding connection: fafb.catmaid.virtualflybrain.org\n",
      "WARNING - 2021-06-08 15:44:36,251 - connectionpool - Connection pool is full, discarding connection: fafb.catmaid.virtualflybrain.org\n"
     ]
    },
    {
     "data": {
      "application/vnd.jupyter.widget-view+json": {
       "model_id": "98839c1c8c4a4204b3414eddf1cebd47",
       "version_major": 2,
       "version_minor": 0
      },
      "text/plain": [
       "HBox(children=(HTML(value='Make nrn'), FloatProgress(value=0.0, max=113.0), HTML(value='')))"
      ]
     },
     "metadata": {},
     "output_type": "display_data"
    },
    {
     "name": "stderr",
     "output_type": "stream",
     "text": [
      "INFO - 2021-06-08 15:44:36,847 - utils - NumExpr defaulting to 8 threads.\n"
     ]
    }
   ],
   "source": [
    "catmiad_neuronlist=pymaid.get_neuron('annotation:/\\w+\\sORN',\n",
    "                                     remote_instance = working_rm) #get anything that matches ORN.."
   ]
  },
  {
   "cell_type": "code",
   "execution_count": 7,
   "metadata": {},
   "outputs": [
    {
     "data": {
      "text/plain": [
       "113"
      ]
     },
     "execution_count": 7,
     "metadata": {},
     "output_type": "execute_result"
    }
   ],
   "source": [
    "len(catmiad_neuronlist)"
   ]
  },
  {
   "cell_type": "code",
   "execution_count": null,
   "metadata": {},
   "outputs": [],
   "source": []
  },
  {
   "cell_type": "code",
   "execution_count": 8,
   "metadata": {},
   "outputs": [
    {
     "data": {
      "application/vnd.jupyter.widget-view+json": {
       "model_id": "63d4cfa0b568467390b64fdd12e9e49d",
       "version_major": 2,
       "version_minor": 0
      },
      "text/plain": [
       "HBox(children=(HTML(value='Volumes'), FloatProgress(value=0.0, max=2.0), HTML(value='')))"
      ]
     },
     "metadata": {},
     "output_type": "display_data"
    }
   ],
   "source": [
    "vols = pymaid.get_volume(['AL_L', 'AL_R'], color=(255, 0, 0, .2))"
   ]
  },
  {
   "cell_type": "code",
   "execution_count": 9,
   "metadata": {},
   "outputs": [
    {
     "data": {
      "text/plain": [
       "{'AL_R': <navis.Volume(name=AL_R, id=200, color=(255, 0, 0, 0.2), vertices.shape=(622, 3), faces.shape=(1240, 3))>,\n",
       " 'AL_L': <navis.Volume(name=AL_L, id=300, color=(255, 0, 0, 0.2), vertices.shape=(612, 3), faces.shape=(1228, 3))>}"
      ]
     },
     "execution_count": 9,
     "metadata": {},
     "output_type": "execute_result"
    }
   ],
   "source": [
    "vols['AL_R'].id = 200\n",
    "vols['AL_L'].id = 300\n",
    "vols"
   ]
  },
  {
   "cell_type": "markdown",
   "metadata": {},
   "source": [
    "## Step 4: Start the dataserver to host precomputed data.."
   ]
  },
  {
   "cell_type": "code",
   "execution_count": 10,
   "metadata": {},
   "outputs": [
    {
     "name": "stdout",
     "output_type": "stream",
     "text": [
      "Serving data from:  /var/folders/_l/lrfvj_8j3ps0c37ncbr3c8dh0000gn/T/tmp3xxb634c\n",
      "Serving directory at http://127.0.0.1:8000\n"
     ]
    }
   ],
   "source": [
    "#hostdirectory = '/Users/sri/Documents/fafb_meshes/'\n",
    "#startdataserver(directory = hostdirectory)\n",
    "startdataserver()"
   ]
  },
  {
   "cell_type": "markdown",
   "metadata": {},
   "source": [
    "## Step 5: Start a basic neuroglancer local session with all `FAFB` configurations.."
   ]
  },
  {
   "cell_type": "code",
   "execution_count": 11,
   "metadata": {},
   "outputs": [],
   "source": [
    "layer_kws = {'ngspace': 'FAFB'}"
   ]
  },
  {
   "cell_type": "code",
   "execution_count": 12,
   "metadata": {},
   "outputs": [
    {
     "name": "stdout",
     "output_type": "stream",
     "text": [
      "config file loc is at: None\n",
      "using default location at:  /Users/sri/.pyroglancer/config.yml\n",
      "Neuroglancer viewer created at:  http://127.0.0.1:64690/v/ccb79bb4fe88e6386a17b402a6e7938eff1515bc/\n",
      "config file loc is at: None\n",
      "using default location at:  /Users/sri/.pyroglancer/config.yml\n",
      "Dimensions are in : FAFB\n",
      "Layer created:  image\n",
      "config file loc is at: None\n",
      "using default location at:  /Users/sri/.pyroglancer/config.yml\n",
      "Using layout : xy-3d\n",
      "config file loc is at: None\n",
      "using default location at:  /Users/sri/.pyroglancer/config.yml\n",
      "Dimensions are in : FAFB\n",
      "Layer created:  surfacemesh\n",
      "config file loc is at: None\n",
      "using default location at:  /Users/sri/.pyroglancer/config.yml\n",
      "Using layout : xy-3d\n",
      "config file loc is at: None\n",
      "using default location at:  /Users/sri/.pyroglancer/config.yml\n",
      "Dimensions are in : FAFB\n",
      "Layer created:  segmentation\n",
      "config file loc is at: None\n",
      "using default location at:  /Users/sri/.pyroglancer/config.yml\n",
      "Using layout : xy-3d\n",
      "config file loc is at: None\n",
      "using default location at:  /Users/sri/.pyroglancer/config.yml\n",
      "Dimensions are in : FAFB\n",
      "Layer created:  synapticcleft\n",
      "config file loc is at: None\n",
      "using default location at:  /Users/sri/.pyroglancer/config.yml\n",
      "Using layout : xy-3d\n"
     ]
    }
   ],
   "source": [
    "create_ngspace(layer_kws)"
   ]
  },
  {
   "cell_type": "markdown",
   "metadata": {},
   "source": [
    "## Step 6: Add skids to neuroglancer layers.."
   ]
  },
  {
   "cell_type": "code",
   "execution_count": 13,
   "metadata": {},
   "outputs": [
    {
     "name": "stdout",
     "output_type": "stream",
     "text": [
      "config file loc is at: None\n",
      "using default location at:  /Users/sri/.pyroglancer/config.yml\n",
      "Dimensions are in : FAFB\n",
      "Layer created:  skeletons\n"
     ]
    },
    {
     "name": "stderr",
     "output_type": "stream",
     "text": [
      "Creating Shard Groupings: 100%|██████████| 113/113 [00:00<00:00, 65845.56it/s]\n",
      "Synthesizing Shard Files: 100%|██████████| 77/77 [00:00<00:00, 28434.71it/s]"
     ]
    },
    {
     "name": "stdout",
     "output_type": "stream",
     "text": [
      "creating: /private/var/folders/_l/lrfvj_8j3ps0c37ncbr3c8dh0000gn/T/tmp3xxb634c/precomputed/catmaid_skels/skeletons/seg_props\n",
      "Using layout : xy-3d\n"
     ]
    },
    {
     "name": "stderr",
     "output_type": "stream",
     "text": [
      "\n",
      "127.0.0.1 - - [08/Jun/2021 15:45:15] \"GET /precomputed/catmaid_skels/skeletons/info HTTP/1.1\" 200 -\n",
      "127.0.0.1 - - [08/Jun/2021 15:45:15] \"GET /precomputed/catmaid_skels/skeletons/seg_props/info HTTP/1.1\" 200 -\n"
     ]
    }
   ],
   "source": [
    "tmpviewer = create_nglayer(layer_kws = {'type': 'skeletons',\n",
    "                                        'source': catmiad_neuronlist,\n",
    "                                        'name':'catmaid_skels',\n",
    "                                        'sharding': True,\n",
    "                                        'progress': True,\n",
    "                                        'color': 'red',\n",
    "                                        'alpha': 0.5})"
   ]
  },
  {
   "cell_type": "markdown",
   "metadata": {},
   "source": [
    "## Step 7: Add synapses to neuroglancer layers.."
   ]
  },
  {
   "cell_type": "code",
   "execution_count": 14,
   "metadata": {},
   "outputs": [
    {
     "name": "stdout",
     "output_type": "stream",
     "text": [
      "config file loc is at: None\n",
      "using default location at:  /Users/sri/.pyroglancer/config.yml\n",
      "Dimensions are in : FAFB\n",
      "Layer created:  synapses\n",
      "config file loc is at: None\n",
      "using default location at:  /Users/sri/.pyroglancer/config.yml\n",
      "Dimensions are in : FAFB\n",
      "flushing stuff..\n",
      "presynapse stuff at: /private/var/folders/_l/lrfvj_8j3ps0c37ncbr3c8dh0000gn/T/tmp3xxb634c /precomputed/catmaid_skels/presynapses\n",
      "postsynapse stuff at: /private/var/folders/_l/lrfvj_8j3ps0c37ncbr3c8dh0000gn/T/tmp3xxb634c /precomputed/catmaid_skels/postsynapses\n",
      "synapses info path: /private/var/folders/_l/lrfvj_8j3ps0c37ncbr3c8dh0000gn/T/tmp3xxb634c/precomputed/catmaid_skels\n",
      "creating: /private/var/folders/_l/lrfvj_8j3ps0c37ncbr3c8dh0000gn/T/tmp3xxb634c/precomputed/catmaid_skels/presynapses\n",
      "creating: /private/var/folders/_l/lrfvj_8j3ps0c37ncbr3c8dh0000gn/T/tmp3xxb634c/precomputed/catmaid_skels/postsynapses\n",
      "Adding neuron:  12013573\n",
      "making: /private/var/folders/_l/lrfvj_8j3ps0c37ncbr3c8dh0000gn/T/tmp3xxb634c/precomputed/catmaid_skels/presynapses/presynapses_cell/12013573\n",
      "making: /private/var/folders/_l/lrfvj_8j3ps0c37ncbr3c8dh0000gn/T/tmp3xxb634c/precomputed/catmaid_skels/postsynapses/postsynapses_cell/12013573\n",
      "Adding neuron:  7363590\n",
      "making: /private/var/folders/_l/lrfvj_8j3ps0c37ncbr3c8dh0000gn/T/tmp3xxb634c/precomputed/catmaid_skels/presynapses/presynapses_cell/7363590\n",
      "making: /private/var/folders/_l/lrfvj_8j3ps0c37ncbr3c8dh0000gn/T/tmp3xxb634c/precomputed/catmaid_skels/postsynapses/postsynapses_cell/7363590\n",
      "Adding neuron:  5157896\n",
      "making: /private/var/folders/_l/lrfvj_8j3ps0c37ncbr3c8dh0000gn/T/tmp3xxb634c/precomputed/catmaid_skels/presynapses/presynapses_cell/5157896\n",
      "making: /private/var/folders/_l/lrfvj_8j3ps0c37ncbr3c8dh0000gn/T/tmp3xxb634c/precomputed/catmaid_skels/postsynapses/postsynapses_cell/5157896\n",
      "Adding neuron:  8990218\n",
      "making: /private/var/folders/_l/lrfvj_8j3ps0c37ncbr3c8dh0000gn/T/tmp3xxb634c/precomputed/catmaid_skels/presynapses/presynapses_cell/8990218\n",
      "making: /private/var/folders/_l/lrfvj_8j3ps0c37ncbr3c8dh0000gn/T/tmp3xxb634c/precomputed/catmaid_skels/postsynapses/postsynapses_cell/8990218\n",
      "Adding neuron:  8990226\n",
      "making: /private/var/folders/_l/lrfvj_8j3ps0c37ncbr3c8dh0000gn/T/tmp3xxb634c/precomputed/catmaid_skels/presynapses/presynapses_cell/8990226\n",
      "making: /private/var/folders/_l/lrfvj_8j3ps0c37ncbr3c8dh0000gn/T/tmp3xxb634c/precomputed/catmaid_skels/postsynapses/postsynapses_cell/8990226\n",
      "Adding neuron:  5533203\n",
      "making: /private/var/folders/_l/lrfvj_8j3ps0c37ncbr3c8dh0000gn/T/tmp3xxb634c/precomputed/catmaid_skels/presynapses/presynapses_cell/5533203\n",
      "making: /private/var/folders/_l/lrfvj_8j3ps0c37ncbr3c8dh0000gn/T/tmp3xxb634c/precomputed/catmaid_skels/postsynapses/postsynapses_cell/5533203\n",
      "Adding neuron:  8677396\n",
      "making: /private/var/folders/_l/lrfvj_8j3ps0c37ncbr3c8dh0000gn/T/tmp3xxb634c/precomputed/catmaid_skels/presynapses/presynapses_cell/8677396\n",
      "making: /private/var/folders/_l/lrfvj_8j3ps0c37ncbr3c8dh0000gn/T/tmp3xxb634c/precomputed/catmaid_skels/postsynapses/postsynapses_cell/8677396\n",
      "Adding neuron:  14023189\n",
      "making: /private/var/folders/_l/lrfvj_8j3ps0c37ncbr3c8dh0000gn/T/tmp3xxb634c/precomputed/catmaid_skels/presynapses/presynapses_cell/14023189\n",
      "making: /private/var/folders/_l/lrfvj_8j3ps0c37ncbr3c8dh0000gn/T/tmp3xxb634c/precomputed/catmaid_skels/postsynapses/postsynapses_cell/14023189\n",
      "Adding neuron:  12863515\n",
      "making: /private/var/folders/_l/lrfvj_8j3ps0c37ncbr3c8dh0000gn/T/tmp3xxb634c/precomputed/catmaid_skels/presynapses/presynapses_cell/12863515\n",
      "making: /private/var/folders/_l/lrfvj_8j3ps0c37ncbr3c8dh0000gn/T/tmp3xxb634c/precomputed/catmaid_skels/postsynapses/postsynapses_cell/12863515\n",
      "Adding neuron:  4081183\n",
      "making: /private/var/folders/_l/lrfvj_8j3ps0c37ncbr3c8dh0000gn/T/tmp3xxb634c/precomputed/catmaid_skels/presynapses/presynapses_cell/4081183\n",
      "making: /private/var/folders/_l/lrfvj_8j3ps0c37ncbr3c8dh0000gn/T/tmp3xxb634c/precomputed/catmaid_skels/postsynapses/postsynapses_cell/4081183\n",
      "Adding neuron:  11858466\n",
      "making: /private/var/folders/_l/lrfvj_8j3ps0c37ncbr3c8dh0000gn/T/tmp3xxb634c/precomputed/catmaid_skels/presynapses/presynapses_cell/11858466\n",
      "making: /private/var/folders/_l/lrfvj_8j3ps0c37ncbr3c8dh0000gn/T/tmp3xxb634c/precomputed/catmaid_skels/postsynapses/postsynapses_cell/11858466\n",
      "Adding neuron:  4081193\n",
      "making: /private/var/folders/_l/lrfvj_8j3ps0c37ncbr3c8dh0000gn/T/tmp3xxb634c/precomputed/catmaid_skels/presynapses/presynapses_cell/4081193\n",
      "making: /private/var/folders/_l/lrfvj_8j3ps0c37ncbr3c8dh0000gn/T/tmp3xxb634c/precomputed/catmaid_skels/postsynapses/postsynapses_cell/4081193\n",
      "Adding neuron:  4081200\n",
      "making: /private/var/folders/_l/lrfvj_8j3ps0c37ncbr3c8dh0000gn/T/tmp3xxb634c/precomputed/catmaid_skels/presynapses/presynapses_cell/4081200\n",
      "making: /private/var/folders/_l/lrfvj_8j3ps0c37ncbr3c8dh0000gn/T/tmp3xxb634c/precomputed/catmaid_skels/postsynapses/postsynapses_cell/4081200\n",
      "Adding neuron:  7337521\n",
      "making: /private/var/folders/_l/lrfvj_8j3ps0c37ncbr3c8dh0000gn/T/tmp3xxb634c/precomputed/catmaid_skels/presynapses/presynapses_cell/7337521\n",
      "making: /private/var/folders/_l/lrfvj_8j3ps0c37ncbr3c8dh0000gn/T/tmp3xxb634c/precomputed/catmaid_skels/postsynapses/postsynapses_cell/7337521\n",
      "Adding neuron:  8543282\n",
      "making: /private/var/folders/_l/lrfvj_8j3ps0c37ncbr3c8dh0000gn/T/tmp3xxb634c/precomputed/catmaid_skels/presynapses/presynapses_cell/8543282\n",
      "making: /private/var/folders/_l/lrfvj_8j3ps0c37ncbr3c8dh0000gn/T/tmp3xxb634c/precomputed/catmaid_skels/postsynapses/postsynapses_cell/8543282\n",
      "Adding neuron:  12029493\n",
      "making: /private/var/folders/_l/lrfvj_8j3ps0c37ncbr3c8dh0000gn/T/tmp3xxb634c/precomputed/catmaid_skels/presynapses/presynapses_cell/12029493\n",
      "making: /private/var/folders/_l/lrfvj_8j3ps0c37ncbr3c8dh0000gn/T/tmp3xxb634c/precomputed/catmaid_skels/postsynapses/postsynapses_cell/12029493\n",
      "Adding neuron:  8727095\n",
      "making: /private/var/folders/_l/lrfvj_8j3ps0c37ncbr3c8dh0000gn/T/tmp3xxb634c/precomputed/catmaid_skels/presynapses/presynapses_cell/8727095\n",
      "making: /private/var/folders/_l/lrfvj_8j3ps0c37ncbr3c8dh0000gn/T/tmp3xxb634c/precomputed/catmaid_skels/postsynapses/postsynapses_cell/8727095\n",
      "Adding neuron:  8677435\n",
      "making: /private/var/folders/_l/lrfvj_8j3ps0c37ncbr3c8dh0000gn/T/tmp3xxb634c/precomputed/catmaid_skels/presynapses/presynapses_cell/8677435\n",
      "making: /private/var/folders/_l/lrfvj_8j3ps0c37ncbr3c8dh0000gn/T/tmp3xxb634c/precomputed/catmaid_skels/postsynapses/postsynapses_cell/8677435\n",
      "Adding neuron:  11950655\n",
      "making: /private/var/folders/_l/lrfvj_8j3ps0c37ncbr3c8dh0000gn/T/tmp3xxb634c/precomputed/catmaid_skels/presynapses/presynapses_cell/11950655\n",
      "making: /private/var/folders/_l/lrfvj_8j3ps0c37ncbr3c8dh0000gn/T/tmp3xxb634c/precomputed/catmaid_skels/postsynapses/postsynapses_cell/11950655\n",
      "Adding neuron:  5111360\n",
      "making: /private/var/folders/_l/lrfvj_8j3ps0c37ncbr3c8dh0000gn/T/tmp3xxb634c/precomputed/catmaid_skels/presynapses/presynapses_cell/5111360\n",
      "making: /private/var/folders/_l/lrfvj_8j3ps0c37ncbr3c8dh0000gn/T/tmp3xxb634c/precomputed/catmaid_skels/postsynapses/postsynapses_cell/5111360\n",
      "Adding neuron:  7349832\n",
      "making: /private/var/folders/_l/lrfvj_8j3ps0c37ncbr3c8dh0000gn/T/tmp3xxb634c/precomputed/catmaid_skels/presynapses/presynapses_cell/7349832\n",
      "making: /private/var/folders/_l/lrfvj_8j3ps0c37ncbr3c8dh0000gn/T/tmp3xxb634c/precomputed/catmaid_skels/postsynapses/postsynapses_cell/7349832\n",
      "Adding neuron:  6715465\n",
      "making: /private/var/folders/_l/lrfvj_8j3ps0c37ncbr3c8dh0000gn/T/tmp3xxb634c/precomputed/catmaid_skels/presynapses/presynapses_cell/6715465\n",
      "making: /private/var/folders/_l/lrfvj_8j3ps0c37ncbr3c8dh0000gn/T/tmp3xxb634c/precomputed/catmaid_skels/postsynapses/postsynapses_cell/6715465\n",
      "Adding neuron:  5110857\n",
      "making: /private/var/folders/_l/lrfvj_8j3ps0c37ncbr3c8dh0000gn/T/tmp3xxb634c/precomputed/catmaid_skels/presynapses/presynapses_cell/5110857\n",
      "making: /private/var/folders/_l/lrfvj_8j3ps0c37ncbr3c8dh0000gn/T/tmp3xxb634c/precomputed/catmaid_skels/postsynapses/postsynapses_cell/5110857\n",
      "Adding neuron:  4095049\n",
      "making: /private/var/folders/_l/lrfvj_8j3ps0c37ncbr3c8dh0000gn/T/tmp3xxb634c/precomputed/catmaid_skels/presynapses/presynapses_cell/4095049\n",
      "making: /private/var/folders/_l/lrfvj_8j3ps0c37ncbr3c8dh0000gn/T/tmp3xxb634c/precomputed/catmaid_skels/postsynapses/postsynapses_cell/4095049\n",
      "Adding neuron:  8674892\n",
      "making: /private/var/folders/_l/lrfvj_8j3ps0c37ncbr3c8dh0000gn/T/tmp3xxb634c/precomputed/catmaid_skels/presynapses/presynapses_cell/8674892\n",
      "making: /private/var/folders/_l/lrfvj_8j3ps0c37ncbr3c8dh0000gn/T/tmp3xxb634c/precomputed/catmaid_skels/postsynapses/postsynapses_cell/8674892\n",
      "Adding neuron:  12859987\n",
      "making: /private/var/folders/_l/lrfvj_8j3ps0c37ncbr3c8dh0000gn/T/tmp3xxb634c/precomputed/catmaid_skels/presynapses/presynapses_cell/12859987\n",
      "making: /private/var/folders/_l/lrfvj_8j3ps0c37ncbr3c8dh0000gn/T/tmp3xxb634c/precomputed/catmaid_skels/postsynapses/postsynapses_cell/12859987\n",
      "Adding neuron:  8411733\n",
      "making: /private/var/folders/_l/lrfvj_8j3ps0c37ncbr3c8dh0000gn/T/tmp3xxb634c/precomputed/catmaid_skels/presynapses/presynapses_cell/8411733\n",
      "making: /private/var/folders/_l/lrfvj_8j3ps0c37ncbr3c8dh0000gn/T/tmp3xxb634c/precomputed/catmaid_skels/postsynapses/postsynapses_cell/8411733\n",
      "Adding neuron:  8677465\n",
      "making: /private/var/folders/_l/lrfvj_8j3ps0c37ncbr3c8dh0000gn/T/tmp3xxb634c/precomputed/catmaid_skels/presynapses/presynapses_cell/8677465\n",
      "making: /private/var/folders/_l/lrfvj_8j3ps0c37ncbr3c8dh0000gn/T/tmp3xxb634c/precomputed/catmaid_skels/postsynapses/postsynapses_cell/8677465\n",
      "Adding neuron:  8929885\n",
      "making: /private/var/folders/_l/lrfvj_8j3ps0c37ncbr3c8dh0000gn/T/tmp3xxb634c/precomputed/catmaid_skels/presynapses/presynapses_cell/8929885\n",
      "making: /private/var/folders/_l/lrfvj_8j3ps0c37ncbr3c8dh0000gn/T/tmp3xxb634c/precomputed/catmaid_skels/postsynapses/postsynapses_cell/8929885\n",
      "Adding neuron:  8490593\n",
      "making: /private/var/folders/_l/lrfvj_8j3ps0c37ncbr3c8dh0000gn/T/tmp3xxb634c/precomputed/catmaid_skels/presynapses/presynapses_cell/8490593\n",
      "making: /private/var/folders/_l/lrfvj_8j3ps0c37ncbr3c8dh0000gn/T/tmp3xxb634c/precomputed/catmaid_skels/postsynapses/postsynapses_cell/8490593\n",
      "Adding neuron:  7349865\n",
      "making: /private/var/folders/_l/lrfvj_8j3ps0c37ncbr3c8dh0000gn/T/tmp3xxb634c/precomputed/catmaid_skels/presynapses/presynapses_cell/7349865\n",
      "making: /private/var/folders/_l/lrfvj_8j3ps0c37ncbr3c8dh0000gn/T/tmp3xxb634c/precomputed/catmaid_skels/postsynapses/postsynapses_cell/7349865\n",
      "Adding neuron:  7349870\n",
      "making: /private/var/folders/_l/lrfvj_8j3ps0c37ncbr3c8dh0000gn/T/tmp3xxb634c/precomputed/catmaid_skels/presynapses/presynapses_cell/7349870\n",
      "making: /private/var/folders/_l/lrfvj_8j3ps0c37ncbr3c8dh0000gn/T/tmp3xxb634c/precomputed/catmaid_skels/postsynapses/postsynapses_cell/7349870\n",
      "Adding neuron:  8490608\n",
      "making: /private/var/folders/_l/lrfvj_8j3ps0c37ncbr3c8dh0000gn/T/tmp3xxb634c/precomputed/catmaid_skels/presynapses/presynapses_cell/8490608\n",
      "making: /private/var/folders/_l/lrfvj_8j3ps0c37ncbr3c8dh0000gn/T/tmp3xxb634c/precomputed/catmaid_skels/postsynapses/postsynapses_cell/8490608\n",
      "Adding neuron:  7179380\n",
      "making: /private/var/folders/_l/lrfvj_8j3ps0c37ncbr3c8dh0000gn/T/tmp3xxb634c/precomputed/catmaid_skels/presynapses/presynapses_cell/7179380\n",
      "making: /private/var/folders/_l/lrfvj_8j3ps0c37ncbr3c8dh0000gn/T/tmp3xxb634c/precomputed/catmaid_skels/postsynapses/postsynapses_cell/7179380\n",
      "Adding neuron:  3808894\n",
      "making: /private/var/folders/_l/lrfvj_8j3ps0c37ncbr3c8dh0000gn/T/tmp3xxb634c/precomputed/catmaid_skels/presynapses/presynapses_cell/3808894\n",
      "making: /private/var/folders/_l/lrfvj_8j3ps0c37ncbr3c8dh0000gn/T/tmp3xxb634c/precomputed/catmaid_skels/postsynapses/postsynapses_cell/3808894\n",
      "Adding neuron:  8672384\n",
      "making: /private/var/folders/_l/lrfvj_8j3ps0c37ncbr3c8dh0000gn/T/tmp3xxb634c/precomputed/catmaid_skels/presynapses/presynapses_cell/8672384\n",
      "making: /private/var/folders/_l/lrfvj_8j3ps0c37ncbr3c8dh0000gn/T/tmp3xxb634c/precomputed/catmaid_skels/postsynapses/postsynapses_cell/8672384\n",
      "Adding neuron:  11774082\n",
      "making: /private/var/folders/_l/lrfvj_8j3ps0c37ncbr3c8dh0000gn/T/tmp3xxb634c/precomputed/catmaid_skels/presynapses/presynapses_cell/11774082\n",
      "making: /private/var/folders/_l/lrfvj_8j3ps0c37ncbr3c8dh0000gn/T/tmp3xxb634c/precomputed/catmaid_skels/postsynapses/postsynapses_cell/11774082\n",
      "Adding neuron:  8490628\n",
      "making: /private/var/folders/_l/lrfvj_8j3ps0c37ncbr3c8dh0000gn/T/tmp3xxb634c/precomputed/catmaid_skels/presynapses/presynapses_cell/8490628\n",
      "making: /private/var/folders/_l/lrfvj_8j3ps0c37ncbr3c8dh0000gn/T/tmp3xxb634c/precomputed/catmaid_skels/postsynapses/postsynapses_cell/8490628\n",
      "Adding neuron:  3808901\n",
      "making: /private/var/folders/_l/lrfvj_8j3ps0c37ncbr3c8dh0000gn/T/tmp3xxb634c/precomputed/catmaid_skels/presynapses/presynapses_cell/3808901\n",
      "making: /private/var/folders/_l/lrfvj_8j3ps0c37ncbr3c8dh0000gn/T/tmp3xxb634c/precomputed/catmaid_skels/postsynapses/postsynapses_cell/3808901\n",
      "Adding neuron:  8490635\n",
      "making: /private/var/folders/_l/lrfvj_8j3ps0c37ncbr3c8dh0000gn/T/tmp3xxb634c/precomputed/catmaid_skels/presynapses/presynapses_cell/8490635\n",
      "making: /private/var/folders/_l/lrfvj_8j3ps0c37ncbr3c8dh0000gn/T/tmp3xxb634c/precomputed/catmaid_skels/postsynapses/postsynapses_cell/8490635\n",
      "Adding neuron:  5164684\n",
      "making: /private/var/folders/_l/lrfvj_8j3ps0c37ncbr3c8dh0000gn/T/tmp3xxb634c/precomputed/catmaid_skels/presynapses/presynapses_cell/5164684\n",
      "making: /private/var/folders/_l/lrfvj_8j3ps0c37ncbr3c8dh0000gn/T/tmp3xxb634c/precomputed/catmaid_skels/postsynapses/postsynapses_cell/5164684\n",
      "Adding neuron:  8727184\n",
      "making: /private/var/folders/_l/lrfvj_8j3ps0c37ncbr3c8dh0000gn/T/tmp3xxb634c/precomputed/catmaid_skels/presynapses/presynapses_cell/8727184\n",
      "making: /private/var/folders/_l/lrfvj_8j3ps0c37ncbr3c8dh0000gn/T/tmp3xxb634c/precomputed/catmaid_skels/postsynapses/postsynapses_cell/8727184\n",
      "Adding neuron:  7365266\n",
      "making: /private/var/folders/_l/lrfvj_8j3ps0c37ncbr3c8dh0000gn/T/tmp3xxb634c/precomputed/catmaid_skels/presynapses/presynapses_cell/7365266\n",
      "making: /private/var/folders/_l/lrfvj_8j3ps0c37ncbr3c8dh0000gn/T/tmp3xxb634c/precomputed/catmaid_skels/postsynapses/postsynapses_cell/7365266\n",
      "Adding neuron:  3823762\n",
      "making: /private/var/folders/_l/lrfvj_8j3ps0c37ncbr3c8dh0000gn/T/tmp3xxb634c/precomputed/catmaid_skels/presynapses/presynapses_cell/3823762\n",
      "making: /private/var/folders/_l/lrfvj_8j3ps0c37ncbr3c8dh0000gn/T/tmp3xxb634c/precomputed/catmaid_skels/postsynapses/postsynapses_cell/3823762\n",
      "Adding neuron:  11720855\n",
      "making: /private/var/folders/_l/lrfvj_8j3ps0c37ncbr3c8dh0000gn/T/tmp3xxb634c/precomputed/catmaid_skels/presynapses/presynapses_cell/11720855\n",
      "making: /private/var/folders/_l/lrfvj_8j3ps0c37ncbr3c8dh0000gn/T/tmp3xxb634c/precomputed/catmaid_skels/postsynapses/postsynapses_cell/11720855\n",
      "Adding neuron:  13762716\n",
      "making: /private/var/folders/_l/lrfvj_8j3ps0c37ncbr3c8dh0000gn/T/tmp3xxb634c/precomputed/catmaid_skels/presynapses/presynapses_cell/13762716\n",
      "making: /private/var/folders/_l/lrfvj_8j3ps0c37ncbr3c8dh0000gn/T/tmp3xxb634c/precomputed/catmaid_skels/postsynapses/postsynapses_cell/13762716\n",
      "Adding neuron:  11720861\n",
      "making: /private/var/folders/_l/lrfvj_8j3ps0c37ncbr3c8dh0000gn/T/tmp3xxb634c/precomputed/catmaid_skels/presynapses/presynapses_cell/11720861\n",
      "making: /private/var/folders/_l/lrfvj_8j3ps0c37ncbr3c8dh0000gn/T/tmp3xxb634c/precomputed/catmaid_skels/postsynapses/postsynapses_cell/11720861\n",
      "Adding neuron:  1989293\n",
      "making: /private/var/folders/_l/lrfvj_8j3ps0c37ncbr3c8dh0000gn/T/tmp3xxb634c/precomputed/catmaid_skels/presynapses/presynapses_cell/1989293\n",
      "making: /private/var/folders/_l/lrfvj_8j3ps0c37ncbr3c8dh0000gn/T/tmp3xxb634c/precomputed/catmaid_skels/postsynapses/postsynapses_cell/1989293\n",
      "Adding neuron:  3802286\n",
      "making: /private/var/folders/_l/lrfvj_8j3ps0c37ncbr3c8dh0000gn/T/tmp3xxb634c/precomputed/catmaid_skels/presynapses/presynapses_cell/3802286\n",
      "making: /private/var/folders/_l/lrfvj_8j3ps0c37ncbr3c8dh0000gn/T/tmp3xxb634c/precomputed/catmaid_skels/postsynapses/postsynapses_cell/3802286\n",
      "Adding neuron:  8382638\n",
      "making: /private/var/folders/_l/lrfvj_8j3ps0c37ncbr3c8dh0000gn/T/tmp3xxb634c/precomputed/catmaid_skels/presynapses/presynapses_cell/8382638\n",
      "making: /private/var/folders/_l/lrfvj_8j3ps0c37ncbr3c8dh0000gn/T/tmp3xxb634c/precomputed/catmaid_skels/postsynapses/postsynapses_cell/8382638\n",
      "Adding neuron:  3823793\n",
      "making: /private/var/folders/_l/lrfvj_8j3ps0c37ncbr3c8dh0000gn/T/tmp3xxb634c/precomputed/catmaid_skels/presynapses/presynapses_cell/3823793\n",
      "making: /private/var/folders/_l/lrfvj_8j3ps0c37ncbr3c8dh0000gn/T/tmp3xxb634c/precomputed/catmaid_skels/postsynapses/postsynapses_cell/3823793\n",
      "Adding neuron:  8382644\n",
      "making: /private/var/folders/_l/lrfvj_8j3ps0c37ncbr3c8dh0000gn/T/tmp3xxb634c/precomputed/catmaid_skels/presynapses/presynapses_cell/8382644\n",
      "making: /private/var/folders/_l/lrfvj_8j3ps0c37ncbr3c8dh0000gn/T/tmp3xxb634c/precomputed/catmaid_skels/postsynapses/postsynapses_cell/8382644\n",
      "Adding neuron:  8382651\n",
      "making: /private/var/folders/_l/lrfvj_8j3ps0c37ncbr3c8dh0000gn/T/tmp3xxb634c/precomputed/catmaid_skels/presynapses/presynapses_cell/8382651\n",
      "making: /private/var/folders/_l/lrfvj_8j3ps0c37ncbr3c8dh0000gn/T/tmp3xxb634c/precomputed/catmaid_skels/postsynapses/postsynapses_cell/8382651\n",
      "Adding neuron:  5158081\n",
      "making: /private/var/folders/_l/lrfvj_8j3ps0c37ncbr3c8dh0000gn/T/tmp3xxb634c/precomputed/catmaid_skels/presynapses/presynapses_cell/5158081\n",
      "making: /private/var/folders/_l/lrfvj_8j3ps0c37ncbr3c8dh0000gn/T/tmp3xxb634c/precomputed/catmaid_skels/postsynapses/postsynapses_cell/5158081\n",
      "Adding neuron:  8552643\n",
      "making: /private/var/folders/_l/lrfvj_8j3ps0c37ncbr3c8dh0000gn/T/tmp3xxb634c/precomputed/catmaid_skels/presynapses/presynapses_cell/8552643\n",
      "making: /private/var/folders/_l/lrfvj_8j3ps0c37ncbr3c8dh0000gn/T/tmp3xxb634c/precomputed/catmaid_skels/postsynapses/postsynapses_cell/8552643\n",
      "Adding neuron:  8762565\n",
      "making: /private/var/folders/_l/lrfvj_8j3ps0c37ncbr3c8dh0000gn/T/tmp3xxb634c/precomputed/catmaid_skels/presynapses/presynapses_cell/8762565\n",
      "making: /private/var/folders/_l/lrfvj_8j3ps0c37ncbr3c8dh0000gn/T/tmp3xxb634c/precomputed/catmaid_skels/postsynapses/postsynapses_cell/8762565\n",
      "Adding neuron:  11920073\n",
      "making: /private/var/folders/_l/lrfvj_8j3ps0c37ncbr3c8dh0000gn/T/tmp3xxb634c/precomputed/catmaid_skels/presynapses/presynapses_cell/11920073\n",
      "making: /private/var/folders/_l/lrfvj_8j3ps0c37ncbr3c8dh0000gn/T/tmp3xxb634c/precomputed/catmaid_skels/postsynapses/postsynapses_cell/11920073\n",
      "Adding neuron:  6535884\n",
      "making: /private/var/folders/_l/lrfvj_8j3ps0c37ncbr3c8dh0000gn/T/tmp3xxb634c/precomputed/catmaid_skels/presynapses/presynapses_cell/6535884\n",
      "making: /private/var/folders/_l/lrfvj_8j3ps0c37ncbr3c8dh0000gn/T/tmp3xxb634c/precomputed/catmaid_skels/postsynapses/postsynapses_cell/6535884\n",
      "Adding neuron:  5038796\n",
      "making: /private/var/folders/_l/lrfvj_8j3ps0c37ncbr3c8dh0000gn/T/tmp3xxb634c/precomputed/catmaid_skels/presynapses/presynapses_cell/5038796\n",
      "making: /private/var/folders/_l/lrfvj_8j3ps0c37ncbr3c8dh0000gn/T/tmp3xxb634c/precomputed/catmaid_skels/postsynapses/postsynapses_cell/5038796\n",
      "Adding neuron:  7961811\n",
      "making: /private/var/folders/_l/lrfvj_8j3ps0c37ncbr3c8dh0000gn/T/tmp3xxb634c/precomputed/catmaid_skels/presynapses/presynapses_cell/7961811\n",
      "making: /private/var/folders/_l/lrfvj_8j3ps0c37ncbr3c8dh0000gn/T/tmp3xxb634c/precomputed/catmaid_skels/postsynapses/postsynapses_cell/7961811\n",
      "Adding neuron:  3823828\n",
      "making: /private/var/folders/_l/lrfvj_8j3ps0c37ncbr3c8dh0000gn/T/tmp3xxb634c/precomputed/catmaid_skels/presynapses/presynapses_cell/3823828\n",
      "making: /private/var/folders/_l/lrfvj_8j3ps0c37ncbr3c8dh0000gn/T/tmp3xxb634c/precomputed/catmaid_skels/postsynapses/postsynapses_cell/3823828\n",
      "Adding neuron:  12024537\n",
      "making: /private/var/folders/_l/lrfvj_8j3ps0c37ncbr3c8dh0000gn/T/tmp3xxb634c/precomputed/catmaid_skels/presynapses/presynapses_cell/12024537\n",
      "making: /private/var/folders/_l/lrfvj_8j3ps0c37ncbr3c8dh0000gn/T/tmp3xxb634c/precomputed/catmaid_skels/postsynapses/postsynapses_cell/12024537\n",
      "Adding neuron:  5849310\n",
      "making: /private/var/folders/_l/lrfvj_8j3ps0c37ncbr3c8dh0000gn/T/tmp3xxb634c/precomputed/catmaid_skels/presynapses/presynapses_cell/5849310\n",
      "making: /private/var/folders/_l/lrfvj_8j3ps0c37ncbr3c8dh0000gn/T/tmp3xxb634c/precomputed/catmaid_skels/postsynapses/postsynapses_cell/5849310\n",
      "Adding neuron:  8736990\n",
      "making: /private/var/folders/_l/lrfvj_8j3ps0c37ncbr3c8dh0000gn/T/tmp3xxb634c/precomputed/catmaid_skels/presynapses/presynapses_cell/8736990\n",
      "making: /private/var/folders/_l/lrfvj_8j3ps0c37ncbr3c8dh0000gn/T/tmp3xxb634c/precomputed/catmaid_skels/postsynapses/postsynapses_cell/8736990\n",
      "Adding neuron:  3823842\n",
      "making: /private/var/folders/_l/lrfvj_8j3ps0c37ncbr3c8dh0000gn/T/tmp3xxb634c/precomputed/catmaid_skels/presynapses/presynapses_cell/3823842\n",
      "making: /private/var/folders/_l/lrfvj_8j3ps0c37ncbr3c8dh0000gn/T/tmp3xxb634c/precomputed/catmaid_skels/postsynapses/postsynapses_cell/3823842\n",
      "Adding neuron:  11920098\n",
      "making: /private/var/folders/_l/lrfvj_8j3ps0c37ncbr3c8dh0000gn/T/tmp3xxb634c/precomputed/catmaid_skels/presynapses/presynapses_cell/11920098\n",
      "making: /private/var/folders/_l/lrfvj_8j3ps0c37ncbr3c8dh0000gn/T/tmp3xxb634c/precomputed/catmaid_skels/postsynapses/postsynapses_cell/11920098\n",
      "Adding neuron:  7179492\n",
      "making: /private/var/folders/_l/lrfvj_8j3ps0c37ncbr3c8dh0000gn/T/tmp3xxb634c/precomputed/catmaid_skels/presynapses/presynapses_cell/7179492\n",
      "making: /private/var/folders/_l/lrfvj_8j3ps0c37ncbr3c8dh0000gn/T/tmp3xxb634c/precomputed/catmaid_skels/postsynapses/postsynapses_cell/7179492\n",
      "Adding neuron:  12867308\n",
      "making: /private/var/folders/_l/lrfvj_8j3ps0c37ncbr3c8dh0000gn/T/tmp3xxb634c/precomputed/catmaid_skels/presynapses/presynapses_cell/12867308\n",
      "making: /private/var/folders/_l/lrfvj_8j3ps0c37ncbr3c8dh0000gn/T/tmp3xxb634c/precomputed/catmaid_skels/postsynapses/postsynapses_cell/12867308\n",
      "Adding neuron:  7179501\n",
      "making: /private/var/folders/_l/lrfvj_8j3ps0c37ncbr3c8dh0000gn/T/tmp3xxb634c/precomputed/catmaid_skels/presynapses/presynapses_cell/7179501\n",
      "making: /private/var/folders/_l/lrfvj_8j3ps0c37ncbr3c8dh0000gn/T/tmp3xxb634c/precomputed/catmaid_skels/postsynapses/postsynapses_cell/7179501\n",
      "Adding neuron:  1783540\n",
      "making: /private/var/folders/_l/lrfvj_8j3ps0c37ncbr3c8dh0000gn/T/tmp3xxb634c/precomputed/catmaid_skels/presynapses/presynapses_cell/1783540\n",
      "making: /private/var/folders/_l/lrfvj_8j3ps0c37ncbr3c8dh0000gn/T/tmp3xxb634c/precomputed/catmaid_skels/postsynapses/postsynapses_cell/1783540\n",
      "Adding neuron:  8750841\n",
      "making: /private/var/folders/_l/lrfvj_8j3ps0c37ncbr3c8dh0000gn/T/tmp3xxb634c/precomputed/catmaid_skels/presynapses/presynapses_cell/8750841\n",
      "making: /private/var/folders/_l/lrfvj_8j3ps0c37ncbr3c8dh0000gn/T/tmp3xxb634c/precomputed/catmaid_skels/postsynapses/postsynapses_cell/8750841\n",
      "Adding neuron:  6128900\n",
      "making: /private/var/folders/_l/lrfvj_8j3ps0c37ncbr3c8dh0000gn/T/tmp3xxb634c/precomputed/catmaid_skels/presynapses/presynapses_cell/6128900\n",
      "making: /private/var/folders/_l/lrfvj_8j3ps0c37ncbr3c8dh0000gn/T/tmp3xxb634c/precomputed/catmaid_skels/postsynapses/postsynapses_cell/6128900\n",
      "Adding neuron:  11673863\n",
      "making: /private/var/folders/_l/lrfvj_8j3ps0c37ncbr3c8dh0000gn/T/tmp3xxb634c/precomputed/catmaid_skels/presynapses/presynapses_cell/11673863\n",
      "making: /private/var/folders/_l/lrfvj_8j3ps0c37ncbr3c8dh0000gn/T/tmp3xxb634c/precomputed/catmaid_skels/postsynapses/postsynapses_cell/11673863\n",
      "Adding neuron:  5184269\n",
      "making: /private/var/folders/_l/lrfvj_8j3ps0c37ncbr3c8dh0000gn/T/tmp3xxb634c/precomputed/catmaid_skels/presynapses/presynapses_cell/5184269\n",
      "making: /private/var/folders/_l/lrfvj_8j3ps0c37ncbr3c8dh0000gn/T/tmp3xxb634c/precomputed/catmaid_skels/postsynapses/postsynapses_cell/5184269\n",
      "Adding neuron:  11673877\n",
      "making: /private/var/folders/_l/lrfvj_8j3ps0c37ncbr3c8dh0000gn/T/tmp3xxb634c/precomputed/catmaid_skels/presynapses/presynapses_cell/11673877\n",
      "making: /private/var/folders/_l/lrfvj_8j3ps0c37ncbr3c8dh0000gn/T/tmp3xxb634c/precomputed/catmaid_skels/postsynapses/postsynapses_cell/11673877\n",
      "Adding neuron:  7179547\n",
      "making: /private/var/folders/_l/lrfvj_8j3ps0c37ncbr3c8dh0000gn/T/tmp3xxb634c/precomputed/catmaid_skels/presynapses/presynapses_cell/7179547\n",
      "making: /private/var/folders/_l/lrfvj_8j3ps0c37ncbr3c8dh0000gn/T/tmp3xxb634c/precomputed/catmaid_skels/postsynapses/postsynapses_cell/7179547\n",
      "Adding neuron:  6621981\n",
      "making: /private/var/folders/_l/lrfvj_8j3ps0c37ncbr3c8dh0000gn/T/tmp3xxb634c/precomputed/catmaid_skels/presynapses/presynapses_cell/6621981\n",
      "making: /private/var/folders/_l/lrfvj_8j3ps0c37ncbr3c8dh0000gn/T/tmp3xxb634c/precomputed/catmaid_skels/postsynapses/postsynapses_cell/6621981\n",
      "Adding neuron:  11161904\n",
      "making: /private/var/folders/_l/lrfvj_8j3ps0c37ncbr3c8dh0000gn/T/tmp3xxb634c/precomputed/catmaid_skels/presynapses/presynapses_cell/11161904\n",
      "making: /private/var/folders/_l/lrfvj_8j3ps0c37ncbr3c8dh0000gn/T/tmp3xxb634c/precomputed/catmaid_skels/postsynapses/postsynapses_cell/11161904\n",
      "Adding neuron:  8552754\n",
      "making: /private/var/folders/_l/lrfvj_8j3ps0c37ncbr3c8dh0000gn/T/tmp3xxb634c/precomputed/catmaid_skels/presynapses/presynapses_cell/8552754\n",
      "making: /private/var/folders/_l/lrfvj_8j3ps0c37ncbr3c8dh0000gn/T/tmp3xxb634c/precomputed/catmaid_skels/postsynapses/postsynapses_cell/8552754\n",
      "Adding neuron:  4079928\n",
      "making: /private/var/folders/_l/lrfvj_8j3ps0c37ncbr3c8dh0000gn/T/tmp3xxb634c/precomputed/catmaid_skels/presynapses/presynapses_cell/4079928\n",
      "making: /private/var/folders/_l/lrfvj_8j3ps0c37ncbr3c8dh0000gn/T/tmp3xxb634c/precomputed/catmaid_skels/postsynapses/postsynapses_cell/4079928\n",
      "Adding neuron:  7363897\n",
      "making: /private/var/folders/_l/lrfvj_8j3ps0c37ncbr3c8dh0000gn/T/tmp3xxb634c/precomputed/catmaid_skels/presynapses/presynapses_cell/7363897\n",
      "making: /private/var/folders/_l/lrfvj_8j3ps0c37ncbr3c8dh0000gn/T/tmp3xxb634c/precomputed/catmaid_skels/postsynapses/postsynapses_cell/7363897\n",
      "Adding neuron:  12013369\n",
      "making: /private/var/folders/_l/lrfvj_8j3ps0c37ncbr3c8dh0000gn/T/tmp3xxb634c/precomputed/catmaid_skels/presynapses/presynapses_cell/12013369\n",
      "making: /private/var/folders/_l/lrfvj_8j3ps0c37ncbr3c8dh0000gn/T/tmp3xxb634c/precomputed/catmaid_skels/postsynapses/postsynapses_cell/12013369\n",
      "Adding neuron:  7490384\n",
      "making: /private/var/folders/_l/lrfvj_8j3ps0c37ncbr3c8dh0000gn/T/tmp3xxb634c/precomputed/catmaid_skels/presynapses/presynapses_cell/7490384\n",
      "making: /private/var/folders/_l/lrfvj_8j3ps0c37ncbr3c8dh0000gn/T/tmp3xxb634c/precomputed/catmaid_skels/postsynapses/postsynapses_cell/7490384\n",
      "Adding neuron:  14545747\n",
      "making: /private/var/folders/_l/lrfvj_8j3ps0c37ncbr3c8dh0000gn/T/tmp3xxb634c/precomputed/catmaid_skels/presynapses/presynapses_cell/14545747\n",
      "making: /private/var/folders/_l/lrfvj_8j3ps0c37ncbr3c8dh0000gn/T/tmp3xxb634c/precomputed/catmaid_skels/postsynapses/postsynapses_cell/14545747\n",
      "Adding neuron:  8749911\n",
      "making: /private/var/folders/_l/lrfvj_8j3ps0c37ncbr3c8dh0000gn/T/tmp3xxb634c/precomputed/catmaid_skels/presynapses/presynapses_cell/8749911\n",
      "making: /private/var/folders/_l/lrfvj_8j3ps0c37ncbr3c8dh0000gn/T/tmp3xxb634c/precomputed/catmaid_skels/postsynapses/postsynapses_cell/8749911\n",
      "Adding neuron:  7167832\n",
      "making: /private/var/folders/_l/lrfvj_8j3ps0c37ncbr3c8dh0000gn/T/tmp3xxb634c/precomputed/catmaid_skels/presynapses/presynapses_cell/7167832\n",
      "making: /private/var/folders/_l/lrfvj_8j3ps0c37ncbr3c8dh0000gn/T/tmp3xxb634c/precomputed/catmaid_skels/postsynapses/postsynapses_cell/7167832\n",
      "Adding neuron:  14020953\n",
      "making: /private/var/folders/_l/lrfvj_8j3ps0c37ncbr3c8dh0000gn/T/tmp3xxb634c/precomputed/catmaid_skels/presynapses/presynapses_cell/14020953\n",
      "making: /private/var/folders/_l/lrfvj_8j3ps0c37ncbr3c8dh0000gn/T/tmp3xxb634c/precomputed/catmaid_skels/postsynapses/postsynapses_cell/14020953\n",
      "Adding neuron:  8677211\n",
      "making: /private/var/folders/_l/lrfvj_8j3ps0c37ncbr3c8dh0000gn/T/tmp3xxb634c/precomputed/catmaid_skels/presynapses/presynapses_cell/8677211\n",
      "making: /private/var/folders/_l/lrfvj_8j3ps0c37ncbr3c8dh0000gn/T/tmp3xxb634c/precomputed/catmaid_skels/postsynapses/postsynapses_cell/8677211\n",
      "Adding neuron:  7179613\n",
      "making: /private/var/folders/_l/lrfvj_8j3ps0c37ncbr3c8dh0000gn/T/tmp3xxb634c/precomputed/catmaid_skels/presynapses/presynapses_cell/7179613\n",
      "making: /private/var/folders/_l/lrfvj_8j3ps0c37ncbr3c8dh0000gn/T/tmp3xxb634c/precomputed/catmaid_skels/postsynapses/postsynapses_cell/7179613\n",
      "Adding neuron:  10133855\n",
      "making: /private/var/folders/_l/lrfvj_8j3ps0c37ncbr3c8dh0000gn/T/tmp3xxb634c/precomputed/catmaid_skels/presynapses/presynapses_cell/10133855\n",
      "making: /private/var/folders/_l/lrfvj_8j3ps0c37ncbr3c8dh0000gn/T/tmp3xxb634c/precomputed/catmaid_skels/postsynapses/postsynapses_cell/10133855\n",
      "Adding neuron:  8594279\n",
      "making: /private/var/folders/_l/lrfvj_8j3ps0c37ncbr3c8dh0000gn/T/tmp3xxb634c/precomputed/catmaid_skels/presynapses/presynapses_cell/8594279\n",
      "making: /private/var/folders/_l/lrfvj_8j3ps0c37ncbr3c8dh0000gn/T/tmp3xxb634c/precomputed/catmaid_skels/postsynapses/postsynapses_cell/8594279\n",
      "Adding neuron:  11957607\n",
      "making: /private/var/folders/_l/lrfvj_8j3ps0c37ncbr3c8dh0000gn/T/tmp3xxb634c/precomputed/catmaid_skels/presynapses/presynapses_cell/11957607\n",
      "making: /private/var/folders/_l/lrfvj_8j3ps0c37ncbr3c8dh0000gn/T/tmp3xxb634c/precomputed/catmaid_skels/postsynapses/postsynapses_cell/11957607\n",
      "Adding neuron:  8677226\n",
      "making: /private/var/folders/_l/lrfvj_8j3ps0c37ncbr3c8dh0000gn/T/tmp3xxb634c/precomputed/catmaid_skels/presynapses/presynapses_cell/8677226\n",
      "making: /private/var/folders/_l/lrfvj_8j3ps0c37ncbr3c8dh0000gn/T/tmp3xxb634c/precomputed/catmaid_skels/postsynapses/postsynapses_cell/8677226\n",
      "Adding neuron:  7490413\n",
      "making: /private/var/folders/_l/lrfvj_8j3ps0c37ncbr3c8dh0000gn/T/tmp3xxb634c/precomputed/catmaid_skels/presynapses/presynapses_cell/7490413\n",
      "making: /private/var/folders/_l/lrfvj_8j3ps0c37ncbr3c8dh0000gn/T/tmp3xxb634c/precomputed/catmaid_skels/postsynapses/postsynapses_cell/7490413\n",
      "Adding neuron:  11957620\n",
      "making: /private/var/folders/_l/lrfvj_8j3ps0c37ncbr3c8dh0000gn/T/tmp3xxb634c/precomputed/catmaid_skels/presynapses/presynapses_cell/11957620\n",
      "making: /private/var/folders/_l/lrfvj_8j3ps0c37ncbr3c8dh0000gn/T/tmp3xxb634c/precomputed/catmaid_skels/postsynapses/postsynapses_cell/11957620\n",
      "Adding neuron:  1989493\n",
      "making: /private/var/folders/_l/lrfvj_8j3ps0c37ncbr3c8dh0000gn/T/tmp3xxb634c/precomputed/catmaid_skels/presynapses/presynapses_cell/1989493\n",
      "making: /private/var/folders/_l/lrfvj_8j3ps0c37ncbr3c8dh0000gn/T/tmp3xxb634c/precomputed/catmaid_skels/postsynapses/postsynapses_cell/1989493\n",
      "Adding neuron:  7278969\n",
      "making: /private/var/folders/_l/lrfvj_8j3ps0c37ncbr3c8dh0000gn/T/tmp3xxb634c/precomputed/catmaid_skels/presynapses/presynapses_cell/7278969\n",
      "making: /private/var/folders/_l/lrfvj_8j3ps0c37ncbr3c8dh0000gn/T/tmp3xxb634c/precomputed/catmaid_skels/postsynapses/postsynapses_cell/7278969\n",
      "Adding neuron:  5530489\n",
      "making: /private/var/folders/_l/lrfvj_8j3ps0c37ncbr3c8dh0000gn/T/tmp3xxb634c/precomputed/catmaid_skels/presynapses/presynapses_cell/5530489\n",
      "making: /private/var/folders/_l/lrfvj_8j3ps0c37ncbr3c8dh0000gn/T/tmp3xxb634c/precomputed/catmaid_skels/postsynapses/postsynapses_cell/5530489\n",
      "Adding neuron:  5849467\n",
      "making: /private/var/folders/_l/lrfvj_8j3ps0c37ncbr3c8dh0000gn/T/tmp3xxb634c/precomputed/catmaid_skels/presynapses/presynapses_cell/5849467\n",
      "making: /private/var/folders/_l/lrfvj_8j3ps0c37ncbr3c8dh0000gn/T/tmp3xxb634c/precomputed/catmaid_skels/postsynapses/postsynapses_cell/5849467\n",
      "Adding neuron:  11957632\n",
      "making: /private/var/folders/_l/lrfvj_8j3ps0c37ncbr3c8dh0000gn/T/tmp3xxb634c/precomputed/catmaid_skels/presynapses/presynapses_cell/11957632\n",
      "making: /private/var/folders/_l/lrfvj_8j3ps0c37ncbr3c8dh0000gn/T/tmp3xxb634c/precomputed/catmaid_skels/postsynapses/postsynapses_cell/11957632\n",
      "Adding neuron:  4081029\n",
      "making: /private/var/folders/_l/lrfvj_8j3ps0c37ncbr3c8dh0000gn/T/tmp3xxb634c/precomputed/catmaid_skels/presynapses/presynapses_cell/4081029\n",
      "making: /private/var/folders/_l/lrfvj_8j3ps0c37ncbr3c8dh0000gn/T/tmp3xxb634c/precomputed/catmaid_skels/postsynapses/postsynapses_cell/4081029\n",
      "Adding neuron:  13281170\n",
      "making: /private/var/folders/_l/lrfvj_8j3ps0c37ncbr3c8dh0000gn/T/tmp3xxb634c/precomputed/catmaid_skels/presynapses/presynapses_cell/13281170\n",
      "making: /private/var/folders/_l/lrfvj_8j3ps0c37ncbr3c8dh0000gn/T/tmp3xxb634c/precomputed/catmaid_skels/postsynapses/postsynapses_cell/13281170\n",
      "Adding neuron:  7462291\n",
      "making: /private/var/folders/_l/lrfvj_8j3ps0c37ncbr3c8dh0000gn/T/tmp3xxb634c/precomputed/catmaid_skels/presynapses/presynapses_cell/7462291\n",
      "making: /private/var/folders/_l/lrfvj_8j3ps0c37ncbr3c8dh0000gn/T/tmp3xxb634c/precomputed/catmaid_skels/postsynapses/postsynapses_cell/7462291\n",
      "Adding neuron:  7161775\n",
      "making: /private/var/folders/_l/lrfvj_8j3ps0c37ncbr3c8dh0000gn/T/tmp3xxb634c/precomputed/catmaid_skels/presynapses/presynapses_cell/7161775\n",
      "making: /private/var/folders/_l/lrfvj_8j3ps0c37ncbr3c8dh0000gn/T/tmp3xxb634c/precomputed/catmaid_skels/postsynapses/postsynapses_cell/7161775\n",
      "Adding neuron:  11858364\n",
      "making: /private/var/folders/_l/lrfvj_8j3ps0c37ncbr3c8dh0000gn/T/tmp3xxb634c/precomputed/catmaid_skels/presynapses/presynapses_cell/11858364\n",
      "making: /private/var/folders/_l/lrfvj_8j3ps0c37ncbr3c8dh0000gn/T/tmp3xxb634c/precomputed/catmaid_skels/postsynapses/postsynapses_cell/11858364\n",
      "Adding neuron:  11355584\n",
      "making: /private/var/folders/_l/lrfvj_8j3ps0c37ncbr3c8dh0000gn/T/tmp3xxb634c/precomputed/catmaid_skels/presynapses/presynapses_cell/11355584\n",
      "making: /private/var/folders/_l/lrfvj_8j3ps0c37ncbr3c8dh0000gn/T/tmp3xxb634c/precomputed/catmaid_skels/postsynapses/postsynapses_cell/11355584\n",
      "Adding neuron:  5007809\n",
      "making: /private/var/folders/_l/lrfvj_8j3ps0c37ncbr3c8dh0000gn/T/tmp3xxb634c/precomputed/catmaid_skels/presynapses/presynapses_cell/5007809\n",
      "making: /private/var/folders/_l/lrfvj_8j3ps0c37ncbr3c8dh0000gn/T/tmp3xxb634c/precomputed/catmaid_skels/postsynapses/postsynapses_cell/5007809\n",
      "Adding neuron:  8752609\n",
      "making: /private/var/folders/_l/lrfvj_8j3ps0c37ncbr3c8dh0000gn/T/tmp3xxb634c/precomputed/catmaid_skels/presynapses/presynapses_cell/8752609\n",
      "making: /private/var/folders/_l/lrfvj_8j3ps0c37ncbr3c8dh0000gn/T/tmp3xxb634c/precomputed/catmaid_skels/postsynapses/postsynapses_cell/8752609\n",
      "Adding neuron:  11085282\n",
      "making: /private/var/folders/_l/lrfvj_8j3ps0c37ncbr3c8dh0000gn/T/tmp3xxb634c/precomputed/catmaid_skels/presynapses/presynapses_cell/11085282\n",
      "making: /private/var/folders/_l/lrfvj_8j3ps0c37ncbr3c8dh0000gn/T/tmp3xxb634c/precomputed/catmaid_skels/postsynapses/postsynapses_cell/11085282\n",
      "Adding neuron:  11085290\n",
      "making: /private/var/folders/_l/lrfvj_8j3ps0c37ncbr3c8dh0000gn/T/tmp3xxb634c/precomputed/catmaid_skels/presynapses/presynapses_cell/11085290\n",
      "making: /private/var/folders/_l/lrfvj_8j3ps0c37ncbr3c8dh0000gn/T/tmp3xxb634c/precomputed/catmaid_skels/postsynapses/postsynapses_cell/11085290\n",
      "Adding neuron:  7348208\n",
      "making: /private/var/folders/_l/lrfvj_8j3ps0c37ncbr3c8dh0000gn/T/tmp3xxb634c/precomputed/catmaid_skels/presynapses/presynapses_cell/7348208\n",
      "making: /private/var/folders/_l/lrfvj_8j3ps0c37ncbr3c8dh0000gn/T/tmp3xxb634c/precomputed/catmaid_skels/postsynapses/postsynapses_cell/7348208\n",
      "Adding neuron:  5111282\n",
      "making: /private/var/folders/_l/lrfvj_8j3ps0c37ncbr3c8dh0000gn/T/tmp3xxb634c/precomputed/catmaid_skels/presynapses/presynapses_cell/5111282\n",
      "making: /private/var/folders/_l/lrfvj_8j3ps0c37ncbr3c8dh0000gn/T/tmp3xxb634c/precomputed/catmaid_skels/postsynapses/postsynapses_cell/5111282\n",
      "Adding neuron:  4081141\n",
      "making: /private/var/folders/_l/lrfvj_8j3ps0c37ncbr3c8dh0000gn/T/tmp3xxb634c/precomputed/catmaid_skels/presynapses/presynapses_cell/4081141\n",
      "making: /private/var/folders/_l/lrfvj_8j3ps0c37ncbr3c8dh0000gn/T/tmp3xxb634c/precomputed/catmaid_skels/postsynapses/postsynapses_cell/4081141\n",
      "Using layout : xy-3d\n"
     ]
    },
    {
     "name": "stderr",
     "output_type": "stream",
     "text": [
      "127.0.0.1 - - [08/Jun/2021 15:45:16] \"GET /precomputed/catmaid_skels/presynapses/info HTTP/1.1\" 200 -\n",
      "127.0.0.1 - - [08/Jun/2021 15:45:16] \"GET /precomputed/catmaid_skels/postsynapses/info HTTP/1.1\" 200 -\n"
     ]
    }
   ],
   "source": [
    "tmpviewer = create_nglayer(layer_kws = {'type': 'synapses',\n",
    "                                        'linked_layername': 'catmaid_skels',\n",
    "                                        'source': catmiad_neuronlist})"
   ]
  },
  {
   "cell_type": "markdown",
   "metadata": {},
   "source": [
    "## Step 8: Add neuropil meshes to neuroglancer layers.."
   ]
  },
  {
   "cell_type": "code",
   "execution_count": 15,
   "metadata": {},
   "outputs": [
    {
     "name": "stdout",
     "output_type": "stream",
     "text": [
      "config file loc is at: None\n",
      "using default location at:  /Users/sri/.pyroglancer/config.yml\n",
      "Dimensions are in : FAFB\n",
      "Layer created:  volumes\n",
      "mesh/200\n",
      "Seg id is: 200\n",
      "Full filepath: /private/var/folders/_l/lrfvj_8j3ps0c37ncbr3c8dh0000gn/T/tmp3xxb634c/precomputed/neuropils/mesh/200\n",
      "Vol id is: 200\n",
      "mesh/300\n",
      "Seg id is: 300\n",
      "Full filepath: /private/var/folders/_l/lrfvj_8j3ps0c37ncbr3c8dh0000gn/T/tmp3xxb634c/precomputed/neuropils/mesh/300\n",
      "Vol id is: 300\n"
     ]
    },
    {
     "name": "stderr",
     "output_type": "stream",
     "text": [
      "Creating Shard Groupings: 100%|██████████| 2/2 [00:00<00:00, 11382.10it/s]\n",
      "Synthesizing Shard Files: 100%|██████████| 1/1 [00:00<00:00, 5370.43it/s]"
     ]
    },
    {
     "name": "stdout",
     "output_type": "stream",
     "text": [
      "creating: /private/var/folders/_l/lrfvj_8j3ps0c37ncbr3c8dh0000gn/T/tmp3xxb634c/precomputed/neuropils/mesh/segment_properties\n",
      "creating: /private/var/folders/_l/lrfvj_8j3ps0c37ncbr3c8dh0000gn/T/tmp3xxb634c/precomputed/neuropils/mesh/segment_names\n",
      "Using layout : xy-3d\n"
     ]
    },
    {
     "name": "stderr",
     "output_type": "stream",
     "text": [
      "\n"
     ]
    }
   ],
   "source": [
    "tmpviewer = create_nglayer(layer_kws = {'type': 'volumes','source': [vols['AL_R'],vols['AL_L']],\n",
    "                                        'name': 'neuropils','color': ['magenta', 'blue'], 'alpha': 0.3,\n",
    "                                        'multires': True, \n",
    "                                        'sharding': True,\n",
    "                                        'progress': True})"
   ]
  },
  {
   "cell_type": "markdown",
   "metadata": {},
   "source": [
    "## Step 9: Add annotations meshes to neuroglancer layers.."
   ]
  },
  {
   "cell_type": "code",
   "execution_count": 16,
   "metadata": {},
   "outputs": [
    {
     "name": "stderr",
     "output_type": "stream",
     "text": [
      "127.0.0.1 - - [08/Jun/2021 15:45:20] \"GET /precomputed/neuropils/mesh/info HTTP/1.1\" 200 -\n"
     ]
    }
   ],
   "source": [
    "temp_pts = pd.DataFrame([[123072, 47001, 3375]],columns=['x','y','z'])\n",
    "temp_pts = pd.DataFrame([[123072, 47001, 3375], [120000, 17001, 3000]], columns=['x', 'y', 'z'])\n",
    "temp_pts['description'] = ['center_pt','above_pt']"
   ]
  },
  {
   "cell_type": "code",
   "execution_count": 17,
   "metadata": {},
   "outputs": [
    {
     "name": "stdout",
     "output_type": "stream",
     "text": [
      "config file loc is at: None\n",
      "using default location at:  /Users/sri/.pyroglancer/config.yml\n",
      "Dimensions are in : FAFB\n",
      "Layer created:  points\n",
      "config file loc is at: None\n",
      "using default location at:  /Users/sri/.pyroglancer/config.yml\n",
      "Dimensions are in : FAFB\n",
      "using default location at:  /Users/sri/.pyroglancer/config.yml\n",
      "using  voxel space with scale:  [4, 4, 40]\n",
      "creating: /private/var/folders/_l/lrfvj_8j3ps0c37ncbr3c8dh0000gn/T/tmp3xxb634c/precomputed/landmarks\n",
      "/private/var/folders/_l/lrfvj_8j3ps0c37ncbr3c8dh0000gn/T/tmp3xxb634c/precomputed/landmarks/spatial0/0_0_0\n",
      "/private/var/folders/_l/lrfvj_8j3ps0c37ncbr3c8dh0000gn/T/tmp3xxb634c/precomputed/landmarks/by_id/0\n",
      "/private/var/folders/_l/lrfvj_8j3ps0c37ncbr3c8dh0000gn/T/tmp3xxb634c/precomputed/landmarks/by_id/1\n",
      "Using layout : xy-3d\n"
     ]
    },
    {
     "name": "stderr",
     "output_type": "stream",
     "text": [
      "127.0.0.1 - - [08/Jun/2021 15:45:20] \"GET /precomputed/neuropils/mesh/segment_properties/info HTTP/1.1\" 200 -\n",
      "127.0.0.1 - - [08/Jun/2021 15:45:20] \"GET /precomputed/landmarks/info HTTP/1.1\" 200 -\n",
      "127.0.0.1 - - [08/Jun/2021 15:45:22] code 404, message File not found\n",
      "127.0.0.1 - - [08/Jun/2021 15:45:22] \"GET /precomputed/catmaid_skels/presynapses/spatial0/0_0_0 HTTP/1.1\" 404 -\n",
      "127.0.0.1 - - [08/Jun/2021 15:45:22] code 404, message File not found\n",
      "127.0.0.1 - - [08/Jun/2021 15:45:22] \"GET /precomputed/catmaid_skels/postsynapses/spatial0/0_0_0 HTTP/1.1\" 404 -\n",
      "127.0.0.1 - - [08/Jun/2021 15:45:22] \"GET /precomputed/landmarks/spatial0/0_0_0 HTTP/1.1\" 200 -\n",
      "127.0.0.1 - - [08/Jun/2021 15:45:27] \"OPTIONS /precomputed/neuropils/mesh/22b9.shard HTTP/1.1\" 200 -\n",
      "127.0.0.1 - - [08/Jun/2021 15:45:27] \"OPTIONS /precomputed/neuropils/mesh/22b9.shard HTTP/1.1\" 200 -\n",
      "127.0.0.1 - - [08/Jun/2021 15:45:27] \"GET /precomputed/neuropils/mesh/22b9.shard HTTP/1.1\" 206 -\n",
      "127.0.0.1 - - [08/Jun/2021 15:45:27] \"OPTIONS /precomputed/neuropils/mesh/22b9.shard HTTP/1.1\" 200 -\n",
      "127.0.0.1 - - [08/Jun/2021 15:45:27] \"OPTIONS /precomputed/neuropils/mesh/22b9.shard HTTP/1.1\" 200 -\n",
      "127.0.0.1 - - [08/Jun/2021 15:45:27] \"GET /precomputed/neuropils/mesh/22b9.shard HTTP/1.1\" 206 -\n",
      "127.0.0.1 - - [08/Jun/2021 15:45:27] \"OPTIONS /precomputed/neuropils/mesh/22b9.shard HTTP/1.1\" 200 -\n",
      "127.0.0.1 - - [08/Jun/2021 15:45:27] \"OPTIONS /precomputed/neuropils/mesh/22b9.shard HTTP/1.1\" 200 -\n",
      "127.0.0.1 - - [08/Jun/2021 15:45:27] \"OPTIONS /precomputed/neuropils/mesh/22b9.shard HTTP/1.1\" 200 -\n",
      "127.0.0.1 - - [08/Jun/2021 15:45:27] \"OPTIONS /precomputed/neuropils/mesh/22b9.shard HTTP/1.1\" 200 -\n",
      "127.0.0.1 - - [08/Jun/2021 15:45:27] \"GET /precomputed/neuropils/mesh/22b9.shard HTTP/1.1\" 206 -\n",
      "127.0.0.1 - - [08/Jun/2021 15:45:27] \"GET /precomputed/neuropils/mesh/22b9.shard HTTP/1.1\" 206 -\n",
      "127.0.0.1 - - [08/Jun/2021 15:45:27] \"OPTIONS /precomputed/neuropils/mesh/22b9.shard HTTP/1.1\" 200 -\n",
      "127.0.0.1 - - [08/Jun/2021 15:45:27] \"OPTIONS /precomputed/neuropils/mesh/22b9.shard HTTP/1.1\" 200 -\n",
      "127.0.0.1 - - [08/Jun/2021 15:45:27] \"OPTIONS /precomputed/neuropils/mesh/22b9.shard HTTP/1.1\" 200 -\n",
      "127.0.0.1 - - [08/Jun/2021 15:45:27] \"OPTIONS /precomputed/neuropils/mesh/22b9.shard HTTP/1.1\" 200 -\n",
      "127.0.0.1 - - [08/Jun/2021 15:45:27] \"GET /precomputed/neuropils/mesh/22b9.shard HTTP/1.1\" 206 -\n",
      "127.0.0.1 - - [08/Jun/2021 15:45:27] \"GET /precomputed/neuropils/mesh/22b9.shard HTTP/1.1\" 206 -\n"
     ]
    }
   ],
   "source": [
    "#plot landmarks..\n",
    "tmpviewer = create_nglayer(layer_kws = {'type': 'points','name': 'landmarks',\n",
    "                                        \"annotationstatetype\": 'precomputed',\n",
    "                                        'source': temp_pts,'color': 'orange'})"
   ]
  },
  {
   "cell_type": "code",
   "execution_count": null,
   "metadata": {},
   "outputs": [],
   "source": []
  },
  {
   "cell_type": "markdown",
   "metadata": {},
   "source": [
    "# Screenshot of the neuroglancer instance should like below.."
   ]
  },
  {
   "cell_type": "markdown",
   "metadata": {},
   "source": [
    "![alt text](pics/ngspaces_fafb.png \"Title\")"
   ]
  },
  {
   "cell_type": "markdown",
   "metadata": {},
   "source": [
    "## Step 10: Close the viewer and dataserver.."
   ]
  },
  {
   "cell_type": "code",
   "execution_count": null,
   "metadata": {},
   "outputs": [],
   "source": [
    "closeviewer()"
   ]
  },
  {
   "cell_type": "code",
   "execution_count": null,
   "metadata": {},
   "outputs": [],
   "source": [
    "#closedataserver(removefiles=False)\n",
    "closedataserver()"
   ]
  },
  {
   "cell_type": "code",
   "execution_count": null,
   "metadata": {},
   "outputs": [],
   "source": []
  },
  {
   "cell_type": "code",
   "execution_count": null,
   "metadata": {},
   "outputs": [],
   "source": []
  }
 ],
 "metadata": {
  "kernelspec": {
   "display_name": "Python 3",
   "language": "python",
   "name": "python3"
  },
  "language_info": {
   "codemirror_mode": {
    "name": "ipython",
    "version": 3
   },
   "file_extension": ".py",
   "mimetype": "text/x-python",
   "name": "python",
   "nbconvert_exporter": "python",
   "pygments_lexer": "ipython3",
   "version": "3.8.5"
  }
 },
 "nbformat": 4,
 "nbformat_minor": 4
}
