{
 "cells": [
  {
   "cell_type": "markdown",
   "id": "93cc014e",
   "metadata": {},
   "source": [
    "In this tutorial you will learn how to transform OBJ files to precomputed format and host them on local server to be displayed by local neuroglancer instance."
   ]
  },
  {
   "cell_type": "code",
   "execution_count": 4,
   "id": "7f8d9815",
   "metadata": {},
   "outputs": [],
   "source": [
    "import os\n",
    "import navis\n",
    "\n",
    "from pyroglancer.volumes import uploadmultiresmeshes, uploadsingleresmeshes"
   ]
  },
  {
   "cell_type": "code",
   "execution_count": 5,
   "id": "3601f814",
   "metadata": {},
   "outputs": [],
   "source": [
    "local_path = \"working/directory/path\""
   ]
  },
  {
   "cell_type": "markdown",
   "id": "76363831",
   "metadata": {},
   "source": [
    "## Transform obj to precomp"
   ]
  },
  {
   "cell_type": "code",
   "execution_count": 3,
   "id": "60938e9a",
   "metadata": {},
   "outputs": [],
   "source": [
    "foldname = \"data/\"\n",
    "out_path = \"precomp_mesh/\"\n",
    "\n",
    "if not os.path.isdir(out_path):\n",
    "    os.mkdir(out_path)"
   ]
  },
  {
   "cell_type": "markdown",
   "id": "a1f2d4d8",
   "metadata": {},
   "source": [
    "Here we create list of of OBJ meshes, arbitrary numerical mesh ids and mesh labels that we will take from file names."
   ]
  },
  {
   "cell_type": "code",
   "execution_count": 13,
   "id": "4e293a86",
   "metadata": {},
   "outputs": [],
   "source": [
    "meshes = []\n",
    "meshes_id = []\n",
    "meshes_nm = []\n",
    "for e,f in enumerate(os.listdir(foldname)):\n",
    "    nrnmesh = navis.MeshNeuron(os.path.join(foldname, f))\n",
    "    nrnmesh.segid = 100 + e # we add some arbitrary id to our meshes\n",
    "    nrnmesh.vertices = nrnmesh.vertices*1000 # scale vertices to proper unit if necessary\n",
    "    meshes.append(nrnmesh)\n",
    "    meshes_id.append(100 + e)\n",
    "    meshes_nm.append(f.split(\".\")[0])"
   ]
  },
  {
   "cell_type": "code",
   "execution_count": 7,
   "id": "411a6286",
   "metadata": {},
   "outputs": [],
   "source": [
    "type_of_precomputed = \"single\"\n",
    "\n",
    "if type_of_precomputed == \"single\":\n",
    "    uploadsingleresmeshes(meshes, meshes_id, meshes_nm, local_path, 'neuronmeshes')\n",
    "elif type_of_precomputed == \"single\":\n",
    "    uploadmultiresmeshes(meshes, meshes_id, meshes_nm, local_path, 'neuronmeshes')\n",
    "else:\n",
    "    raise Exception(\"Unrecognised precomputed type\")"
   ]
  },
  {
   "cell_type": "markdown",
   "id": "0c6ed9ce",
   "metadata": {},
   "source": [
    "## Create pyroglancer scene"
   ]
  },
  {
   "cell_type": "code",
   "execution_count": 9,
   "id": "6f7901ee",
   "metadata": {},
   "outputs": [],
   "source": [
    "from pyroglancer.localserver import startdataserver, closedataserver"
   ]
  },
  {
   "cell_type": "code",
   "execution_count": 10,
   "id": "01ad2e8f",
   "metadata": {},
   "outputs": [
    {
     "name": "stdout",
     "output_type": "stream",
     "text": [
      "Serving data from:  /Users/dominik/projects/registration/precomp\n",
      "Serving directory at http://127.0.0.1:8000\n"
     ]
    }
   ],
   "source": [
    "startdataserver(directory=local_path)"
   ]
  },
  {
   "cell_type": "code",
   "execution_count": 11,
   "id": "22b511d3",
   "metadata": {},
   "outputs": [],
   "source": [
    "from pyroglancer.ngviewer import openviewer, closeviewer\n",
    "from pyroglancer.layers import create_nglayer, setlayerproperty\n",
    "from pyroglancer.ngspaces import create_ngspace\n",
    "from pyroglancer.createconfig import createconfig\n",
    "from pyroglancer.layers import get_ngserver, add_hostedlayer"
   ]
  },
  {
   "cell_type": "markdown",
   "id": "24ce7fee",
   "metadata": {},
   "source": [
    "Here you specify config YAML for your scene."
   ]
  },
  {
   "cell_type": "code",
   "execution_count": 12,
   "id": "d198b2cc",
   "metadata": {},
   "outputs": [
    {
     "name": "stdout",
     "output_type": "stream",
     "text": [
      "config file loc is at: /Users/dominik/.pyroglancer/config.yml\n",
      "using custom location at:  /Users/dominik/.pyroglancer/config.yml\n",
      "Neuroglancer viewer created at:  http://127.0.0.1:56779/v/ef15241f8fb7f31a3fff45d958ab1adf38728a17/\n",
      "config file loc is at: None\n",
      "using default location at:  /Users/dominik/.pyroglancer/config.yml\n",
      "Dimensions are in : MANC\n",
      "Layer created:  image\n",
      "config file loc is at: None\n",
      "using default location at:  /Users/dominik/.pyroglancer/config.yml\n",
      "Using layout : xy-3d\n",
      "config file loc is at: None\n",
      "using default location at:  /Users/dominik/.pyroglancer/config.yml\n",
      "Dimensions are in : MANC\n",
      "Layer created:  segmentation\n",
      "config file loc is at: None\n",
      "using default location at:  /Users/dominik/.pyroglancer/config.yml\n",
      "Using layout : xy-3d\n"
     ]
    }
   ],
   "source": [
    "layer_kws = {'ngspace': 'MANC',\n",
    "            \"configfileloc\": \"/path.to/your/local/config.yml\"}\n",
    "\n",
    "create_ngspace(layer_kws)"
   ]
  },
  {
   "cell_type": "code",
   "execution_count": 14,
   "id": "1c72fac4",
   "metadata": {},
   "outputs": [],
   "source": [
    "layer_serverdir, layer_host = get_ngserver()"
   ]
  },
  {
   "cell_type": "markdown",
   "id": "f3a7e3ff",
   "metadata": {},
   "source": [
    "We add our locally hosted layer and call it `obj_meshes`."
   ]
  },
  {
   "cell_type": "code",
   "execution_count": 15,
   "id": "dfadb7be",
   "metadata": {},
   "outputs": [
    {
     "name": "stderr",
     "output_type": "stream",
     "text": [
      "127.0.0.1 - - [28/Jul/2021 11:18:17] \"GET /precomputed/neuronmeshes/mesh/info HTTP/1.1\" 200 -\n",
      "127.0.0.1 - - [28/Jul/2021 11:18:17] \"GET /precomputed/neuronmeshes/mesh/segment_properties/info HTTP/1.1\" 200 -\n"
     ]
    }
   ],
   "source": [
    "tmpviewer = add_hostedlayer(layer_kws = {'type': 'volumes',\n",
    "                                         'name': 'obj_meshes',\n",
    "                                         'host': layer_host,\n",
    "                                         'alpha': 0.5})\n"
   ]
  },
  {
   "cell_type": "code",
   "execution_count": null,
   "id": "ddc883e9",
   "metadata": {},
   "outputs": [],
   "source": [
    "closeviewer()\n",
    "closedataserver()"
   ]
  }
 ],
 "metadata": {
  "kernelspec": {
   "display_name": "Python [conda env:pyg] *",
   "language": "python",
   "name": "conda-env-pyg-py"
  },
  "language_info": {
   "codemirror_mode": {
    "name": "ipython",
    "version": 3
   },
   "file_extension": ".py",
   "mimetype": "text/x-python",
   "name": "python",
   "nbconvert_exporter": "python",
   "pygments_lexer": "ipython3",
   "version": "3.8.0"
  }
 },
 "nbformat": 4,
 "nbformat_minor": 5
}
