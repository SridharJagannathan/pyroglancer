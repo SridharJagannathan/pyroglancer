{
 "cells": [
  {
   "cell_type": "markdown",
   "id": "93cc014e",
   "metadata": {},
   "source": [
    "## In this tutorial you will learn how to transform obj files to precomputed format and host them on local server to be displayed by local neuroglancer instance. This can be used to generated precomputed versions of large amounts of light level data, to be co-visualised in the neuroglancer framework."
   ]
  },
  {
   "cell_type": "code",
   "execution_count": 1,
   "id": "7f8d9815",
   "metadata": {},
   "outputs": [],
   "source": [
    "import os\n",
    "import navis"
   ]
  },
  {
   "cell_type": "code",
   "execution_count": 2,
   "id": "bab6c81c-5936-4d4c-8f52-5721d400c240",
   "metadata": {},
   "outputs": [],
   "source": [
    "from pyroglancer.localserver import startdataserver, closedataserver\n",
    "from pyroglancer.volumes import uploadmultiresmeshes, uploadsingleresmeshes\n",
    "from pyroglancer.ngviewer import openviewer, closeviewer\n",
    "from pyroglancer.ngspaces import create_ngspace\n",
    "from pyroglancer.createconfig import createconfig\n",
    "from pyroglancer.layers import create_nglayer, setlayerproperty, get_ngserver, add_hostedlayer"
   ]
  },
  {
   "cell_type": "code",
   "execution_count": 3,
   "id": "4942d3f4-d87e-4289-82b9-b7bb83340135",
   "metadata": {},
   "outputs": [],
   "source": [
    "#location to put the precomputed dataset at\n",
    "hostdirectory = '/Users/sri/Documents/dataset/lightleveldata/'"
   ]
  },
  {
   "cell_type": "code",
   "execution_count": 4,
   "id": "3150d8be-b06d-4045-9830-d3d3ffab8cd7",
   "metadata": {},
   "outputs": [],
   "source": [
    "#location where the obj files are located\n",
    "meshfoldername = \"data/\""
   ]
  },
  {
   "cell_type": "markdown",
   "id": "76363831",
   "metadata": {},
   "source": [
    "## Step 1: Transform obj to precomputed format"
   ]
  },
  {
   "cell_type": "markdown",
   "id": "a1f2d4d8",
   "metadata": {},
   "source": [
    "### Here we create list of of obj meshes, arbitrary numerical mesh ids and mesh labels that we will take from file names."
   ]
  },
  {
   "cell_type": "code",
   "execution_count": 5,
   "id": "4e293a86",
   "metadata": {},
   "outputs": [],
   "source": [
    "meshes = []\n",
    "meshes_id = []\n",
    "meshes_nm = []\n",
    "for e,f in enumerate(os.listdir(meshfoldername)):\n",
    "    nrnmesh = navis.MeshNeuron(os.path.join(meshfoldername, f))\n",
    "    nrnmesh.segid = 100 + e # we add some arbitrary id to our meshes\n",
    "    nrnmesh.vertices = nrnmesh.vertices*1000 # scale vertices to proper unit if necessary\n",
    "    meshes.append(nrnmesh)\n",
    "    meshes_id.append(100 + e)\n",
    "    meshes_nm.append(f.split(\".\")[0])"
   ]
  },
  {
   "cell_type": "code",
   "execution_count": 6,
   "id": "83334f85-43f8-4bb5-a095-1ec1946a706c",
   "metadata": {},
   "outputs": [],
   "source": [
    "mesh_type = \"singleresolution\""
   ]
  },
  {
   "cell_type": "code",
   "execution_count": 7,
   "id": "a749a7bc-6265-4c9c-8f96-3f7c8e40edf0",
   "metadata": {},
   "outputs": [],
   "source": [
    "layer_name = 'obj_meshes'"
   ]
  },
  {
   "cell_type": "code",
   "execution_count": 8,
   "id": "411a6286",
   "metadata": {},
   "outputs": [
    {
     "name": "stdout",
     "output_type": "stream",
     "text": [
      "mesh/100\n",
      "Seg id is: 100\n",
      "Full filepath: /Users/sri/Documents/dataset/lightleveldata/precomputed/obj_meshes/mesh/100\n",
      "mesh/101\n",
      "Seg id is: 101\n",
      "Full filepath: /Users/sri/Documents/dataset/lightleveldata/precomputed/obj_meshes/mesh/101\n",
      "creating: /Users/sri/Documents/dataset/lightleveldata/precomputed/obj_meshes/mesh/segment_properties\n",
      "creating: /Users/sri/Documents/dataset/lightleveldata/precomputed/obj_meshes/mesh/segment_names\n"
     ]
    }
   ],
   "source": [
    "if mesh_type == \"singleresolution\":\n",
    "    uploadsingleresmeshes(meshes, meshes_id, meshes_nm, hostdirectory, layer_name)\n",
    "elif mesh_type == \"multiresolution\":\n",
    "    uploadmultiresmeshes(meshes, meshes_id, meshes_nm, hostdirectory, layer_name)\n",
    "else:\n",
    "    raise Exception(\"Unrecognised resolution type\")"
   ]
  },
  {
   "cell_type": "markdown",
   "id": "0c6ed9ce",
   "metadata": {},
   "source": [
    "## Step 2: Co-visualise"
   ]
  },
  {
   "cell_type": "code",
   "execution_count": 9,
   "id": "01ad2e8f",
   "metadata": {},
   "outputs": [
    {
     "name": "stdout",
     "output_type": "stream",
     "text": [
      "Serving data from:  /Users/sri/Documents/dataset/lightleveldata/\n",
      "Serving directory at http://127.0.0.1:8000\n"
     ]
    }
   ],
   "source": [
    "startdataserver(directory=hostdirectory)"
   ]
  },
  {
   "cell_type": "markdown",
   "id": "24ce7fee",
   "metadata": {},
   "source": [
    "### Here you specify config YAML for your scene, so it contains other elements like EM data, neuropil meshes etc."
   ]
  },
  {
   "cell_type": "code",
   "execution_count": 10,
   "id": "d198b2cc",
   "metadata": {},
   "outputs": [
    {
     "name": "stdout",
     "output_type": "stream",
     "text": [
      "config file loc is at: /Users/sri/.pyroglancer/config.yml\n",
      "using custom location at:  /Users/sri/.pyroglancer/config.yml\n",
      "Neuroglancer viewer created at:  http://127.0.0.1:52158/v/b0c34e7122e0c07b4fc21c700142c7ee0e194497/\n",
      "config file loc is at: None\n",
      "using default location at:  ~/.pyroglancer/config.yml\n",
      "Dimensions are in : MANC\n",
      "Layer created:  image\n",
      "config file loc is at: None\n",
      "using default location at:  ~/.pyroglancer/config.yml\n",
      "Using layout : xy-3d\n",
      "config file loc is at: None\n",
      "using default location at:  ~/.pyroglancer/config.yml\n",
      "Dimensions are in : MANC\n",
      "Layer created:  segmentmesh\n",
      "config file loc is at: None\n",
      "using default location at:  ~/.pyroglancer/config.yml\n",
      "Using layout : xy-3d\n",
      "config file loc is at: None\n",
      "using default location at:  ~/.pyroglancer/config.yml\n",
      "Dimensions are in : MANC\n",
      "Layer created:  segmentation\n",
      "config file loc is at: None\n",
      "using default location at:  ~/.pyroglancer/config.yml\n",
      "Using layout : xy-3d\n"
     ]
    }
   ],
   "source": [
    "layer_kws = {'ngspace': 'MANC',\n",
    "            \"configfileloc\": \"/Users/sri/.pyroglancer/config.yml\"}\n",
    "create_ngspace(layer_kws)"
   ]
  },
  {
   "cell_type": "code",
   "execution_count": 11,
   "id": "1c72fac4",
   "metadata": {},
   "outputs": [],
   "source": [
    "layer_serverdir, layer_host = get_ngserver()"
   ]
  },
  {
   "cell_type": "markdown",
   "id": "f3a7e3ff",
   "metadata": {},
   "source": [
    "### We add our locally hosted layer now.."
   ]
  },
  {
   "cell_type": "code",
   "execution_count": 12,
   "id": "dfadb7be",
   "metadata": {},
   "outputs": [
    {
     "name": "stderr",
     "output_type": "stream",
     "text": [
      "127.0.0.1 - - [28/Jul/2021 17:48:56] \"GET /precomputed/obj_meshes/mesh/info HTTP/1.1\" 200 -\n",
      "127.0.0.1 - - [28/Jul/2021 17:48:56] \"GET /precomputed/obj_meshes/mesh/segment_properties/info HTTP/1.1\" 200 -\n",
      "127.0.0.1 - - [28/Jul/2021 17:49:17] \"GET /precomputed/obj_meshes/mesh/100:0 HTTP/1.1\" 200 -\n",
      "127.0.0.1 - - [28/Jul/2021 17:49:17] \"GET /precomputed/obj_meshes/mesh/101:0 HTTP/1.1\" 200 -\n",
      "127.0.0.1 - - [28/Jul/2021 17:49:17] \"GET /precomputed/obj_meshes/mesh/100 HTTP/1.1\" 200 -\n",
      "127.0.0.1 - - [28/Jul/2021 17:49:17] \"GET /precomputed/obj_meshes/mesh/101 HTTP/1.1\" 200 -\n",
      "127.0.0.1 - - [28/Jul/2021 17:50:38] \"GET /precomputed/obj_meshes/mesh/info HTTP/1.1\" 304 -\n",
      "127.0.0.1 - - [28/Jul/2021 17:50:38] \"GET /precomputed/obj_meshes/mesh/segment_properties/info HTTP/1.1\" 304 -\n",
      "127.0.0.1 - - [28/Jul/2021 17:50:38] \"GET /precomputed/obj_meshes/mesh/101:0 HTTP/1.1\" 304 -\n",
      "127.0.0.1 - - [28/Jul/2021 17:50:38] \"GET /precomputed/obj_meshes/mesh/100:0 HTTP/1.1\" 304 -\n",
      "127.0.0.1 - - [28/Jul/2021 17:50:38] \"GET /precomputed/obj_meshes/mesh/101 HTTP/1.1\" 304 -\n",
      "127.0.0.1 - - [28/Jul/2021 17:50:38] \"GET /precomputed/obj_meshes/mesh/100 HTTP/1.1\" 304 -\n"
     ]
    }
   ],
   "source": [
    "tmpviewer = add_hostedlayer(layer_kws = {'type': 'volumes',\n",
    "                                         'name': layer_name,\n",
    "                                         'host': layer_host,\n",
    "                                         'alpha': 0.5})"
   ]
  },
  {
   "cell_type": "markdown",
   "id": "6f7ae365-e211-4e7d-bb3b-f85ddfcc87b5",
   "metadata": {},
   "source": [
    "# Screenshot of the local neuroglancer instance should be like below.."
   ]
  },
  {
   "cell_type": "markdown",
   "id": "da98655a-3116-4162-851c-ca8501dc336a",
   "metadata": {},
   "source": [
    "### The <span style=\"color:blue\">*blue*</span> neuron is <span style=\"color:blue\">*light level mesh (A1)*</span> and the <span style=\"color:magenta\">*magenta*</span> neuron is <span style=\"color:magenta\"> *light level mesh  (A2)*</span> both created from `obj` format "
   ]
  },
  {
   "cell_type": "markdown",
   "id": "fadd7569-b0eb-4402-95ff-215a575c3773",
   "metadata": {},
   "source": [
    "![alt text](../pics/obj2precomputedmeshes.png \"Title\")"
   ]
  },
  {
   "cell_type": "markdown",
   "id": "7b98efa6-9178-46b0-b80f-a63a321bcac3",
   "metadata": {},
   "source": [
    "## Step 3: Close the dataserver.."
   ]
  },
  {
   "cell_type": "code",
   "execution_count": null,
   "id": "ddc883e9",
   "metadata": {},
   "outputs": [],
   "source": [
    "closeviewer()\n",
    "closedataserver()"
   ]
  },
  {
   "cell_type": "code",
   "execution_count": null,
   "id": "cf139800-5faf-4058-a099-005b6b881d98",
   "metadata": {},
   "outputs": [],
   "source": []
  }
 ],
 "metadata": {
  "kernelspec": {
   "display_name": "Python 3",
   "language": "python",
   "name": "python3"
  },
  "language_info": {
   "codemirror_mode": {
    "name": "ipython",
    "version": 3
   },
   "file_extension": ".py",
   "mimetype": "text/x-python",
   "name": "python",
   "nbconvert_exporter": "python",
   "pygments_lexer": "ipython3",
   "version": "3.8.8"
  }
 },
 "nbformat": 4,
 "nbformat_minor": 5
}
