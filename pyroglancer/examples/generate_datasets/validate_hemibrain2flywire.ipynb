{
 "cells": [
  {
   "cell_type": "markdown",
   "metadata": {},
   "source": [
    "# Illustrating of validation of dataset for `hemibrain` to `flywire` transformation "
   ]
  },
  {
   "cell_type": "code",
   "execution_count": 1,
   "metadata": {},
   "outputs": [],
   "source": [
    "import navis\n",
    "import fafbseg\n",
    "import flybrains"
   ]
  },
  {
   "cell_type": "code",
   "execution_count": 2,
   "metadata": {},
   "outputs": [],
   "source": [
    "from pyroglancer.localserver import startdataserver, closedataserver\n",
    "from pyroglancer.flywire import flywireurl2dict, add_flywirelayer, add_flywirehostedlayer\n",
    "from pyroglancer.layers import get_ngserver, add_hostedlayer,create_nglayer\n",
    "from pyroglancer.ngspaces import create_ngspace\n",
    "from pyroglancer.createconfig import createconfig"
   ]
  },
  {
   "cell_type": "code",
   "execution_count": 3,
   "metadata": {},
   "outputs": [],
   "source": [
    "import navis.interfaces.neuprint as neu"
   ]
  },
  {
   "cell_type": "code",
   "execution_count": null,
   "metadata": {},
   "outputs": [],
   "source": []
  },
  {
   "cell_type": "markdown",
   "metadata": {},
   "source": [
    "## Step 1: Download the precompute files from the google drive, set neuprint configs.."
   ]
  },
  {
   "cell_type": "code",
   "execution_count": 4,
   "metadata": {},
   "outputs": [],
   "source": [
    "#here, I have downloaded them in the Downloads folder"
   ]
  },
  {
   "cell_type": "code",
   "execution_count": 5,
   "metadata": {},
   "outputs": [],
   "source": [
    "client = neu.Client('https://neuprint.janelia.org/', dataset='hemibrain:v1.2')"
   ]
  },
  {
   "cell_type": "code",
   "execution_count": 6,
   "metadata": {},
   "outputs": [
    {
     "data": {
      "text/plain": [
       "Client(\"https://neuprint.janelia.org\", \"hemibrain:v1.2\")"
      ]
     },
     "execution_count": 6,
     "metadata": {},
     "output_type": "execute_result"
    }
   ],
   "source": [
    "client"
   ]
  },
  {
   "cell_type": "code",
   "execution_count": null,
   "metadata": {},
   "outputs": [],
   "source": []
  },
  {
   "cell_type": "markdown",
   "metadata": {},
   "source": [
    "## Step 2: Set host directory and launch server from there.."
   ]
  },
  {
   "cell_type": "code",
   "execution_count": 7,
   "metadata": {},
   "outputs": [],
   "source": [
    "#location containing the precomputed dataset\n",
    "hostdirectory = '/Users/sri/Documents/dataset/hemibrain2flywire/'"
   ]
  },
  {
   "cell_type": "code",
   "execution_count": 8,
   "metadata": {},
   "outputs": [
    {
     "name": "stdout",
     "output_type": "stream",
     "text": [
      "Serving data from:  /Users/sri/Documents/dataset/hemibrain2flywire/\n",
      "Serving directory at http://127.0.0.1:8000\n"
     ]
    }
   ],
   "source": [
    "startdataserver(directory = hostdirectory)"
   ]
  },
  {
   "cell_type": "code",
   "execution_count": 9,
   "metadata": {},
   "outputs": [],
   "source": [
    "layer_serverdir, layer_host = get_ngserver()"
   ]
  },
  {
   "cell_type": "code",
   "execution_count": null,
   "metadata": {},
   "outputs": [],
   "source": []
  },
  {
   "cell_type": "markdown",
   "metadata": {},
   "source": [
    "## Step 3: Fetch neuropil meshes, transform them so they can be added as well.."
   ]
  },
  {
   "cell_type": "code",
   "execution_count": 10,
   "metadata": {},
   "outputs": [],
   "source": [
    "#fetch mesh for Right Antenna lobe..\n",
    "al_R = neu.fetch_roi('AL(R)')"
   ]
  },
  {
   "cell_type": "code",
   "execution_count": 11,
   "metadata": {},
   "outputs": [],
   "source": [
    "hemibrain_mesh = navis.Volume(flybrains.JRCFIB2018Fraw.mesh)"
   ]
  },
  {
   "cell_type": "code",
   "execution_count": 12,
   "metadata": {},
   "outputs": [
    {
     "name": "stdout",
     "output_type": "stream",
     "text": [
      "Transform path: JRCFIB2018Fraw -> JRCFIB2018F -> JRCFIB2018Fum -> JRC2018F -> FAFB14um -> FAFB14 -> FAFB14raw -> FLYWIREraw -> FLYWIRE\n",
      "Transform path: JRCFIB2018Fraw -> JRCFIB2018F -> JRCFIB2018Fum -> JRC2018F -> FAFB14um -> FAFB14 -> FAFB14raw -> FLYWIREraw -> FLYWIRE\n"
     ]
    }
   ],
   "source": [
    "flywirevol = {}\n",
    "flywirevol['hemibrain']=navis.xform_brain(hemibrain_mesh, source='JRCFIB2018Fraw', target='FLYWIRE')\n",
    "flywirevol['AL_R']=navis.xform_brain(al_R, source='JRCFIB2018Fraw', target='FLYWIRE')"
   ]
  },
  {
   "cell_type": "code",
   "execution_count": 13,
   "metadata": {},
   "outputs": [
    {
     "data": {
      "text/plain": [
       "{'hemibrain': <navis.Volume(name=hemibrain, id=200, color=(0.85, 0.85, 0.85, 0.2), vertices.shape=(22125, 3), faces.shape=(44270, 3))>,\n",
       " 'AL_R': <navis.Volume(name=AL_R, id=300, color=(0.85, 0.85, 0.85, 0.2), vertices.shape=(38829, 3), faces.shape=(77672, 3))>}"
      ]
     },
     "execution_count": 13,
     "metadata": {},
     "output_type": "execute_result"
    }
   ],
   "source": [
    "flywirevol['hemibrain'].id = 200\n",
    "flywirevol['AL_R'].id = 300\n",
    "flywirevol['hemibrain'].name = 'hemibrain'\n",
    "flywirevol['AL_R'].name = 'AL_R'\n",
    "flywirevol"
   ]
  },
  {
   "cell_type": "code",
   "execution_count": null,
   "metadata": {},
   "outputs": [],
   "source": []
  },
  {
   "cell_type": "markdown",
   "metadata": {},
   "source": [
    "## Step 3: Add as a layer and display.."
   ]
  },
  {
   "cell_type": "code",
   "execution_count": 14,
   "metadata": {},
   "outputs": [
    {
     "data": {
      "text/plain": [
       "'http://localhost:8000'"
      ]
     },
     "execution_count": 14,
     "metadata": {},
     "output_type": "execute_result"
    }
   ],
   "source": [
    "layer_host"
   ]
  },
  {
   "cell_type": "code",
   "execution_count": 15,
   "metadata": {},
   "outputs": [],
   "source": [
    "shorturl = 'https://ngl.flywire.ai/?json_url=https://globalv1.flywire-daf.com/nglstate/5654861509033984'\n",
    "#Some blank flywire url.."
   ]
  },
  {
   "cell_type": "code",
   "execution_count": 16,
   "metadata": {},
   "outputs": [
    {
     "name": "stdout",
     "output_type": "stream",
     "text": [
      "flywire url at: https://ngl.flywire.ai/?json_url=https://globalv1.flywire-daf.com/nglstate/6383742490771456\n"
     ]
    }
   ],
   "source": [
    "tmpviewer = add_flywirehostedlayer(flywireurl2dict(shorturl), layer_kws = {'type': 'skeletons',\n",
    "                                                                           'name': 'hemibrain_skels',\n",
    "                                                                           'host': layer_host,\n",
    "                                                                           'alpha': 0.5}) "
   ]
  },
  {
   "cell_type": "code",
   "execution_count": 17,
   "metadata": {},
   "outputs": [],
   "source": [
    "shorturl = tmpviewer"
   ]
  },
  {
   "cell_type": "code",
   "execution_count": 18,
   "metadata": {},
   "outputs": [
    {
     "name": "stdout",
     "output_type": "stream",
     "text": [
      "flywire url at: https://ngl.flywire.ai/?json_url=https://globalv1.flywire-daf.com/nglstate/5384455401242624\n"
     ]
    }
   ],
   "source": [
    "tmpviewer = add_flywirehostedlayer(flywireurl2dict(shorturl), layer_kws = {'type': 'volumes',\n",
    "                                                                           'name': 'hemibrain_meshes',\n",
    "                                                                           'host': layer_host, \n",
    "                                                                           'alpha': 1})"
   ]
  },
  {
   "cell_type": "code",
   "execution_count": 19,
   "metadata": {},
   "outputs": [],
   "source": [
    "shorturl = tmpviewer"
   ]
  },
  {
   "cell_type": "code",
   "execution_count": 20,
   "metadata": {},
   "outputs": [
    {
     "name": "stdout",
     "output_type": "stream",
     "text": [
      "mesh/200\n",
      "Seg id is: 200\n",
      "Full filepath: /Users/sri/Documents/dataset/hemibrain2flywire/precomputed/neuropil_meshes/mesh/200\n",
      "mesh/300\n",
      "Seg id is: 300\n",
      "Full filepath: /Users/sri/Documents/dataset/hemibrain2flywire/precomputed/neuropil_meshes/mesh/300\n",
      "creating: /Users/sri/Documents/dataset/hemibrain2flywire/precomputed/neuropil_meshes/mesh/segment_properties\n",
      "creating: /Users/sri/Documents/dataset/hemibrain2flywire/precomputed/neuropil_meshes/mesh/segment_names\n",
      "flywire url at: https://ngl.flywire.ai/?json_url=https://globalv1.flywire-daf.com/nglstate/5473081044762624\n"
     ]
    },
    {
     "name": "stderr",
     "output_type": "stream",
     "text": [
      "127.0.0.1 - - [15/Apr/2021 17:19:51] \"GET /precomputed/neuronmeshes/mesh/info HTTP/1.1\" 200 -\n",
      "127.0.0.1 - - [15/Apr/2021 17:19:51] \"GET /precomputed/skeletons/info HTTP/1.1\" 304 -\n",
      "127.0.0.1 - - [15/Apr/2021 17:19:51] \"GET /precomputed/neuropil_meshes/mesh/info HTTP/1.1\" 200 -\n",
      "127.0.0.1 - - [15/Apr/2021 17:19:51] \"GET /precomputed/neuropil_meshes/mesh/200:0 HTTP/1.1\" 200 -\n",
      "127.0.0.1 - - [15/Apr/2021 17:19:51] \"GET /precomputed/neuropil_meshes/mesh/300:0 HTTP/1.1\" 200 -\n",
      "127.0.0.1 - - [15/Apr/2021 17:19:51] \"GET /precomputed/neuropil_meshes/mesh/200 HTTP/1.1\" 200 -\n",
      "127.0.0.1 - - [15/Apr/2021 17:19:51] \"GET /precomputed/neuropil_meshes/mesh/300 HTTP/1.1\" 200 -\n"
     ]
    }
   ],
   "source": [
    "tmpviewer = add_flywirelayer(flywireurl2dict(shorturl), layer_kws = {'type': 'volumes',\n",
    "                                                                     'name': 'neuropil_meshes',\n",
    "                                                                     'source': [flywirevol['hemibrain'],\n",
    "                                                                                flywirevol['AL_R']],\n",
    "                                                                     'color': ['grey', 'magenta'], \n",
    "                                                                     'alpha': 0.3})"
   ]
  },
  {
   "cell_type": "code",
   "execution_count": null,
   "metadata": {},
   "outputs": [],
   "source": []
  },
  {
   "cell_type": "markdown",
   "metadata": {},
   "source": [
    "# Screenshot of the flywire instance should like below.."
   ]
  },
  {
   "cell_type": "markdown",
   "metadata": {},
   "source": [
    "### The <span style=\"color:yellow\">*yellow*</span> neuron is <span style=\"color:yellow\">*skeleton*</span>  from `hemibrain` and the <span style=\"color:green\">*green*</span> is its corresponding mesh. The <span style=\"color:blue\">*blue*</span> neuron is the corresponding  <span style=\"color:blue\">*`flywire` segment*</span>  that is closest match (obtained by poking around)"
   ]
  },
  {
   "cell_type": "markdown",
   "metadata": {},
   "source": [
    "![alt text](../pics/hemibrain2flywiredatasets.png \"Title\")"
   ]
  },
  {
   "cell_type": "code",
   "execution_count": null,
   "metadata": {},
   "outputs": [],
   "source": []
  },
  {
   "cell_type": "code",
   "execution_count": null,
   "metadata": {},
   "outputs": [],
   "source": []
  },
  {
   "cell_type": "markdown",
   "metadata": {},
   "source": [
    "## The flywire uses a older version of `neuroglancer` that doesn't have the option to see the skeleton, segment names, so we can launch a local instance to see them"
   ]
  },
  {
   "cell_type": "code",
   "execution_count": null,
   "metadata": {},
   "outputs": [],
   "source": []
  },
  {
   "cell_type": "code",
   "execution_count": 21,
   "metadata": {},
   "outputs": [],
   "source": [
    "configdata = [dict(ngspace='FAFBv14.1',\n",
    "                   dimension=dict(x=1, y=1,z=1,units='um'),\n",
    "                   voxelsize=dict(x=4,y=4,z=40,units='nm'),\n",
    "                   layers=dict(production_image=dict(\n",
    "                               type='image',\n",
    "                               source='precomputed://https://seungdata.princeton.edu/fafbv14-em/aligned/v1'\n",
    "                               )))]"
   ]
  },
  {
   "cell_type": "code",
   "execution_count": 22,
   "metadata": {},
   "outputs": [],
   "source": [
    "configfileloc = '/Users/sri/Downloads/tempfolder/config.yml'"
   ]
  },
  {
   "cell_type": "code",
   "execution_count": 23,
   "metadata": {},
   "outputs": [
    {
     "name": "stdout",
     "output_type": "stream",
     "text": [
      "setting default config file loc\n"
     ]
    }
   ],
   "source": [
    "createconfig(configdata, configfileloc)"
   ]
  },
  {
   "cell_type": "code",
   "execution_count": 24,
   "metadata": {},
   "outputs": [],
   "source": [
    "layer_kws = {'ngspace': 'FAFBv14.1'}"
   ]
  },
  {
   "cell_type": "code",
   "execution_count": 25,
   "metadata": {},
   "outputs": [
    {
     "name": "stdout",
     "output_type": "stream",
     "text": [
      "config file loc is at: None\n",
      "using default location at:  /Users/sri/Downloads/tempfolder/config.yml\n",
      "Neuroglancer viewer created at:  http://127.0.0.1:60669/v/50e4f5305b8ae0d24e0c5dbb0ad19074061fd290/\n",
      "config file loc is at: None\n",
      "using default location at:  /Users/sri/Downloads/tempfolder/config.yml\n",
      "Dimensions are in : FAFBv14.1\n",
      "Layer created:  image\n",
      "config file loc is at: None\n",
      "using default location at:  /Users/sri/Downloads/tempfolder/config.yml\n",
      "Using layout : xy-3d\n"
     ]
    }
   ],
   "source": [
    "create_ngspace(layer_kws)"
   ]
  },
  {
   "cell_type": "code",
   "execution_count": 26,
   "metadata": {},
   "outputs": [
    {
     "name": "stderr",
     "output_type": "stream",
     "text": [
      "127.0.0.1 - - [15/Apr/2021 17:20:00] \"GET /precomputed/skeletons/seg_props/info HTTP/1.1\" 200 -\n"
     ]
    }
   ],
   "source": [
    "tmpviewer = add_hostedlayer(layer_kws = {'type': 'skeletons',\n",
    "                                         'name': 'flywire_skels',\n",
    "                                         'host': layer_host,\n",
    "                                         'alpha': 0.5})"
   ]
  },
  {
   "cell_type": "code",
   "execution_count": 27,
   "metadata": {},
   "outputs": [
    {
     "name": "stderr",
     "output_type": "stream",
     "text": [
      "127.0.0.1 - - [15/Apr/2021 17:20:04] \"GET /precomputed/neuronmeshes/mesh/segment_properties/info HTTP/1.1\" 200 -\n"
     ]
    }
   ],
   "source": [
    "tmpviewer = add_hostedlayer(layer_kws = {'type': 'volumes',\n",
    "                                         'name': 'flywire_meshes',\n",
    "                                         'host': layer_host,\n",
    "                                         'alpha': 0.5})"
   ]
  },
  {
   "cell_type": "code",
   "execution_count": 28,
   "metadata": {},
   "outputs": [
    {
     "name": "stdout",
     "output_type": "stream",
     "text": [
      "config file loc is at: None\n",
      "using default location at:  /Users/sri/Downloads/tempfolder/config.yml\n",
      "Dimensions are in : FAFBv14.1\n",
      "Layer created:  volumes\n",
      "mesh/200\n",
      "Seg id is: 200\n",
      "Full filepath: /Users/sri/Documents/dataset/hemibrain2flywire/precomputed/neuropils/mesh/200\n",
      "mesh/300\n",
      "Seg id is: 300\n",
      "Full filepath: /Users/sri/Documents/dataset/hemibrain2flywire/precomputed/neuropils/mesh/300\n",
      "creating: /Users/sri/Documents/dataset/hemibrain2flywire/precomputed/neuropils/mesh/segment_properties\n",
      "creating: /Users/sri/Documents/dataset/hemibrain2flywire/precomputed/neuropils/mesh/segment_names\n",
      "Using layout : xy-3d\n"
     ]
    },
    {
     "name": "stderr",
     "output_type": "stream",
     "text": [
      "127.0.0.1 - - [15/Apr/2021 17:20:09] \"GET /precomputed/neuropils/mesh/info HTTP/1.1\" 200 -\n",
      "127.0.0.1 - - [15/Apr/2021 17:20:09] \"GET /precomputed/neuropils/mesh/segment_properties/info HTTP/1.1\" 200 -\n",
      "127.0.0.1 - - [15/Apr/2021 17:20:29] \"GET /precomputed/neuropils/mesh/200:0 HTTP/1.1\" 200 -\n",
      "127.0.0.1 - - [15/Apr/2021 17:20:29] \"GET /precomputed/neuropils/mesh/300:0 HTTP/1.1\" 200 -\n",
      "127.0.0.1 - - [15/Apr/2021 17:20:29] \"GET /precomputed/neuropils/mesh/300 HTTP/1.1\" 200 -\n",
      "127.0.0.1 - - [15/Apr/2021 17:20:29] \"GET /precomputed/neuropils/mesh/200 HTTP/1.1\" 200 -\n",
      "127.0.0.1 - - [15/Apr/2021 17:20:50] \"GET /precomputed/skeletons/1978261876 HTTP/1.1\" 200 -\n",
      "127.0.0.1 - - [15/Apr/2021 17:21:08] \"GET /precomputed/neuronmeshes/mesh/1978261876:0 HTTP/1.1\" 200 -\n",
      "127.0.0.1 - - [15/Apr/2021 17:21:08] \"GET /precomputed/neuronmeshes/mesh/1978261876 HTTP/1.1\" 200 -\n"
     ]
    }
   ],
   "source": [
    "tmpviewer = create_nglayer(layer_kws = {'type': 'volumes','source': [flywirevol['hemibrain'],flywirevol['AL_R']],\n",
    "                                        'name': 'neuropils','color': ['grey', 'magenta'], 'alpha': 0.3})"
   ]
  },
  {
   "cell_type": "code",
   "execution_count": null,
   "metadata": {},
   "outputs": [],
   "source": []
  },
  {
   "cell_type": "markdown",
   "metadata": {},
   "source": [
    "## Step 4: Close the dataserver.."
   ]
  },
  {
   "cell_type": "code",
   "execution_count": null,
   "metadata": {},
   "outputs": [],
   "source": []
  },
  {
   "cell_type": "code",
   "execution_count": null,
   "metadata": {},
   "outputs": [],
   "source": [
    "closedataserver(removefiles=False)"
   ]
  },
  {
   "cell_type": "code",
   "execution_count": null,
   "metadata": {},
   "outputs": [],
   "source": []
  }
 ],
 "metadata": {
  "kernelspec": {
   "display_name": "Python 3",
   "language": "python",
   "name": "python3"
  },
  "language_info": {
   "codemirror_mode": {
    "name": "ipython",
    "version": 3
   },
   "file_extension": ".py",
   "mimetype": "text/x-python",
   "name": "python",
   "nbconvert_exporter": "python",
   "pygments_lexer": "ipython3",
   "version": "3.8.5"
  }
 },
 "nbformat": 4,
 "nbformat_minor": 4
}
