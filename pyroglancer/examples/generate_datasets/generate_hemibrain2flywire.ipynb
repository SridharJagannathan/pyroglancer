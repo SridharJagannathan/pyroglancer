{
 "cells": [
  {
   "cell_type": "markdown",
   "metadata": {},
   "source": [
    "# Illustrating of generation of dataset for `hemibrain` to `flywire` transformation "
   ]
  },
  {
   "cell_type": "markdown",
   "metadata": {},
   "source": [
    "## Step 1: Import neccesary library modules now"
   ]
  },
  {
   "cell_type": "code",
   "execution_count": 1,
   "metadata": {},
   "outputs": [],
   "source": [
    "import navis\n",
    "import fafbseg\n",
    "import flybrains"
   ]
  },
  {
   "cell_type": "code",
   "execution_count": 2,
   "metadata": {},
   "outputs": [],
   "source": [
    "from pyroglancer.localserver import startdataserver, closedataserver\n",
    "from pyroglancer.flywire import flywireurl2dict, add_flywirelayer, add_flywirehostedlayer\n",
    "from pyroglancer.skeletons import to_ngskeletons, to_precomputedskels, to_precomputedskelsinfo\n",
    "from pyroglancer.layers import flush_precomputed, create_nglayer, handle_skels, get_ngserver, add_hostedlayer\n",
    "from pyroglancer.ngspaces import create_ngspace\n",
    "from pyroglancer.volumes import to_ngmesh, to_precomputedsingleresmeshes, to_precomputedsingleresmeshesinfo"
   ]
  },
  {
   "cell_type": "code",
   "execution_count": 3,
   "metadata": {},
   "outputs": [],
   "source": [
    "import navis.interfaces.neuprint as neu\n",
    "from neuprint import fetch_neurons, NeuronCriteria as NC"
   ]
  },
  {
   "cell_type": "code",
   "execution_count": 4,
   "metadata": {},
   "outputs": [],
   "source": [
    "import pandas as pd\n",
    "import numpy as np\n",
    "from time import sleep\n",
    "import os\n",
    "from os import walk\n",
    "import warnings"
   ]
  },
  {
   "cell_type": "code",
   "execution_count": 5,
   "metadata": {},
   "outputs": [],
   "source": [
    "from multiprocessing import Pool\n",
    "import itertools\n",
    "from p_tqdm import p_map"
   ]
  },
  {
   "cell_type": "code",
   "execution_count": 6,
   "metadata": {},
   "outputs": [],
   "source": [
    "def try_until(func, max_tries, sleep_time):\n",
    "    for _ in range(0,max_tries):\n",
    "        try:\n",
    "            return func()\n",
    "        except:\n",
    "            sleep(sleep_time)\n",
    "    warnings.warn('skipping as we dont succeed after max tries..')\n",
    "    return None, None"
   ]
  },
  {
   "cell_type": "code",
   "execution_count": 7,
   "metadata": {},
   "outputs": [],
   "source": [
    "recompute_scratch = False #recompute everything from scratch.."
   ]
  },
  {
   "cell_type": "code",
   "execution_count": 8,
   "metadata": {},
   "outputs": [],
   "source": [
    "if recompute_scratch:\n",
    "    verbose_stat = False\n",
    "    max_tries = 100\n",
    "    sleep_time = 5\n",
    "    navis.set_loggers('ERROR')\n",
    "    navis.set_pbars(hide=True)\n",
    "    recompute_scratchskels = True\n",
    "    recompute_scratchmeshes = True\n",
    "else:\n",
    "    verbose_stat = True\n",
    "    max_tries = 1\n",
    "    sleep_time = 1\n",
    "    navis.set_pbars(hide=False)\n",
    "    recompute_scratchskels = False\n",
    "    recompute_scratchmeshes = False"
   ]
  },
  {
   "cell_type": "code",
   "execution_count": null,
   "metadata": {},
   "outputs": [],
   "source": []
  },
  {
   "cell_type": "code",
   "execution_count": null,
   "metadata": {},
   "outputs": [],
   "source": []
  },
  {
   "cell_type": "markdown",
   "metadata": {},
   "source": [
    "## Step 2: Set configurations to fetch from data from `neuprint`"
   ]
  },
  {
   "cell_type": "code",
   "execution_count": 9,
   "metadata": {},
   "outputs": [],
   "source": [
    "client = neu.Client('https://neuprint.janelia.org/', dataset='hemibrain:v1.2')"
   ]
  },
  {
   "cell_type": "code",
   "execution_count": 10,
   "metadata": {},
   "outputs": [
    {
     "data": {
      "text/plain": [
       "Client(\"https://neuprint.janelia.org\", \"hemibrain:v1.2\")"
      ]
     },
     "execution_count": 10,
     "metadata": {},
     "output_type": "execute_result"
    }
   ],
   "source": [
    "client"
   ]
  },
  {
   "cell_type": "markdown",
   "metadata": {},
   "source": [
    "## Step 3: Get bodyids from the csv file.."
   ]
  },
  {
   "cell_type": "code",
   "execution_count": 11,
   "metadata": {},
   "outputs": [],
   "source": [
    "csvloc = '/Users/sri/Documents/dataset/EM_Hemibrain_Neuronbridge.csv'"
   ]
  },
  {
   "cell_type": "code",
   "execution_count": 12,
   "metadata": {},
   "outputs": [],
   "source": [
    "dataset_df = pd.read_csv(csvloc)"
   ]
  },
  {
   "cell_type": "code",
   "execution_count": 13,
   "metadata": {},
   "outputs": [
    {
     "name": "stdout",
     "output_type": "stream",
     "text": [
      "Different status are:  ['LV' 'RT' 'TC']\n"
     ]
    }
   ],
   "source": [
    "status = dataset_df.Line.str.split('_18U', n = 1, expand=True)\n",
    "status.columns = ['name', 'flip']\n",
    "res = status.name.str.rsplit('_', 1, expand = True)\n",
    "res.columns = ['name', 'status']\n",
    "print('Different status are: ', np.unique(res.status))"
   ]
  },
  {
   "cell_type": "code",
   "execution_count": 14,
   "metadata": {},
   "outputs": [
    {
     "name": "stdout",
     "output_type": "stream",
     "text": [
      "Used status are:  ['RT' 'TC']\n"
     ]
    }
   ],
   "source": [
    "# get only traced and roughly traced..\n",
    "roughlytraced = res.status.str.contains('RT')\n",
    "traced = res.status.str.contains('TC')\n",
    "lvstatus = res.status.str.contains('LV')\n",
    "selecteddataset_df = res[roughlytraced | traced]\n",
    "print('Used status are: ', np.unique(selecteddataset_df.status))"
   ]
  },
  {
   "cell_type": "code",
   "execution_count": 15,
   "metadata": {},
   "outputs": [
    {
     "name": "stdout",
     "output_type": "stream",
     "text": [
      "Choosen neurons are:  21666\n"
     ]
    }
   ],
   "source": [
    "selectedneurons = selecteddataset_df.name.str.split('-', n = 1, expand=True)\n",
    "selectedneurons.columns = ['bodyid', 'name']\n",
    "selectedneurons = selectedneurons.drop_duplicates()\n",
    "#selectedneurons['bodyid'] = selectedneurons['bodyid'].apply(pd.to_numeric, errors='coerce')\n",
    "selectedneurons = selectedneurons.reset_index(drop = True)\n",
    "print('Choosen neurons are: ', len(selectedneurons.bodyid.unique()))"
   ]
  },
  {
   "cell_type": "code",
   "execution_count": 16,
   "metadata": {},
   "outputs": [
    {
     "data": {
      "text/html": [
       "<div>\n",
       "<style scoped>\n",
       "    .dataframe tbody tr th:only-of-type {\n",
       "        vertical-align: middle;\n",
       "    }\n",
       "\n",
       "    .dataframe tbody tr th {\n",
       "        vertical-align: top;\n",
       "    }\n",
       "\n",
       "    .dataframe thead th {\n",
       "        text-align: right;\n",
       "    }\n",
       "</style>\n",
       "<table border=\"1\" class=\"dataframe\">\n",
       "  <thead>\n",
       "    <tr style=\"text-align: right;\">\n",
       "      <th></th>\n",
       "      <th>bodyid</th>\n",
       "      <th>name</th>\n",
       "    </tr>\n",
       "  </thead>\n",
       "  <tbody>\n",
       "    <tr>\n",
       "      <th>0</th>\n",
       "      <td>989228019</td>\n",
       "      <td>FB5V</td>\n",
       "    </tr>\n",
       "    <tr>\n",
       "      <th>1</th>\n",
       "      <td>988909130</td>\n",
       "      <td>FB5V</td>\n",
       "    </tr>\n",
       "    <tr>\n",
       "      <th>2</th>\n",
       "      <td>988852391</td>\n",
       "      <td>PAM08_a</td>\n",
       "    </tr>\n",
       "    <tr>\n",
       "      <th>3</th>\n",
       "      <td>988632865</td>\n",
       "      <td>VES045</td>\n",
       "    </tr>\n",
       "    <tr>\n",
       "      <th>4</th>\n",
       "      <td>988567837</td>\n",
       "      <td>FB4G</td>\n",
       "    </tr>\n",
       "    <tr>\n",
       "      <th>...</th>\n",
       "      <td>...</td>\n",
       "      <td>...</td>\n",
       "    </tr>\n",
       "    <tr>\n",
       "      <th>21661</th>\n",
       "      <td>1002507170</td>\n",
       "      <td>PFL1</td>\n",
       "    </tr>\n",
       "    <tr>\n",
       "      <th>21662</th>\n",
       "      <td>1002507159</td>\n",
       "      <td>EPG</td>\n",
       "    </tr>\n",
       "    <tr>\n",
       "      <th>21663</th>\n",
       "      <td>1002507131</td>\n",
       "      <td>PEN_a(PEN1)</td>\n",
       "    </tr>\n",
       "    <tr>\n",
       "      <th>21664</th>\n",
       "      <td>1002360103</td>\n",
       "      <td>AVLP464</td>\n",
       "    </tr>\n",
       "    <tr>\n",
       "      <th>21665</th>\n",
       "      <td>1001453586</td>\n",
       "      <td>KCa'b'-ap1</td>\n",
       "    </tr>\n",
       "  </tbody>\n",
       "</table>\n",
       "<p>21666 rows × 2 columns</p>\n",
       "</div>"
      ],
      "text/plain": [
       "           bodyid         name\n",
       "0       989228019         FB5V\n",
       "1       988909130         FB5V\n",
       "2       988852391      PAM08_a\n",
       "3       988632865       VES045\n",
       "4       988567837         FB4G\n",
       "...           ...          ...\n",
       "21661  1002507170         PFL1\n",
       "21662  1002507159          EPG\n",
       "21663  1002507131  PEN_a(PEN1)\n",
       "21664  1002360103      AVLP464\n",
       "21665  1001453586   KCa'b'-ap1\n",
       "\n",
       "[21666 rows x 2 columns]"
      ]
     },
     "execution_count": 16,
     "metadata": {},
     "output_type": "execute_result"
    }
   ],
   "source": [
    "selectedneurons"
   ]
  },
  {
   "cell_type": "code",
   "execution_count": null,
   "metadata": {},
   "outputs": [],
   "source": []
  },
  {
   "cell_type": "markdown",
   "metadata": {},
   "source": [
    "## Step 4: Select bodyids that will be fetched, and set host directory.."
   ]
  },
  {
   "cell_type": "code",
   "execution_count": 17,
   "metadata": {},
   "outputs": [],
   "source": [
    "#numbodyids = 50"
   ]
  },
  {
   "cell_type": "code",
   "execution_count": 18,
   "metadata": {},
   "outputs": [],
   "source": [
    "#bodyids = selectedneurons.bodyid[0:numbodyids]\n",
    "bodyids = selectedneurons.bodyid\n",
    "bodyids = list(map(int, bodyids))\n",
    "candidate_bodyids = bodyids"
   ]
  },
  {
   "cell_type": "code",
   "execution_count": 19,
   "metadata": {},
   "outputs": [
    {
     "name": "stdout",
     "output_type": "stream",
     "text": [
      "Total neurons that will be processed:  21666\n"
     ]
    }
   ],
   "source": [
    "print('Total neurons that will be processed: ', len(candidate_bodyids))"
   ]
  },
  {
   "cell_type": "code",
   "execution_count": null,
   "metadata": {},
   "outputs": [],
   "source": []
  },
  {
   "cell_type": "code",
   "execution_count": 20,
   "metadata": {},
   "outputs": [],
   "source": [
    "hostdirectory = '/Users/sri/Documents/dataset/hemibrain2flywire/'"
   ]
  },
  {
   "cell_type": "code",
   "execution_count": null,
   "metadata": {},
   "outputs": [],
   "source": []
  },
  {
   "cell_type": "markdown",
   "metadata": {},
   "source": [
    "## Step 5: Get stuff from `neuprint`, transform, precompute them.."
   ]
  },
  {
   "cell_type": "code",
   "execution_count": null,
   "metadata": {},
   "outputs": [],
   "source": []
  },
  {
   "cell_type": "code",
   "execution_count": null,
   "metadata": {},
   "outputs": [],
   "source": [
    "# if recompute_scratch:\n",
    "#     print('Flushing entire host directory: ',hostdirectory)\n",
    "#     flush_precomputed(hostdirectory, '')\n",
    "# else:\n",
    "#     print('Adding to already computed files..')"
   ]
  },
  {
   "cell_type": "code",
   "execution_count": null,
   "metadata": {},
   "outputs": [],
   "source": []
  },
  {
   "cell_type": "markdown",
   "metadata": {},
   "source": [
    "## skeleton part.."
   ]
  },
  {
   "cell_type": "code",
   "execution_count": null,
   "metadata": {},
   "outputs": [],
   "source": [
    "#     skelpath = os.path.join(hostdirectory, 'precomputed/skeletons/')"
   ]
  },
  {
   "cell_type": "code",
   "execution_count": null,
   "metadata": {},
   "outputs": [],
   "source": [
    "# if recompute_scratchskels:\n",
    "#     print('Flushing entire host directory for skeletons: ', skelpath)\n",
    "#     flush_precomputed(hostdirectory, 'skeletons')\n",
    "# else:\n",
    "#     print('computing skels that need to be added..')\n",
    "#     _, _, precomp_skelbodyids = next(walk(skelpath))\n",
    "#     if 'info' in precomp_skelbodyids: precomp_skelbodyids.remove('info')\n",
    "#     if '.DS_Store' in precomp_skelbodyids: precomp_skelbodyids.remove('.DS_Store')\n",
    "#     bodyids_str = list(map(str, bodyids))\n",
    "#     missingbodyids = list(set(bodyids_str) ^ set(precomp_skelbodyids))\n",
    "#     candidate_bodyids = missingbodyids\n",
    "#     candidate_bodyids = list(map(int, candidate_bodyids))"
   ]
  },
  {
   "cell_type": "code",
   "execution_count": null,
   "metadata": {},
   "outputs": [],
   "source": []
  },
  {
   "cell_type": "code",
   "execution_count": null,
   "metadata": {},
   "outputs": [],
   "source": [
    "print('Total skeletons that will be added: ', len(candidate_bodyids))"
   ]
  },
  {
   "cell_type": "code",
   "execution_count": null,
   "metadata": {},
   "outputs": [],
   "source": []
  },
  {
   "cell_type": "code",
   "execution_count": null,
   "metadata": {},
   "outputs": [],
   "source": [
    "if recompute_scratchskels:\n",
    "    nskelbatch = 25 #number of skeletons to process in one-go..\n",
    "else:\n",
    "    nskelbatch = 1"
   ]
  },
  {
   "cell_type": "code",
   "execution_count": null,
   "metadata": {},
   "outputs": [],
   "source": [
    "print('Skeletons that will be processed in one-go: ', nskelbatch)"
   ]
  },
  {
   "cell_type": "code",
   "execution_count": null,
   "metadata": {},
   "outputs": [],
   "source": []
  },
  {
   "cell_type": "code",
   "execution_count": null,
   "metadata": {},
   "outputs": [],
   "source": [
    "def transform2flywireskeletons(skelids):\n",
    "    neurons_df = neu.fetch_skeletons(skelids, heal=1000, max_threads=nskelbatch, missing_swc='raise')\n",
    "    hemibrain_neurons=navis.xform_brain(neurons_df,source='JRCFIB2018Fraw', target='FLYWIRE',verbose=verbose_stat)\n",
    "    #hemibrain_neurons=navis.xform_brain(neurons_df,source='JRCFIB2018Fraw', target='FAFB',verbose=False)\n",
    "    skelsource, skelseglist, skelsegnamelist = to_ngskeletons(hemibrain_neurons)\n",
    "    to_precomputedskels(skelsource, hostdirectory)\n",
    "    return skelseglist, skelsegnamelist "
   ]
  },
  {
   "cell_type": "code",
   "execution_count": null,
   "metadata": {},
   "outputs": [],
   "source": [
    "splitlist = np.array_split(candidate_bodyids, len(candidate_bodyids)/nskelbatch)"
   ]
  },
  {
   "cell_type": "code",
   "execution_count": null,
   "metadata": {},
   "outputs": [],
   "source": []
  },
  {
   "cell_type": "code",
   "execution_count": null,
   "metadata": {},
   "outputs": [],
   "source": [
    "def processskelchunks(chunkbodyids, chunkidx):\n",
    "    #print('processing: ', chunkbodyids)\n",
    "    #skelseglist, skelsegnamelist = transform2flywireskeletons(chunkbodyids)\n",
    "    skelseglist, skelsegnamelist = try_until(lambda : transform2flywireskeletons(chunkbodyids), max_tries, sleep_time)\n",
    "    return skelseglist, skelsegnamelist,chunkidx"
   ]
  },
  {
   "cell_type": "code",
   "execution_count": null,
   "metadata": {},
   "outputs": [],
   "source": []
  },
  {
   "cell_type": "code",
   "execution_count": null,
   "metadata": {},
   "outputs": [],
   "source": [
    "def multi_run_skelchunks(args):\n",
    "    return processskelchunks(args[0],args[1])"
   ]
  },
  {
   "cell_type": "code",
   "execution_count": null,
   "metadata": {},
   "outputs": [],
   "source": []
  },
  {
   "cell_type": "code",
   "execution_count": null,
   "metadata": {},
   "outputs": [],
   "source": [
    "totalsplits = np.arange(len(splitlist))\n",
    "fullist = [x for x in zip(splitlist, totalsplits)]"
   ]
  },
  {
   "cell_type": "code",
   "execution_count": null,
   "metadata": {},
   "outputs": [],
   "source": []
  },
  {
   "cell_type": "code",
   "execution_count": null,
   "metadata": {},
   "outputs": [],
   "source": [
    "fullist"
   ]
  },
  {
   "cell_type": "code",
   "execution_count": null,
   "metadata": {},
   "outputs": [],
   "source": []
  },
  {
   "cell_type": "code",
   "execution_count": null,
   "metadata": {},
   "outputs": [],
   "source": [
    "#With multiprocessing takes 5-6 hrs for processing 21k skeletons..\n",
    "if __name__ == \"__main__\":\n",
    "    results_multi = p_map(multi_run_skelchunks,fullist)"
   ]
  },
  {
   "cell_type": "code",
   "execution_count": null,
   "metadata": {},
   "outputs": [],
   "source": []
  },
  {
   "cell_type": "code",
   "execution_count": null,
   "metadata": {},
   "outputs": [],
   "source": [
    "_, _, precomp_skelbodyids = next(walk(skelpath))\n",
    "if 'info' in precomp_skelbodyids: precomp_skelbodyids.remove('info')\n",
    "if '.DS_Store' in precomp_skelbodyids: precomp_skelbodyids.remove('.DS_Store')"
   ]
  },
  {
   "cell_type": "code",
   "execution_count": null,
   "metadata": {},
   "outputs": [],
   "source": [
    "errorbodyids = list(set(bodyids_str) ^ set(precomp_skelbodyids))\n",
    "print('skeletons unable to be transformed: ', errorbodyids)"
   ]
  },
  {
   "cell_type": "code",
   "execution_count": null,
   "metadata": {},
   "outputs": [],
   "source": []
  },
  {
   "cell_type": "code",
   "execution_count": null,
   "metadata": {},
   "outputs": [],
   "source": [
    "precomp_skelbodyids = list(map(int, precomp_skelbodyids))"
   ]
  },
  {
   "cell_type": "code",
   "execution_count": null,
   "metadata": {},
   "outputs": [],
   "source": [
    "len(precomp_skelbodyids)"
   ]
  },
  {
   "cell_type": "code",
   "execution_count": null,
   "metadata": {},
   "outputs": [],
   "source": []
  },
  {
   "cell_type": "code",
   "execution_count": null,
   "metadata": {},
   "outputs": [],
   "source": [
    "neuron_df, _ = fetch_neurons(NC(bodyId=precomp_skelbodyids))"
   ]
  },
  {
   "cell_type": "code",
   "execution_count": null,
   "metadata": {},
   "outputs": [],
   "source": [
    "mergedskelseglist = neuron_df['bodyId'].tolist()\n",
    "mergedskelsegnamelist = neuron_df['instance'].tolist()"
   ]
  },
  {
   "cell_type": "code",
   "execution_count": null,
   "metadata": {},
   "outputs": [],
   "source": [
    "mergedskelseglist = [str(x) for x in mergedskelseglist]\n",
    "mergedskelsegnamelist = [str(x) for x in mergedskelsegnamelist]"
   ]
  },
  {
   "cell_type": "code",
   "execution_count": null,
   "metadata": {},
   "outputs": [],
   "source": []
  },
  {
   "cell_type": "code",
   "execution_count": null,
   "metadata": {},
   "outputs": [],
   "source": [
    "print('Processed neuron skeletons are: ', len(mergedskelseglist))"
   ]
  },
  {
   "cell_type": "code",
   "execution_count": null,
   "metadata": {},
   "outputs": [],
   "source": []
  },
  {
   "cell_type": "code",
   "execution_count": null,
   "metadata": {},
   "outputs": [],
   "source": [
    "to_precomputedskelsinfo(mergedskelseglist, mergedskelsegnamelist, hostdirectory)"
   ]
  },
  {
   "cell_type": "code",
   "execution_count": null,
   "metadata": {},
   "outputs": [],
   "source": []
  },
  {
   "cell_type": "code",
   "execution_count": null,
   "metadata": {},
   "outputs": [],
   "source": [
    "#save csv file with bodyid, name"
   ]
  },
  {
   "cell_type": "code",
   "execution_count": null,
   "metadata": {},
   "outputs": [],
   "source": [
    "bodyid_celltypes = pd.DataFrame({'bodyid':mergedskelseglist})\n",
    "bodyid_celltypes['name'] = mergedskelsegnamelist"
   ]
  },
  {
   "cell_type": "code",
   "execution_count": null,
   "metadata": {},
   "outputs": [],
   "source": [
    "bodyid_celltypes.head()"
   ]
  },
  {
   "cell_type": "code",
   "execution_count": null,
   "metadata": {},
   "outputs": [],
   "source": [
    "#the below csv file, is a useful name file, useble with the older version used in flywire.."
   ]
  },
  {
   "cell_type": "code",
   "execution_count": null,
   "metadata": {},
   "outputs": [],
   "source": [
    "bodyid_celltypes.to_csv('skelbodyid_celltype.csv', index=False)"
   ]
  },
  {
   "cell_type": "code",
   "execution_count": null,
   "metadata": {},
   "outputs": [],
   "source": []
  },
  {
   "cell_type": "code",
   "execution_count": null,
   "metadata": {},
   "outputs": [],
   "source": []
  },
  {
   "cell_type": "code",
   "execution_count": null,
   "metadata": {},
   "outputs": [],
   "source": []
  },
  {
   "cell_type": "code",
   "execution_count": null,
   "metadata": {},
   "outputs": [],
   "source": []
  },
  {
   "cell_type": "markdown",
   "metadata": {},
   "source": [
    "## neuronmesh part.."
   ]
  },
  {
   "cell_type": "code",
   "execution_count": 37,
   "metadata": {},
   "outputs": [],
   "source": [
    "neuronmeshpath = os.path.join(hostdirectory, 'precomputed/neuronmeshes/mesh')"
   ]
  },
  {
   "cell_type": "code",
   "execution_count": 38,
   "metadata": {},
   "outputs": [
    {
     "name": "stdout",
     "output_type": "stream",
     "text": [
      "computing neuronmeshes that need to be added..\n"
     ]
    }
   ],
   "source": [
    "if recompute_scratchmeshes:\n",
    "    print('Flushing entire host dir for neuronmeshes: ', neuronmeshpath)\n",
    "    flush_precomputed(hostdirectory, 'neuronmeshes')\n",
    "else:\n",
    "    print('computing neuronmeshes that need to be added..')\n",
    "    _, _, precomp_meshbodyids = next(walk(neuronmeshpath))\n",
    "    if 'info' in precomp_meshbodyids: precomp_meshbodyids.remove('info')\n",
    "    if '.DS_Store' in precomp_meshbodyids: precomp_meshbodyids.remove('.DS_Store')\n",
    "    precomp_meshbodyids[:] = [x for x in precomp_meshbodyids if \":\" not in x]\n",
    "    bodyids_str = list(map(str, bodyids))\n",
    "    missingbodyids = list(set(bodyids_str) ^ set(precomp_meshbodyids))\n",
    "    candidate_bodyids = missingbodyids\n",
    "    candidate_bodyids = list(map(int, candidate_bodyids))"
   ]
  },
  {
   "cell_type": "code",
   "execution_count": null,
   "metadata": {},
   "outputs": [],
   "source": []
  },
  {
   "cell_type": "code",
   "execution_count": 39,
   "metadata": {},
   "outputs": [
    {
     "name": "stdout",
     "output_type": "stream",
     "text": [
      "Total neuronmeshes that will be added:  0\n"
     ]
    }
   ],
   "source": [
    "print('Total neuronmeshes that will be added: ', len(candidate_bodyids))"
   ]
  },
  {
   "cell_type": "code",
   "execution_count": 40,
   "metadata": {},
   "outputs": [],
   "source": [
    "if recompute_scratchmeshes:\n",
    "    neuronmeshbatch = 10 #number of neuronmeshes to process in one-go..\n",
    "else:\n",
    "    neuronmeshbatch = 1"
   ]
  },
  {
   "cell_type": "code",
   "execution_count": 50,
   "metadata": {},
   "outputs": [
    {
     "name": "stdout",
     "output_type": "stream",
     "text": [
      "Neuronmeshes that will be processed in one-go:  1\n"
     ]
    }
   ],
   "source": [
    "print('Neuronmeshes that will be processed in one-go: ', neuronmeshbatch)"
   ]
  },
  {
   "cell_type": "code",
   "execution_count": null,
   "metadata": {},
   "outputs": [],
   "source": []
  },
  {
   "cell_type": "code",
   "execution_count": 51,
   "metadata": {},
   "outputs": [],
   "source": [
    "def transform2flywiremeshes(bodyids):\n",
    "    neuronmeshes_df = neu.fetch_mesh_neuron(bodyids, lod=2, with_synapses=False)\n",
    "    hemibrainneuronmeshes_df = navis.xform_brain(neuronmeshes_df,source='JRCFIB2018Fraw', target='FLYWIRE',verbose=verbose_stat)\n",
    "    #hemibrainneuronmeshes_df = navis.xform_brain(neuronmeshes_df,source='JRCFIB2018Fraw', target='FAFB',verbose=False)\n",
    "    volumedatasource, volumeidlist, volumenamelist = to_ngmesh(hemibrainneuronmeshes_df)\n",
    "    to_precomputedsingleresmeshes(volumedatasource, hostdirectory, 'neuronmeshes')\n",
    "    return volumeidlist, volumenamelist "
   ]
  },
  {
   "cell_type": "code",
   "execution_count": null,
   "metadata": {},
   "outputs": [],
   "source": []
  },
  {
   "cell_type": "code",
   "execution_count": 57,
   "metadata": {},
   "outputs": [],
   "source": [
    "if candidate_bodyids:\n",
    "    splitlist = np.array_split(candidate_bodyids, len(candidate_bodyids)/neuronmeshbatch)\n",
    "else:\n",
    "    splitlist = []"
   ]
  },
  {
   "cell_type": "code",
   "execution_count": null,
   "metadata": {},
   "outputs": [],
   "source": []
  },
  {
   "cell_type": "code",
   "execution_count": 59,
   "metadata": {},
   "outputs": [],
   "source": [
    "def processmeshchunks(chunkbodyids, chunkidx):\n",
    "    #print('processing: ', chunkbodyids)\n",
    "    #volumeidlist, volumenamelist = transform2flywiremeshes(chunkbodyids)\n",
    "    volumeidlist, volumenamelist = try_until(lambda : transform2flywiremeshes(chunkbodyids), max_tries, sleep_time)\n",
    "    return volumeidlist, volumenamelist,chunkidx"
   ]
  },
  {
   "cell_type": "code",
   "execution_count": null,
   "metadata": {},
   "outputs": [],
   "source": []
  },
  {
   "cell_type": "code",
   "execution_count": 60,
   "metadata": {},
   "outputs": [],
   "source": [
    "def multi_run_meshchunks(args):\n",
    "    return processmeshchunks(args[0],args[1])"
   ]
  },
  {
   "cell_type": "code",
   "execution_count": null,
   "metadata": {},
   "outputs": [],
   "source": []
  },
  {
   "cell_type": "code",
   "execution_count": 61,
   "metadata": {},
   "outputs": [],
   "source": [
    "totalsplits = np.arange(len(splitlist))\n",
    "fullist = [x for x in zip(splitlist, totalsplits)]"
   ]
  },
  {
   "cell_type": "code",
   "execution_count": null,
   "metadata": {},
   "outputs": [],
   "source": []
  },
  {
   "cell_type": "code",
   "execution_count": 62,
   "metadata": {},
   "outputs": [
    {
     "data": {
      "text/plain": [
       "[]"
      ]
     },
     "execution_count": 62,
     "metadata": {},
     "output_type": "execute_result"
    }
   ],
   "source": [
    "fullist"
   ]
  },
  {
   "cell_type": "code",
   "execution_count": null,
   "metadata": {},
   "outputs": [],
   "source": []
  },
  {
   "cell_type": "code",
   "execution_count": 63,
   "metadata": {},
   "outputs": [
    {
     "data": {
      "application/vnd.jupyter.widget-view+json": {
       "model_id": "9e4df35aeb0648eab9520083bc289e3c",
       "version_major": 2,
       "version_minor": 0
      },
      "text/plain": [
       "HBox(children=(HTML(value=''), FloatProgress(value=1.0, bar_style='info', layout=Layout(width='20px'), max=1.0…"
      ]
     },
     "metadata": {},
     "output_type": "display_data"
    },
    {
     "name": "stdout",
     "output_type": "stream",
     "text": [
      "\n"
     ]
    }
   ],
   "source": [
    "#With multiprocessing takes 3 hrs for processing 21k meshes..\n",
    "if __name__ == \"__main__\":\n",
    "    results_multi = p_map(multi_run_meshchunks,fullist)"
   ]
  },
  {
   "cell_type": "code",
   "execution_count": null,
   "metadata": {},
   "outputs": [],
   "source": []
  },
  {
   "cell_type": "code",
   "execution_count": 70,
   "metadata": {},
   "outputs": [],
   "source": [
    "_, _, precomp_neuronmeshbodyids = next(walk(neuronmeshpath))\n",
    "if 'info' in precomp_neuronmeshbodyids: precomp_neuronmeshbodyids.remove('info')\n",
    "if '.DS_Store' in precomp_neuronmeshbodyids: precomp_neuronmeshbodyids.remove('.DS_Store')\n",
    "precomp_neuronmeshbodyids[:] = [x for x in precomp_neuronmeshbodyids if \":\" not in x]"
   ]
  },
  {
   "cell_type": "code",
   "execution_count": null,
   "metadata": {},
   "outputs": [],
   "source": []
  },
  {
   "cell_type": "code",
   "execution_count": 73,
   "metadata": {},
   "outputs": [
    {
     "name": "stdout",
     "output_type": "stream",
     "text": [
      "neuronmeshes unable to be transformed:  []\n"
     ]
    }
   ],
   "source": [
    "errorbodyids = list(set(bodyids_str) ^ set(precomp_neuronmeshbodyids))\n",
    "print('neuronmeshes unable to be transformed: ', errorbodyids)"
   ]
  },
  {
   "cell_type": "code",
   "execution_count": null,
   "metadata": {},
   "outputs": [],
   "source": []
  },
  {
   "cell_type": "code",
   "execution_count": 74,
   "metadata": {},
   "outputs": [],
   "source": [
    "precomp_neuronmeshbodyids = list(map(int, precomp_neuronmeshbodyids))"
   ]
  },
  {
   "cell_type": "code",
   "execution_count": 75,
   "metadata": {},
   "outputs": [
    {
     "data": {
      "text/plain": [
       "21666"
      ]
     },
     "execution_count": 75,
     "metadata": {},
     "output_type": "execute_result"
    }
   ],
   "source": [
    "len(precomp_neuronmeshbodyids)"
   ]
  },
  {
   "cell_type": "code",
   "execution_count": null,
   "metadata": {},
   "outputs": [],
   "source": []
  },
  {
   "cell_type": "code",
   "execution_count": 76,
   "metadata": {},
   "outputs": [],
   "source": [
    "neuron_df, _ = fetch_neurons(NC(bodyId=precomp_neuronmeshbodyids))"
   ]
  },
  {
   "cell_type": "code",
   "execution_count": 78,
   "metadata": {},
   "outputs": [],
   "source": [
    "mergedvolumeidlist = neuron_df['bodyId'].tolist()\n",
    "mergedvolumenamelist = neuron_df['instance'].tolist()"
   ]
  },
  {
   "cell_type": "code",
   "execution_count": 79,
   "metadata": {},
   "outputs": [],
   "source": [
    "mergedvolumeidlist = [str(x) for x in mergedvolumeidlist]\n",
    "mergedvolumenamelist = [str(x) for x in mergedvolumenamelist]"
   ]
  },
  {
   "cell_type": "code",
   "execution_count": null,
   "metadata": {},
   "outputs": [],
   "source": []
  },
  {
   "cell_type": "code",
   "execution_count": 80,
   "metadata": {},
   "outputs": [
    {
     "name": "stdout",
     "output_type": "stream",
     "text": [
      "Processed neuron meshes are:  21666\n"
     ]
    }
   ],
   "source": [
    "print('Processed neuron meshes are: ', len(mergedvolumeidlist))"
   ]
  },
  {
   "cell_type": "code",
   "execution_count": null,
   "metadata": {},
   "outputs": [],
   "source": []
  },
  {
   "cell_type": "code",
   "execution_count": 81,
   "metadata": {},
   "outputs": [
    {
     "name": "stdout",
     "output_type": "stream",
     "text": [
      "creating: /Users/sri/Documents/dataset/hemibrain2flywire/precomputed/neuronmeshes/mesh/segment_properties\n",
      "creating: /Users/sri/Documents/dataset/hemibrain2flywire/precomputed/neuronmeshes/mesh/segment_names\n"
     ]
    }
   ],
   "source": [
    "to_precomputedsingleresmeshesinfo(mergedvolumeidlist, mergedvolumenamelist, hostdirectory, 'neuronmeshes')"
   ]
  },
  {
   "cell_type": "code",
   "execution_count": null,
   "metadata": {},
   "outputs": [],
   "source": []
  },
  {
   "cell_type": "code",
   "execution_count": 82,
   "metadata": {},
   "outputs": [],
   "source": [
    "#save csv file with bodyid, name"
   ]
  },
  {
   "cell_type": "code",
   "execution_count": 83,
   "metadata": {},
   "outputs": [],
   "source": [
    "bodyid_celltypes = pd.DataFrame({'bodyid':mergedvolumeidlist})\n",
    "bodyid_celltypes['name'] = mergedvolumenamelist"
   ]
  },
  {
   "cell_type": "code",
   "execution_count": 84,
   "metadata": {},
   "outputs": [
    {
     "data": {
      "text/html": [
       "<div>\n",
       "<style scoped>\n",
       "    .dataframe tbody tr th:only-of-type {\n",
       "        vertical-align: middle;\n",
       "    }\n",
       "\n",
       "    .dataframe tbody tr th {\n",
       "        vertical-align: top;\n",
       "    }\n",
       "\n",
       "    .dataframe thead th {\n",
       "        text-align: right;\n",
       "    }\n",
       "</style>\n",
       "<table border=\"1\" class=\"dataframe\">\n",
       "  <thead>\n",
       "    <tr style=\"text-align: right;\">\n",
       "      <th></th>\n",
       "      <th>bodyid</th>\n",
       "      <th>name</th>\n",
       "    </tr>\n",
       "  </thead>\n",
       "  <tbody>\n",
       "    <tr>\n",
       "      <th>0</th>\n",
       "      <td>200326126</td>\n",
       "      <td>CL141_L</td>\n",
       "    </tr>\n",
       "    <tr>\n",
       "      <th>1</th>\n",
       "      <td>202916528</td>\n",
       "      <td>FS4C(FQ12)_C4_R</td>\n",
       "    </tr>\n",
       "    <tr>\n",
       "      <th>2</th>\n",
       "      <td>203253072</td>\n",
       "      <td>FS4A(AB)(FQ12)_C3_R</td>\n",
       "    </tr>\n",
       "    <tr>\n",
       "      <th>3</th>\n",
       "      <td>203253253</td>\n",
       "      <td>SMP505(PDM22)_L</td>\n",
       "    </tr>\n",
       "    <tr>\n",
       "      <th>4</th>\n",
       "      <td>203257652</td>\n",
       "      <td>FS4C(FQ12)_C6_R</td>\n",
       "    </tr>\n",
       "  </tbody>\n",
       "</table>\n",
       "</div>"
      ],
      "text/plain": [
       "      bodyid                 name\n",
       "0  200326126              CL141_L\n",
       "1  202916528      FS4C(FQ12)_C4_R\n",
       "2  203253072  FS4A(AB)(FQ12)_C3_R\n",
       "3  203253253      SMP505(PDM22)_L\n",
       "4  203257652      FS4C(FQ12)_C6_R"
      ]
     },
     "execution_count": 84,
     "metadata": {},
     "output_type": "execute_result"
    }
   ],
   "source": [
    "bodyid_celltypes.head()"
   ]
  },
  {
   "cell_type": "code",
   "execution_count": 85,
   "metadata": {},
   "outputs": [],
   "source": [
    "#the below csv file, is a useful name file, useble with the older version used in flywire.."
   ]
  },
  {
   "cell_type": "code",
   "execution_count": 86,
   "metadata": {},
   "outputs": [],
   "source": [
    "bodyid_celltypes.to_csv('neuronmeshbodyid_celltype.csv', index=False)"
   ]
  },
  {
   "cell_type": "code",
   "execution_count": null,
   "metadata": {},
   "outputs": [],
   "source": []
  },
  {
   "cell_type": "code",
   "execution_count": null,
   "metadata": {},
   "outputs": [],
   "source": []
  },
  {
   "cell_type": "code",
   "execution_count": null,
   "metadata": {},
   "outputs": [],
   "source": []
  },
  {
   "cell_type": "code",
   "execution_count": null,
   "metadata": {},
   "outputs": [],
   "source": []
  }
 ],
 "metadata": {
  "kernelspec": {
   "display_name": "Python 3",
   "language": "python",
   "name": "python3"
  },
  "language_info": {
   "codemirror_mode": {
    "name": "ipython",
    "version": 3
   },
   "file_extension": ".py",
   "mimetype": "text/x-python",
   "name": "python",
   "nbconvert_exporter": "python",
   "pygments_lexer": "ipython3",
   "version": "3.8.5"
  }
 },
 "nbformat": 4,
 "nbformat_minor": 2
}
