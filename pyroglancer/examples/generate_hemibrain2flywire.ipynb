{
 "cells": [
  {
   "cell_type": "markdown",
   "metadata": {},
   "source": [
    "# Illustrating of generation of dataset for `hemibrain` to `flywire` transformation "
   ]
  },
  {
   "cell_type": "markdown",
   "metadata": {},
   "source": [
    "## Step 1: Import neccesary library modules now"
   ]
  },
  {
   "cell_type": "code",
   "execution_count": 1,
   "metadata": {},
   "outputs": [
    {
     "name": "stderr",
     "output_type": "stream",
     "text": [
      "WARNING: Could not load OpenGL library.\n"
     ]
    }
   ],
   "source": [
    "import navis\n",
    "import fafbseg\n",
    "import flybrains"
   ]
  },
  {
   "cell_type": "code",
   "execution_count": 2,
   "metadata": {},
   "outputs": [],
   "source": [
    "from pyroglancer.localserver import startdataserver, closedataserver\n",
    "from pyroglancer.flywire import flywireurl2dict, add_flywirelayer, add_flywirehostedlayer\n",
    "from pyroglancer.skeletons import to_ngskeletons, to_precomputedskels, to_precomputedskelsinfo\n",
    "from pyroglancer.layers import flush_precomputed, create_nglayer, handle_skels, get_ngserver, add_hostedlayer\n",
    "from pyroglancer.ngspaces import create_ngspace\n",
    "from pyroglancer.volumes import to_ngmesh, to_precomputedsingleresmeshes, to_precomputedsingleresmeshesinfo"
   ]
  },
  {
   "cell_type": "code",
   "execution_count": 3,
   "metadata": {},
   "outputs": [],
   "source": [
    "import navis.interfaces.neuprint as neu\n",
    "from navis.interfaces.neuprint import NeuronCriteria as NC, SynapseCriteria as SC"
   ]
  },
  {
   "cell_type": "code",
   "execution_count": 4,
   "metadata": {},
   "outputs": [],
   "source": [
    "import pandas as pd\n",
    "import numpy as np\n",
    "from tqdm.notebook import tqdm\n",
    "from time import sleep"
   ]
  },
  {
   "cell_type": "code",
   "execution_count": 5,
   "metadata": {},
   "outputs": [],
   "source": [
    "navis.set_loggers('ERROR')\n",
    "navis.set_pbars(hide=True)"
   ]
  },
  {
   "cell_type": "code",
   "execution_count": 6,
   "metadata": {},
   "outputs": [],
   "source": [
    "def try_until(func, max_tries, sleep_time):\n",
    "    for _ in range(0,max_tries):\n",
    "        try:\n",
    "            return func()\n",
    "        except:\n",
    "            sleep(sleep_time)\n",
    "    raise ValueError('skipping as we dont succeed after max tries..') "
   ]
  },
  {
   "cell_type": "code",
   "execution_count": null,
   "metadata": {},
   "outputs": [],
   "source": []
  },
  {
   "cell_type": "markdown",
   "metadata": {},
   "source": [
    "## Step 2: Set configurations to fetch from data from `neuprint`"
   ]
  },
  {
   "cell_type": "code",
   "execution_count": 7,
   "metadata": {},
   "outputs": [],
   "source": [
    "client = neu.Client('https://neuprint.janelia.org/', dataset='hemibrain:v1.2')"
   ]
  },
  {
   "cell_type": "code",
   "execution_count": 8,
   "metadata": {},
   "outputs": [
    {
     "data": {
      "text/plain": [
       "Client(\"https://neuprint.janelia.org\", \"hemibrain:v1.2\")"
      ]
     },
     "execution_count": 8,
     "metadata": {},
     "output_type": "execute_result"
    }
   ],
   "source": [
    "client"
   ]
  },
  {
   "cell_type": "markdown",
   "metadata": {},
   "source": [
    "## Step 3: Get bodyids from the csv file.."
   ]
  },
  {
   "cell_type": "code",
   "execution_count": 9,
   "metadata": {},
   "outputs": [],
   "source": [
    "csvloc = '/Users/sri/Documents/dataset/EM_Hemibrain_Neuronbridge.csv'"
   ]
  },
  {
   "cell_type": "code",
   "execution_count": 10,
   "metadata": {},
   "outputs": [],
   "source": [
    "dataset_df = pd.read_csv(csvloc)"
   ]
  },
  {
   "cell_type": "code",
   "execution_count": 11,
   "metadata": {},
   "outputs": [
    {
     "name": "stdout",
     "output_type": "stream",
     "text": [
      "Different status are:  ['LV' 'RT' 'TC']\n"
     ]
    }
   ],
   "source": [
    "status = dataset_df.Line.str.split('_18U', n = 1, expand=True)\n",
    "status.columns = ['name', 'flip']\n",
    "res = status.name.str.rsplit('_', 1, expand = True)\n",
    "res.columns = ['name', 'status']\n",
    "print('Different status are: ', np.unique(res.status))"
   ]
  },
  {
   "cell_type": "code",
   "execution_count": 12,
   "metadata": {},
   "outputs": [
    {
     "name": "stdout",
     "output_type": "stream",
     "text": [
      "Used status are:  ['RT' 'TC']\n"
     ]
    }
   ],
   "source": [
    "# get only traced and roughly traced..\n",
    "roughlytraced = res.status.str.contains('RT')\n",
    "traced = res.status.str.contains('TC')\n",
    "lvstatus = res.status.str.contains('LV')\n",
    "selecteddataset_df = res[roughlytraced | traced]\n",
    "print('Used status are: ', np.unique(selecteddataset_df.status))"
   ]
  },
  {
   "cell_type": "code",
   "execution_count": 13,
   "metadata": {},
   "outputs": [
    {
     "name": "stdout",
     "output_type": "stream",
     "text": [
      "Choosen neurons are:  21666\n"
     ]
    }
   ],
   "source": [
    "selectedneurons = selecteddataset_df.name.str.split('-', n = 1, expand=True)\n",
    "selectedneurons.columns = ['bodyid', 'name']\n",
    "selectedneurons = selectedneurons.drop_duplicates()\n",
    "#selectedneurons['bodyid'] = selectedneurons['bodyid'].apply(pd.to_numeric, errors='coerce')\n",
    "selectedneurons = selectedneurons.reset_index(drop = True)\n",
    "print('Choosen neurons are: ', len(selectedneurons.bodyid.unique()))"
   ]
  },
  {
   "cell_type": "code",
   "execution_count": 14,
   "metadata": {},
   "outputs": [
    {
     "data": {
      "text/html": [
       "<div>\n",
       "<style scoped>\n",
       "    .dataframe tbody tr th:only-of-type {\n",
       "        vertical-align: middle;\n",
       "    }\n",
       "\n",
       "    .dataframe tbody tr th {\n",
       "        vertical-align: top;\n",
       "    }\n",
       "\n",
       "    .dataframe thead th {\n",
       "        text-align: right;\n",
       "    }\n",
       "</style>\n",
       "<table border=\"1\" class=\"dataframe\">\n",
       "  <thead>\n",
       "    <tr style=\"text-align: right;\">\n",
       "      <th></th>\n",
       "      <th>bodyid</th>\n",
       "      <th>name</th>\n",
       "    </tr>\n",
       "  </thead>\n",
       "  <tbody>\n",
       "    <tr>\n",
       "      <th>0</th>\n",
       "      <td>989228019</td>\n",
       "      <td>FB5V</td>\n",
       "    </tr>\n",
       "    <tr>\n",
       "      <th>1</th>\n",
       "      <td>988909130</td>\n",
       "      <td>FB5V</td>\n",
       "    </tr>\n",
       "    <tr>\n",
       "      <th>2</th>\n",
       "      <td>988852391</td>\n",
       "      <td>PAM08_a</td>\n",
       "    </tr>\n",
       "    <tr>\n",
       "      <th>3</th>\n",
       "      <td>988632865</td>\n",
       "      <td>VES045</td>\n",
       "    </tr>\n",
       "    <tr>\n",
       "      <th>4</th>\n",
       "      <td>988567837</td>\n",
       "      <td>FB4G</td>\n",
       "    </tr>\n",
       "    <tr>\n",
       "      <th>...</th>\n",
       "      <td>...</td>\n",
       "      <td>...</td>\n",
       "    </tr>\n",
       "    <tr>\n",
       "      <th>21661</th>\n",
       "      <td>1002507170</td>\n",
       "      <td>PFL1</td>\n",
       "    </tr>\n",
       "    <tr>\n",
       "      <th>21662</th>\n",
       "      <td>1002507159</td>\n",
       "      <td>EPG</td>\n",
       "    </tr>\n",
       "    <tr>\n",
       "      <th>21663</th>\n",
       "      <td>1002507131</td>\n",
       "      <td>PEN_a(PEN1)</td>\n",
       "    </tr>\n",
       "    <tr>\n",
       "      <th>21664</th>\n",
       "      <td>1002360103</td>\n",
       "      <td>AVLP464</td>\n",
       "    </tr>\n",
       "    <tr>\n",
       "      <th>21665</th>\n",
       "      <td>1001453586</td>\n",
       "      <td>KCa'b'-ap1</td>\n",
       "    </tr>\n",
       "  </tbody>\n",
       "</table>\n",
       "<p>21666 rows × 2 columns</p>\n",
       "</div>"
      ],
      "text/plain": [
       "           bodyid         name\n",
       "0       989228019         FB5V\n",
       "1       988909130         FB5V\n",
       "2       988852391      PAM08_a\n",
       "3       988632865       VES045\n",
       "4       988567837         FB4G\n",
       "...           ...          ...\n",
       "21661  1002507170         PFL1\n",
       "21662  1002507159          EPG\n",
       "21663  1002507131  PEN_a(PEN1)\n",
       "21664  1002360103      AVLP464\n",
       "21665  1001453586   KCa'b'-ap1\n",
       "\n",
       "[21666 rows x 2 columns]"
      ]
     },
     "execution_count": 14,
     "metadata": {},
     "output_type": "execute_result"
    }
   ],
   "source": [
    "selectedneurons"
   ]
  },
  {
   "cell_type": "code",
   "execution_count": null,
   "metadata": {},
   "outputs": [],
   "source": []
  },
  {
   "cell_type": "markdown",
   "metadata": {},
   "source": [
    "## Step 4: Select bodyids that will be fetched, and set host directory.."
   ]
  },
  {
   "cell_type": "code",
   "execution_count": 15,
   "metadata": {},
   "outputs": [],
   "source": [
    "numbodyids = 5000"
   ]
  },
  {
   "cell_type": "code",
   "execution_count": 16,
   "metadata": {},
   "outputs": [],
   "source": [
    "bodyids = selectedneurons.bodyid[0:numbodyids]\n",
    "bodyids = list(map(int, bodyids))"
   ]
  },
  {
   "cell_type": "code",
   "execution_count": 17,
   "metadata": {},
   "outputs": [
    {
     "name": "stdout",
     "output_type": "stream",
     "text": [
      "Total neurons that will be processed:  5000\n"
     ]
    }
   ],
   "source": [
    "print('Total neurons that will be processed: ', len(bodyids))"
   ]
  },
  {
   "cell_type": "code",
   "execution_count": null,
   "metadata": {},
   "outputs": [],
   "source": []
  },
  {
   "cell_type": "code",
   "execution_count": 18,
   "metadata": {},
   "outputs": [],
   "source": [
    "hostdirectory = '/Users/sri/Documents/dataset/hemibrain2flywire/'"
   ]
  },
  {
   "cell_type": "code",
   "execution_count": null,
   "metadata": {},
   "outputs": [],
   "source": []
  },
  {
   "cell_type": "markdown",
   "metadata": {},
   "source": [
    "## Step 5: Get stuff from `neuprint`, transform, precompute them.."
   ]
  },
  {
   "cell_type": "code",
   "execution_count": null,
   "metadata": {},
   "outputs": [],
   "source": []
  },
  {
   "cell_type": "code",
   "execution_count": 19,
   "metadata": {},
   "outputs": [
    {
     "name": "stdout",
     "output_type": "stream",
     "text": [
      "deleting.. /Users/sri/Documents/dataset/hemibrain2flywire/precomputed/\n"
     ]
    }
   ],
   "source": [
    "flush_precomputed(hostdirectory, '')"
   ]
  },
  {
   "cell_type": "code",
   "execution_count": null,
   "metadata": {},
   "outputs": [],
   "source": []
  },
  {
   "cell_type": "markdown",
   "metadata": {},
   "source": [
    "## skeleton part.."
   ]
  },
  {
   "cell_type": "code",
   "execution_count": 20,
   "metadata": {},
   "outputs": [],
   "source": [
    "flush_precomputed(hostdirectory, 'skeletons')"
   ]
  },
  {
   "cell_type": "code",
   "execution_count": 21,
   "metadata": {},
   "outputs": [],
   "source": [
    "nskelbatch = 25 #number of skeletons to process in one-go.."
   ]
  },
  {
   "cell_type": "code",
   "execution_count": null,
   "metadata": {},
   "outputs": [],
   "source": []
  },
  {
   "cell_type": "code",
   "execution_count": 22,
   "metadata": {},
   "outputs": [],
   "source": [
    "allskelseglist = []\n",
    "allskelsegnamelist = []"
   ]
  },
  {
   "cell_type": "code",
   "execution_count": 23,
   "metadata": {},
   "outputs": [],
   "source": [
    "def transform2flywireskeletons(bodyids):\n",
    "    neurons_df = neu.fetch_skeletons(bodyids, heal=1000, max_threads=nskelbatch, missing_swc='raise')\n",
    "    hemibrain_neurons=navis.xform_brain(neurons_df,source='JRCFIB2018Fraw', target='FLYWIRE',verbose=False)\n",
    "    #hemibrain_neurons=navis.xform_brain(neurons_df,source='JRCFIB2018Fraw', target='FAFB',verbose=False)\n",
    "    skelsource, skelseglist, skelsegnamelist = to_ngskeletons(hemibrain_neurons)\n",
    "    to_precomputedskels(skelsource, hostdirectory)\n",
    "    return skelseglist, skelsegnamelist "
   ]
  },
  {
   "cell_type": "code",
   "execution_count": 24,
   "metadata": {},
   "outputs": [],
   "source": [
    "splitlist = np.array_split(bodyids, len(bodyids)/nskelbatch)\n",
    "#len(np.concatenate(splitlist).ravel())"
   ]
  },
  {
   "cell_type": "code",
   "execution_count": 25,
   "metadata": {},
   "outputs": [],
   "source": [
    "skippedchunkids = []\n",
    "chunkidx = 0"
   ]
  },
  {
   "cell_type": "code",
   "execution_count": null,
   "metadata": {},
   "outputs": [],
   "source": []
  },
  {
   "cell_type": "code",
   "execution_count": 26,
   "metadata": {},
   "outputs": [
    {
     "data": {
      "application/vnd.jupyter.widget-view+json": {
       "model_id": "e5fd64b0f0c54cfab645c97a07a4f87e",
       "version_major": 2,
       "version_minor": 0
      },
      "text/plain": [
       "HBox(children=(HTML(value=''), FloatProgress(value=0.0, max=200.0), HTML(value='')))"
      ]
     },
     "metadata": {},
     "output_type": "display_data"
    },
    {
     "name": "stderr",
     "output_type": "stream",
     "text": [
      "/Users/sri/opt/anaconda3/lib/python3.8/site-packages/fafbseg/spine/base.py:303: UserWarning:\n",
      "\n",
      "1 points failed to transform.\n",
      "\n",
      "/Users/sri/opt/anaconda3/lib/python3.8/site-packages/fafbseg/spine/base.py:303: UserWarning:\n",
      "\n",
      "1 points failed to transform.\n",
      "\n",
      "/Users/sri/opt/anaconda3/lib/python3.8/site-packages/fafbseg/spine/base.py:303: UserWarning:\n",
      "\n",
      "1 points failed to transform.\n",
      "\n"
     ]
    },
    {
     "name": "stdout",
     "output_type": "stream",
     "text": [
      "\n"
     ]
    }
   ],
   "source": [
    "for chunkbodyids in tqdm(splitlist):\n",
    "    #print('processing: ', chunkbodyids)\n",
    "    #skelseglist, skelsegnamelist = transform2flywireskeletons(chunkbodyids)\n",
    "    skelseglist, skelsegnamelist = try_until(lambda : transform2flywireskeletons(chunkbodyids), 100, 5)\n",
    "    allskelseglist += skelseglist\n",
    "    allskelsegnamelist += skelsegnamelist"
   ]
  },
  {
   "cell_type": "code",
   "execution_count": null,
   "metadata": {},
   "outputs": [],
   "source": []
  },
  {
   "cell_type": "code",
   "execution_count": 27,
   "metadata": {},
   "outputs": [
    {
     "name": "stdout",
     "output_type": "stream",
     "text": [
      "Processed neuron skeletons are:  5000\n"
     ]
    }
   ],
   "source": [
    "print('Processed neuron skeletons are: ', len(allskelseglist))"
   ]
  },
  {
   "cell_type": "code",
   "execution_count": 28,
   "metadata": {},
   "outputs": [
    {
     "name": "stdout",
     "output_type": "stream",
     "text": [
      "creating: /Users/sri/Documents/dataset/hemibrain2flywire/precomputed/skeletons/seg_props\n"
     ]
    }
   ],
   "source": [
    "to_precomputedskelsinfo(allskelseglist, allskelsegnamelist, hostdirectory)"
   ]
  },
  {
   "cell_type": "code",
   "execution_count": null,
   "metadata": {},
   "outputs": [],
   "source": []
  },
  {
   "cell_type": "markdown",
   "metadata": {},
   "source": [
    "## neuronmesh part.."
   ]
  },
  {
   "cell_type": "code",
   "execution_count": 29,
   "metadata": {},
   "outputs": [],
   "source": [
    "flush_precomputed(hostdirectory, 'neuronmeshes')"
   ]
  },
  {
   "cell_type": "code",
   "execution_count": 30,
   "metadata": {},
   "outputs": [],
   "source": [
    "neuronmeshbatch = 10 #number of neuron meshes to process in one-go.."
   ]
  },
  {
   "cell_type": "code",
   "execution_count": null,
   "metadata": {},
   "outputs": [],
   "source": []
  },
  {
   "cell_type": "code",
   "execution_count": 31,
   "metadata": {},
   "outputs": [],
   "source": [
    "allvolumeidlist = []\n",
    "allvolumenamelist = []"
   ]
  },
  {
   "cell_type": "code",
   "execution_count": 32,
   "metadata": {},
   "outputs": [],
   "source": [
    "def transform2flywiremeshes(bodyids):\n",
    "    neuronmeshes_df = neu.fetch_mesh_neuron(bodyids, lod=2, with_synapses=False)\n",
    "    hemibrainneuronmeshes_df = navis.xform_brain(neuronmeshes_df,source='JRCFIB2018Fraw', target='FLYWIRE',verbose=False)\n",
    "    #hemibrainneuronmeshes_df = navis.xform_brain(neuronmeshes_df,source='JRCFIB2018Fraw', target='FAFB',verbose=False)\n",
    "    volumedatasource, volumeidlist, volumenamelist = to_ngmesh(hemibrainneuronmeshes_df)\n",
    "    to_precomputedsingleresmeshes(volumedatasource, hostdirectory, 'neuronmeshes')\n",
    "    return volumeidlist, volumenamelist "
   ]
  },
  {
   "cell_type": "code",
   "execution_count": 33,
   "metadata": {},
   "outputs": [],
   "source": [
    "splitlist = np.array_split(bodyids, len(bodyids)/neuronmeshbatch)\n",
    "#len(np.concatenate(splitlist).ravel())"
   ]
  },
  {
   "cell_type": "code",
   "execution_count": 34,
   "metadata": {},
   "outputs": [
    {
     "data": {
      "application/vnd.jupyter.widget-view+json": {
       "model_id": "f4c9710061c546b1bd921747bffefa63",
       "version_major": 2,
       "version_minor": 0
      },
      "text/plain": [
       "HBox(children=(HTML(value=''), FloatProgress(value=0.0, max=500.0), HTML(value='')))"
      ]
     },
     "metadata": {},
     "output_type": "display_data"
    },
    {
     "name": "stderr",
     "output_type": "stream",
     "text": [
      "/Users/sri/opt/anaconda3/lib/python3.8/site-packages/fafbseg/spine/base.py:303: UserWarning:\n",
      "\n",
      "1 points failed to transform.\n",
      "\n"
     ]
    },
    {
     "name": "stdout",
     "output_type": "stream",
     "text": [
      "\n"
     ]
    }
   ],
   "source": [
    "for chunkbodyids in tqdm(splitlist):\n",
    "    #print('processing: ', chunkbodyids)\n",
    "    #volumeidlist, volumenamelist = transform2flywiremeshes(chunkbodyids)\n",
    "    volumeidlist, volumenamelist = try_until(lambda : transform2flywiremeshes(chunkbodyids), 100, 5)\n",
    "    allvolumeidlist += volumeidlist\n",
    "    allvolumenamelist += volumenamelist"
   ]
  },
  {
   "cell_type": "code",
   "execution_count": null,
   "metadata": {},
   "outputs": [],
   "source": []
  },
  {
   "cell_type": "code",
   "execution_count": 35,
   "metadata": {},
   "outputs": [
    {
     "name": "stdout",
     "output_type": "stream",
     "text": [
      "Processed neuron meshes are:  5000\n"
     ]
    }
   ],
   "source": [
    "print('Processed neuron meshes are: ', len(allvolumeidlist))"
   ]
  },
  {
   "cell_type": "code",
   "execution_count": null,
   "metadata": {},
   "outputs": [],
   "source": []
  },
  {
   "cell_type": "code",
   "execution_count": 36,
   "metadata": {},
   "outputs": [
    {
     "name": "stdout",
     "output_type": "stream",
     "text": [
      "creating: /Users/sri/Documents/dataset/hemibrain2flywire/precomputed/neuronmeshes/mesh/segment_properties\n",
      "creating: /Users/sri/Documents/dataset/hemibrain2flywire/precomputed/neuronmeshes/mesh/segment_names\n"
     ]
    }
   ],
   "source": [
    "to_precomputedsingleresmeshesinfo(allvolumeidlist, allvolumenamelist, hostdirectory, 'neuronmeshes')"
   ]
  },
  {
   "cell_type": "code",
   "execution_count": null,
   "metadata": {},
   "outputs": [],
   "source": []
  },
  {
   "cell_type": "code",
   "execution_count": null,
   "metadata": {},
   "outputs": [],
   "source": []
  },
  {
   "cell_type": "code",
   "execution_count": null,
   "metadata": {},
   "outputs": [],
   "source": []
  }
 ],
 "metadata": {
  "kernelspec": {
   "display_name": "Python 3",
   "language": "python",
   "name": "python3"
  },
  "language_info": {
   "codemirror_mode": {
    "name": "ipython",
    "version": 3
   },
   "file_extension": ".py",
   "mimetype": "text/x-python",
   "name": "python",
   "nbconvert_exporter": "python",
   "pygments_lexer": "ipython3",
   "version": "3.8.5"
  }
 },
 "nbformat": 4,
 "nbformat_minor": 2
}
