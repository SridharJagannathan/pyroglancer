{
 "cells": [
  {
   "cell_type": "markdown",
   "metadata": {},
   "source": [
    "# Illustrating of unit examples for different plotting.."
   ]
  },
  {
   "cell_type": "markdown",
   "metadata": {},
   "source": [
    "## Step 1: Import neccesary library modules now"
   ]
  },
  {
   "cell_type": "code",
   "execution_count": 1,
   "metadata": {},
   "outputs": [
    {
     "name": "stderr",
     "output_type": "stream",
     "text": [
      "WARNING: Could not load OpenGL library.\n"
     ]
    }
   ],
   "source": [
    "import navis\n",
    "import fafbseg\n",
    "import pymaid"
   ]
  },
  {
   "cell_type": "code",
   "execution_count": 2,
   "metadata": {},
   "outputs": [],
   "source": [
    "import pandas as pd\n",
    "import numpy as np\n",
    "import os\n",
    "from copy import deepcopy\n",
    "import glob"
   ]
  },
  {
   "cell_type": "code",
   "execution_count": 3,
   "metadata": {},
   "outputs": [],
   "source": [
    "from pyroglancer.flywire import flywireurl2dict, add_flywirelayer"
   ]
  },
  {
   "cell_type": "markdown",
   "metadata": {},
   "source": [
    "## Example 1: Display neurons as annotations in flywire.. (useful for sharing short urls)"
   ]
  },
  {
   "cell_type": "code",
   "execution_count": 4,
   "metadata": {},
   "outputs": [
    {
     "data": {
      "text/plain": [
       "'/Users/sri/Documents/Python/pyroglancer/pyroglancer'"
      ]
     },
     "execution_count": 4,
     "metadata": {},
     "output_type": "execute_result"
    }
   ],
   "source": [
    "BASE_DIR = os.path.dirname(os.path.dirname(os.path.realpath(\"__file__\")))\n",
    "BASE_DIR"
   ]
  },
  {
   "cell_type": "code",
   "execution_count": 5,
   "metadata": {},
   "outputs": [],
   "source": [
    "swc_path = os.path.join(BASE_DIR, 'data/swc')\n",
    "swc_files = glob.glob(os.path.join(swc_path, '57*.swc'))"
   ]
  },
  {
   "cell_type": "code",
   "execution_count": 6,
   "metadata": {},
   "outputs": [],
   "source": [
    "neuronlist = []\n",
    "neuronlist += [navis.read_swc(f, units='8 nm', connector_labels={'presynapse': 7, 'postsynapse': 8},\n",
    "                              id=int(os.path.splitext(os.path.basename(f))[0])) for f in swc_files]\n",
    "neuronlist = navis.core.NeuronList(neuronlist)"
   ]
  },
  {
   "cell_type": "code",
   "execution_count": 7,
   "metadata": {},
   "outputs": [
    {
     "data": {
      "text/html": [
       "<div>\n",
       "<style scoped>\n",
       "    .dataframe tbody tr th:only-of-type {\n",
       "        vertical-align: middle;\n",
       "    }\n",
       "\n",
       "    .dataframe tbody tr th {\n",
       "        vertical-align: top;\n",
       "    }\n",
       "\n",
       "    .dataframe thead th {\n",
       "        text-align: right;\n",
       "    }\n",
       "</style>\n",
       "<table border=\"1\" class=\"dataframe\">\n",
       "  <thead>\n",
       "    <tr style=\"text-align: right;\">\n",
       "      <th></th>\n",
       "      <th>type</th>\n",
       "      <th>name</th>\n",
       "      <th>id</th>\n",
       "      <th>n_nodes</th>\n",
       "      <th>n_connectors</th>\n",
       "      <th>n_branches</th>\n",
       "      <th>n_leafs</th>\n",
       "      <th>cable_length</th>\n",
       "      <th>soma</th>\n",
       "      <th>units</th>\n",
       "    </tr>\n",
       "  </thead>\n",
       "  <tbody>\n",
       "    <tr>\n",
       "      <th>0</th>\n",
       "      <td>navis.TreeNeuron</td>\n",
       "      <td>57323</td>\n",
       "      <td>57323</td>\n",
       "      <td>6223</td>\n",
       "      <td>414</td>\n",
       "      <td>256</td>\n",
       "      <td>268</td>\n",
       "      <td>1.483462e+06</td>\n",
       "      <td>[2579]</td>\n",
       "      <td>8 nanometer</td>\n",
       "    </tr>\n",
       "    <tr>\n",
       "      <th>1</th>\n",
       "      <td>navis.TreeNeuron</td>\n",
       "      <td>57311</td>\n",
       "      <td>57311</td>\n",
       "      <td>5543</td>\n",
       "      <td>398</td>\n",
       "      <td>211</td>\n",
       "      <td>219</td>\n",
       "      <td>1.364103e+06</td>\n",
       "      <td>[3187]</td>\n",
       "      <td>8 nanometer</td>\n",
       "    </tr>\n",
       "  </tbody>\n",
       "</table>\n",
       "</div>"
      ],
      "text/plain": [
       "<class 'navis.core.neuronlist.NeuronList'> of 2 neurons\n",
       "                type   name     id  n_nodes  n_connectors  n_branches  n_leafs  \\\n",
       "0  navis.TreeNeuron  57323  57323     6223           414         256      268   \n",
       "1  navis.TreeNeuron  57311  57311     5543           398         211      219   \n",
       "\n",
       "   cable_length    soma        units  \n",
       "0  1.483462e+06  [2579]  8 nanometer  \n",
       "1  1.364103e+06  [3187]  8 nanometer  "
      ]
     },
     "execution_count": 7,
     "metadata": {},
     "output_type": "execute_result"
    }
   ],
   "source": [
    "neuronlist"
   ]
  },
  {
   "cell_type": "code",
   "execution_count": 8,
   "metadata": {},
   "outputs": [
    {
     "name": "stdout",
     "output_type": "stream",
     "text": [
      "Transform path: FAFB14 -> FAFB14raw -> FLYWIREraw -> FLYWIRE\n"
     ]
    },
    {
     "data": {
      "application/vnd.jupyter.widget-view+json": {
       "model_id": "",
       "version_major": 2,
       "version_minor": 0
      },
      "text/plain": [
       "HBox(children=(HTML(value='Xforming'), FloatProgress(value=0.0, max=2.0), HTML(value='')))"
      ]
     },
     "metadata": {},
     "output_type": "display_data"
    }
   ],
   "source": [
    "flywire_neuron = navis.xform_brain(neuronlist, source='FAFB14', target='FLYWIRE')"
   ]
  },
  {
   "cell_type": "code",
   "execution_count": 9,
   "metadata": {},
   "outputs": [
    {
     "data": {
      "application/vnd.jupyter.widget-view+json": {
       "model_id": "",
       "version_major": 2,
       "version_minor": 0
      },
      "text/plain": [
       "HBox(children=(HTML(value='Resampl. neurons'), FloatProgress(value=0.0, max=2.0), HTML(value='')))"
      ]
     },
     "metadata": {},
     "output_type": "display_data"
    }
   ],
   "source": [
    "#resample the neurons otherwise large annotations will slow down the interface..\n",
    "flywire_neuron = navis.resample_neuron(flywire_neuron, resample_to=1000*8, inplace=False)"
   ]
  },
  {
   "cell_type": "code",
   "execution_count": 10,
   "metadata": {},
   "outputs": [],
   "source": [
    "#this url also has the relevant segments for the neurons..\n",
    "shorturl = 'https://ngl.flywire.ai/?json_url=https://globalv1.flywire-daf.com/nglstate/5692426366746624'\n",
    "ngdict = flywireurl2dict(shorturl)"
   ]
  },
  {
   "cell_type": "code",
   "execution_count": 11,
   "metadata": {},
   "outputs": [],
   "source": [
    "layer_kws = {'type': 'skeletons', 'source': flywire_neuron, 'annotationstatetype': 'in-json',\n",
    "             'color': 'white',\n",
    "             'scale': [4,4,40] #scale the voxel to physical coords\n",
    "            }"
   ]
  },
  {
   "cell_type": "code",
   "execution_count": 12,
   "metadata": {},
   "outputs": [
    {
     "name": "stdout",
     "output_type": "stream",
     "text": [
      "using  voxel space with scale:  [4, 4, 40]\n",
      "color is: ['#ffffff']\n",
      "color is: ['#ffffff']\n",
      "flywire url at: https://ngl.flywire.ai/?json_url=https://globalv1.flywire-daf.com/nglstate/6317946662027264\n"
     ]
    }
   ],
   "source": [
    "flywireurl = add_flywirelayer(ngdict, layer_kws)"
   ]
  },
  {
   "cell_type": "markdown",
   "metadata": {},
   "source": [
    "## Example 2: Add corresponding synapses as annotations in flywire.."
   ]
  },
  {
   "cell_type": "code",
   "execution_count": 13,
   "metadata": {},
   "outputs": [],
   "source": [
    "ngdict = flywireurl2dict(flywireurl)"
   ]
  },
  {
   "cell_type": "code",
   "execution_count": 14,
   "metadata": {},
   "outputs": [],
   "source": [
    "layer_kws = {'type': 'synapses', 'source': flywire_neuron, 'annotationstatetype': 'in-json',\n",
    "             'color': ['red', 'blue'],\n",
    "             'scale': [4,4,40] #scale the voxel to physical coords\n",
    "            }"
   ]
  },
  {
   "cell_type": "code",
   "execution_count": 15,
   "metadata": {},
   "outputs": [
    {
     "name": "stdout",
     "output_type": "stream",
     "text": [
      "using  voxel space with scale:  [4, 4, 40]\n",
      "flywire url at: https://ngl.flywire.ai/?json_url=https://globalv1.flywire-daf.com/nglstate/6239343475687424\n"
     ]
    }
   ],
   "source": [
    "flywireurl = add_flywirelayer(ngdict, layer_kws)"
   ]
  },
  {
   "cell_type": "code",
   "execution_count": null,
   "metadata": {},
   "outputs": [],
   "source": []
  }
 ],
 "metadata": {
  "kernelspec": {
   "display_name": "Python 3",
   "language": "python",
   "name": "python3"
  },
  "language_info": {
   "codemirror_mode": {
    "name": "ipython",
    "version": 3
   },
   "file_extension": ".py",
   "mimetype": "text/x-python",
   "name": "python",
   "nbconvert_exporter": "python",
   "pygments_lexer": "ipython3",
   "version": "3.8.5"
  }
 },
 "nbformat": 4,
 "nbformat_minor": 4
}
