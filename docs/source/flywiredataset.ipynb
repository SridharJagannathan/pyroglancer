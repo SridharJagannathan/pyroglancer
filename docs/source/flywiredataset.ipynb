{
 "cells": [
  {
   "cell_type": "markdown",
   "metadata": {},
   "source": [
    "# Example notebook illustrating co-plotting with flywire dataset"
   ]
  },
  {
   "cell_type": "markdown",
   "metadata": {},
   "source": [
    "## Step 1: Import neccesary library modules now"
   ]
  },
  {
   "cell_type": "code",
   "execution_count": 1,
   "metadata": {},
   "outputs": [
    {
     "data": {
      "text/html": [
       "        <script type=\"text/javascript\">\n",
       "        window.PlotlyConfig = {MathJaxConfig: 'local'};\n",
       "        if (window.MathJax) {MathJax.Hub.Config({SVG: {font: \"STIX-Web\"}});}\n",
       "        if (typeof require !== 'undefined') {\n",
       "        require.undef(\"plotly\");\n",
       "        requirejs.config({\n",
       "            paths: {\n",
       "                'plotly': ['https://cdn.plot.ly/plotly-latest.min']\n",
       "            }\n",
       "        });\n",
       "        require(['plotly'], function(Plotly) {\n",
       "            window._Plotly = Plotly;\n",
       "        });\n",
       "        }\n",
       "        </script>\n",
       "        "
      ]
     },
     "metadata": {},
     "output_type": "display_data"
    }
   ],
   "source": [
    "import navis\n",
    "import fafbseg\n",
    "import pymaid"
   ]
  },
  {
   "cell_type": "code",
   "execution_count": 2,
   "metadata": {},
   "outputs": [],
   "source": [
    "import pandas as pd\n",
    "import numpy as np\n",
    "import os\n",
    "from copy import deepcopy"
   ]
  },
  {
   "cell_type": "code",
   "execution_count": 3,
   "metadata": {},
   "outputs": [],
   "source": [
    "from pyroglancer.localserver import startdataserver, closedataserver\n",
    "from pyroglancer.flywire import flywireurl2dict, add_flywirelayer"
   ]
  },
  {
   "cell_type": "markdown",
   "metadata": {},
   "source": [
    "## Step 2: Set configurations to fetch from data from `CATMAID`"
   ]
  },
  {
   "cell_type": "code",
   "execution_count": 4,
   "metadata": {},
   "outputs": [
    {
     "name": "stderr",
     "output_type": "stream",
     "text": [
      "INFO  : Global CATMAID instance set. Caching is ON. (pymaid)\n"
     ]
    }
   ],
   "source": [
    "working_rm = pymaid.CatmaidInstance('https://neuropil.janelia.org/tracing/fafb/v14',\n",
    "                            api_token=os.environ['TOKEN'],\n",
    "                            http_user=os.environ['authname'], # omit if not required\n",
    "                            http_password=os.environ['authpassword'], project_id = 1) # omit if not required"
   ]
  },
  {
   "cell_type": "markdown",
   "metadata": {},
   "source": [
    "## Step 3: Get sample skids and neuropil meshes from `CATMAID`"
   ]
  },
  {
   "cell_type": "code",
   "execution_count": 5,
   "metadata": {},
   "outputs": [],
   "source": [
    "sample_skids = ['40637','27295','57311','2863104','57323']"
   ]
  },
  {
   "cell_type": "code",
   "execution_count": 6,
   "metadata": {},
   "outputs": [
    {
     "data": {
      "application/vnd.jupyter.widget-view+json": {
       "model_id": "",
       "version_major": 2,
       "version_minor": 0
      },
      "text/plain": [
       "HBox(children=(HTML(value='Fetch neurons'), FloatProgress(value=0.0, max=5.0), HTML(value='')))"
      ]
     },
     "metadata": {},
     "output_type": "display_data"
    },
    {
     "data": {
      "application/vnd.jupyter.widget-view+json": {
       "model_id": "",
       "version_major": 2,
       "version_minor": 0
      },
      "text/plain": [
       "HBox(children=(HTML(value='Make nrn'), FloatProgress(value=0.0, max=5.0), HTML(value='')))"
      ]
     },
     "metadata": {},
     "output_type": "display_data"
    }
   ],
   "source": [
    "catmiad_neuronlist=pymaid.get_neurons(sample_skids,remote_instance = working_rm)"
   ]
  },
  {
   "cell_type": "code",
   "execution_count": 7,
   "metadata": {},
   "outputs": [
    {
     "data": {
      "application/vnd.jupyter.widget-view+json": {
       "model_id": "",
       "version_major": 2,
       "version_minor": 0
      },
      "text/plain": [
       "HBox(children=(HTML(value='Volumes'), FloatProgress(value=0.0, max=2.0), HTML(value='')))"
      ]
     },
     "metadata": {},
     "output_type": "display_data"
    }
   ],
   "source": [
    "vols = pymaid.get_volume(['v14.neuropil', 'AL_R'], color=(255, 0, 0, .2))"
   ]
  },
  {
   "cell_type": "markdown",
   "metadata": {},
   "source": [
    "## Step 4: Transform them to Flywire space.."
   ]
  },
  {
   "cell_type": "code",
   "execution_count": 8,
   "metadata": {},
   "outputs": [
    {
     "name": "stdout",
     "output_type": "stream",
     "text": [
      "Transform path: FAFB14->FAFB14raw->FLYWIREraw->FLYWIRE\n"
     ]
    },
    {
     "data": {
      "application/vnd.jupyter.widget-view+json": {
       "model_id": "",
       "version_major": 2,
       "version_minor": 0
      },
      "text/plain": [
       "HBox(children=(HTML(value='Xforming'), FloatProgress(value=0.0, max=5.0), HTML(value='')))"
      ]
     },
     "metadata": {},
     "output_type": "display_data"
    }
   ],
   "source": [
    "flywire_neuron=navis.xform_brain(catmiad_neuronlist,source='FAFB14', target='FLYWIRE')"
   ]
  },
  {
   "cell_type": "code",
   "execution_count": 9,
   "metadata": {},
   "outputs": [
    {
     "name": "stdout",
     "output_type": "stream",
     "text": [
      "Transform path: FAFB14->FAFB14raw->FLYWIREraw->FLYWIRE\n",
      "Transform path: FAFB14->FAFB14raw->FLYWIREraw->FLYWIRE\n"
     ]
    }
   ],
   "source": [
    "flywirevol = {}\n",
    "flywirevol['v14.neuropil']=navis.xform_brain(vols['v14.neuropil'],source='FAFB14', target='FLYWIRE')\n",
    "flywirevol['AL_R']=navis.xform_brain(vols['AL_R'],source='FAFB14', target='FLYWIRE')"
   ]
  },
  {
   "cell_type": "code",
   "execution_count": 10,
   "metadata": {},
   "outputs": [
    {
     "data": {
      "text/plain": [
       "{'v14.neuropil': <navis.Volume(name=None, id=200, color=(0.85, 0.85, 0.85, 0.2), vertices.shape=(8997, 3), faces.shape=(18000, 3))>,\n",
       " 'AL_R': <navis.Volume(name=None, id=300, color=(0.85, 0.85, 0.85, 0.2), vertices.shape=(622, 3), faces.shape=(1240, 3))>}"
      ]
     },
     "execution_count": 10,
     "metadata": {},
     "output_type": "execute_result"
    }
   ],
   "source": [
    "flywirevol['v14.neuropil'].id = 200\n",
    "flywirevol['AL_R'].id = 300\n",
    "flywirevol"
   ]
  },
  {
   "cell_type": "markdown",
   "metadata": {},
   "source": [
    "## Step 5: Start the dataserver to host precomputed data.."
   ]
  },
  {
   "cell_type": "code",
   "execution_count": 11,
   "metadata": {},
   "outputs": [
    {
     "name": "stdout",
     "output_type": "stream",
     "text": [
      "Serving data from:  /var/folders/6x/d_rd5yr937vbq8f46d4yzrsw0000gn/T/tmpuh6d03a7\n",
      "Serving directory at http://127.0.0.1:8000\n"
     ]
    }
   ],
   "source": [
    "startdataserver()"
   ]
  },
  {
   "cell_type": "markdown",
   "metadata": {},
   "source": [
    "## Step 6: Get the url from flywire to append data onto.."
   ]
  },
  {
   "cell_type": "code",
   "execution_count": 12,
   "metadata": {},
   "outputs": [],
   "source": [
    "shorturl = 'https://ngl.flywire.ai/?json_url=https://globalv1.flywire-daf.com/nglstate/5571829238333440'"
   ]
  },
  {
   "cell_type": "markdown",
   "metadata": {},
   "source": [
    "## Step 7: Add skids to flywire layers.."
   ]
  },
  {
   "cell_type": "code",
   "execution_count": 13,
   "metadata": {},
   "outputs": [
    {
     "name": "stdout",
     "output_type": "stream",
     "text": [
      "/private/var/folders/6x/d_rd5yr937vbq8f46d4yzrsw0000gn/T/tmpuh6d03a7/precomputed/skeletons/40637\n",
      "/private/var/folders/6x/d_rd5yr937vbq8f46d4yzrsw0000gn/T/tmpuh6d03a7/precomputed/skeletons/27295\n",
      "/private/var/folders/6x/d_rd5yr937vbq8f46d4yzrsw0000gn/T/tmpuh6d03a7/precomputed/skeletons/57311\n",
      "/private/var/folders/6x/d_rd5yr937vbq8f46d4yzrsw0000gn/T/tmpuh6d03a7/precomputed/skeletons/2863104\n",
      "/private/var/folders/6x/d_rd5yr937vbq8f46d4yzrsw0000gn/T/tmpuh6d03a7/precomputed/skeletons/57323\n",
      "creating: /private/var/folders/6x/d_rd5yr937vbq8f46d4yzrsw0000gn/T/tmpuh6d03a7/precomputed/skeletons/seg_props\n",
      "flywire url at: https://ngl.flywire.ai/?json_url=https://globalv1.flywire-daf.com/nglstate/5675281394171904\n"
     ]
    }
   ],
   "source": [
    "tmpviewer = add_flywirelayer(flywireurl2dict(shorturl), layer_kws = {'type': 'skeletons','source': flywire_neuron})"
   ]
  },
  {
   "cell_type": "markdown",
   "metadata": {},
   "source": [
    "## Step 8: Add neuropil meshes to flywire layers"
   ]
  },
  {
   "cell_type": "code",
   "execution_count": 14,
   "metadata": {},
   "outputs": [],
   "source": [
    "shorturl = tmpviewer"
   ]
  },
  {
   "cell_type": "code",
   "execution_count": 15,
   "metadata": {},
   "outputs": [
    {
     "name": "stdout",
     "output_type": "stream",
     "text": [
      "mesh/200\n",
      "Seg id is: 200\n",
      "Full filepath: /private/var/folders/6x/d_rd5yr937vbq8f46d4yzrsw0000gn/T/tmpuh6d03a7/precomputed/volumes/mesh/200\n",
      "mesh/300\n",
      "Seg id is: 300\n",
      "Full filepath: /private/var/folders/6x/d_rd5yr937vbq8f46d4yzrsw0000gn/T/tmpuh6d03a7/precomputed/volumes/mesh/300\n",
      "creating: /private/var/folders/6x/d_rd5yr937vbq8f46d4yzrsw0000gn/T/tmpuh6d03a7/precomputed/volumes/mesh/segment_properties\n",
      "creating: /private/var/folders/6x/d_rd5yr937vbq8f46d4yzrsw0000gn/T/tmpuh6d03a7/precomputed/volumes/mesh/segment_names\n",
      "flywire url at: https://ngl.flywire.ai/?json_url=https://globalv1.flywire-daf.com/nglstate/5663348414742528\n"
     ]
    },
    {
     "name": "stderr",
     "output_type": "stream",
     "text": [
      "127.0.0.1 - - [03/Feb/2021 09:56:42] \"GET /precomputed/skeletons/info HTTP/1.1\" 200 -\n",
      "127.0.0.1 - - [03/Feb/2021 09:56:42] \"GET /precomputed/volumes/mesh/info HTTP/1.1\" 200 -\n",
      "127.0.0.1 - - [03/Feb/2021 09:56:43] \"GET /precomputed/skeletons/57311 HTTP/1.1\" 200 -\n",
      "127.0.0.1 - - [03/Feb/2021 09:56:43] \"GET /precomputed/skeletons/27295 HTTP/1.1\" 200 -\n",
      "127.0.0.1 - - [03/Feb/2021 09:56:43] \"GET /precomputed/skeletons/2863104 HTTP/1.1\" 200 -\n",
      "127.0.0.1 - - [03/Feb/2021 09:56:43] \"GET /precomputed/skeletons/40637 HTTP/1.1\" 200 -\n",
      "127.0.0.1 - - [03/Feb/2021 09:56:43] \"GET /precomputed/volumes/mesh/300:0 HTTP/1.1\" 200 -\n",
      "127.0.0.1 - - [03/Feb/2021 09:56:43] \"GET /precomputed/skeletons/57323 HTTP/1.1\" 200 -\n",
      "127.0.0.1 - - [03/Feb/2021 09:56:43] \"GET /precomputed/volumes/mesh/200:0 HTTP/1.1\" 200 -\n",
      "127.0.0.1 - - [03/Feb/2021 09:56:43] \"GET /precomputed/volumes/mesh/300 HTTP/1.1\" 200 -\n",
      "127.0.0.1 - - [03/Feb/2021 09:56:43] \"GET /precomputed/volumes/mesh/200 HTTP/1.1\" 200 -\n"
     ]
    }
   ],
   "source": [
    "tmpviewer = add_flywirelayer(flywireurl2dict(shorturl), layer_kws = {'type': 'volumes','source': [flywirevol['v14.neuropil'],\n",
    "                                                                               flywirevol['AL_R']]})"
   ]
  },
  {
   "cell_type": "code",
   "execution_count": null,
   "metadata": {},
   "outputs": [],
   "source": []
  },
  {
   "cell_type": "markdown",
   "metadata": {},
   "source": [
    "## Step 9: Add synapses and other annotations to flywire layers (not yet working)"
   ]
  },
  {
   "cell_type": "code",
   "execution_count": null,
   "metadata": {},
   "outputs": [],
   "source": [
    "ngdict = flywireurl2dict(shorturl)"
   ]
  },
  {
   "cell_type": "code",
   "execution_count": null,
   "metadata": {},
   "outputs": [],
   "source": [
    "tmpviewer = add_flywirelayer(ngdict, layer_kws = {'type': 'synapses','source': flywire_neuron,\n",
    "                                                 'ngspace': 'Flywire'})"
   ]
  },
  {
   "cell_type": "code",
   "execution_count": null,
   "metadata": {},
   "outputs": [],
   "source": []
  },
  {
   "cell_type": "code",
   "execution_count": null,
   "metadata": {},
   "outputs": [],
   "source": [
    "temp_pts = pd.DataFrame([[123072, 47001, 3375]],columns=['x','y','z'])\n",
    "temp_pts = pd.DataFrame([[123072, 47001, 3375], [120000, 17001, 3000]], columns=['x', 'y', 'z'])\n",
    "temp_pts['description'] = ['center_pt','above_pt']"
   ]
  },
  {
   "cell_type": "code",
   "execution_count": null,
   "metadata": {},
   "outputs": [],
   "source": [
    "#plot landmarks..\n",
    "tmpviewer = add_flywirelayer(ngdict, layer_kws = {'type': 'points','name': 'landmarks',\n",
    "                                                  'ngspace': 'Flywire',\n",
    "                                                  'source': temp_pts,'color': 'red'})"
   ]
  },
  {
   "cell_type": "code",
   "execution_count": null,
   "metadata": {},
   "outputs": [],
   "source": [
    "tmpviewer"
   ]
  },
  {
   "cell_type": "code",
   "execution_count": null,
   "metadata": {},
   "outputs": [],
   "source": []
  },
  {
   "cell_type": "markdown",
   "metadata": {},
   "source": [
    "## Step 10: Close the dataserver"
   ]
  },
  {
   "cell_type": "code",
   "execution_count": null,
   "metadata": {},
   "outputs": [],
   "source": [
    "closedataserver()"
   ]
  },
  {
   "cell_type": "code",
   "execution_count": null,
   "metadata": {},
   "outputs": [],
   "source": []
  }
 ],
 "metadata": {
  "kernelspec": {
   "display_name": "Python 3",
   "language": "python",
   "name": "python3"
  },
  "language_info": {
   "codemirror_mode": {
    "name": "ipython",
    "version": 3
   },
   "file_extension": ".py",
   "mimetype": "text/x-python",
   "name": "python",
   "nbconvert_exporter": "python",
   "pygments_lexer": "ipython3",
   "version": "3.7.3"
  }
 },
 "nbformat": 4,
 "nbformat_minor": 2
}
