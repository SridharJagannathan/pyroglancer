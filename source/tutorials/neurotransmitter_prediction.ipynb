{
 "cells": [
  {
   "cell_type": "markdown",
   "metadata": {},
   "source": [
    "# Co-plotting hemibrain skeleton with flywire dataset for predicting neurotransmitters of typed hemibrain neurons"
   ]
  },
  {
   "cell_type": "markdown",
   "metadata": {},
   "source": [
    "### This section contains example of fetching skeleton from hemibrain dataset and co-plotting with a flywire instance"
   ]
  },
  {
   "cell_type": "markdown",
   "metadata": {},
   "source": [
    "### Import neccesary library modules now"
   ]
  },
  {
   "cell_type": "code",
   "execution_count": 1,
   "metadata": {},
   "outputs": [],
   "source": [
    "import navis\n",
    "import fafbseg\n",
    "import flybrains"
   ]
  },
  {
   "cell_type": "code",
   "execution_count": 2,
   "metadata": {},
   "outputs": [],
   "source": [
    "from pyroglancer.localserver import startdataserver, closedataserver\n",
    "from pyroglancer.flywire import flywireurl2dict, add_flywirelayer, set_flywireviewerstate"
   ]
  },
  {
   "cell_type": "code",
   "execution_count": 3,
   "metadata": {},
   "outputs": [],
   "source": [
    "import navis.interfaces.neuprint as neu\n",
    "from navis.interfaces.neuprint import NeuronCriteria as NC, SynapseCriteria as SC"
   ]
  },
  {
   "cell_type": "code",
   "execution_count": 4,
   "metadata": {},
   "outputs": [],
   "source": [
    "import matplotlib.pyplot as plt\n",
    "#font = {'family': 'serif', 'serif': ['Palatino']}\n",
    "#font = {'family': 'serif', 'serif': ['Helvetica']}\n",
    "#plt.rc('font', **font)\n",
    "#plt.rc('text', usetex=False)\n",
    "\n",
    "# This makes it so the PDF export works\n",
    "import matplotlib as mpl\n",
    "mpl.rcParams['pdf.use14corefonts']=True\n",
    "mpl.rcParams['font.sans-serif'] = ['Helvetica',\n",
    "                                   'DejaVu Sans',\n",
    "                                   'Bitstream Vera Sans',\n",
    "                                   'Computer Modern Sans Serif',\n",
    "                                   'Lucida Grande',\n",
    "                                   'Verdana',\n",
    "                                   'Geneva',\n",
    "                                   'Lucid',\n",
    "                                   'Arial',                                          \n",
    "                                   'Avant Garde',\n",
    "                                   'sans-serif']\n",
    "mpl.rcParams['font.size'] = 11"
   ]
  },
  {
   "cell_type": "markdown",
   "metadata": {},
   "source": [
    "### Set configurations to fetch from data from neuprint"
   ]
  },
  {
   "cell_type": "code",
   "execution_count": 5,
   "metadata": {},
   "outputs": [],
   "source": [
    "client = neu.Client('https://neuprint.janelia.org/', dataset='hemibrain:v1.2.1')"
   ]
  },
  {
   "cell_type": "code",
   "execution_count": 6,
   "metadata": {},
   "outputs": [
    {
     "data": {
      "text/plain": [
       "Client(\"https://neuprint.janelia.org\", \"hemibrain:v1.2.1\")"
      ]
     },
     "execution_count": 6,
     "metadata": {},
     "output_type": "execute_result"
    }
   ],
   "source": [
    "client"
   ]
  },
  {
   "cell_type": "markdown",
   "metadata": {},
   "source": [
    "### Get some typed neurons and neuropil meshes from neuprint"
   ]
  },
  {
   "cell_type": "code",
   "execution_count": 7,
   "metadata": {},
   "outputs": [],
   "source": [
    "neurons_df, roi_counts_df = neu.fetch_neurons(NC(status='Traced',type='ER5',regex=True)) #get some ER5 neurons.."
   ]
  },
  {
   "cell_type": "code",
   "execution_count": 8,
   "metadata": {},
   "outputs": [],
   "source": [
    "er5bodyidList = neurons_df[['bodyId']]"
   ]
  },
  {
   "cell_type": "code",
   "execution_count": 9,
   "metadata": {},
   "outputs": [
    {
     "data": {
      "text/html": [
       "<div>\n",
       "<style scoped>\n",
       "    .dataframe tbody tr th:only-of-type {\n",
       "        vertical-align: middle;\n",
       "    }\n",
       "\n",
       "    .dataframe tbody tr th {\n",
       "        vertical-align: top;\n",
       "    }\n",
       "\n",
       "    .dataframe thead th {\n",
       "        text-align: right;\n",
       "    }\n",
       "</style>\n",
       "<table border=\"1\" class=\"dataframe\">\n",
       "  <thead>\n",
       "    <tr style=\"text-align: right;\">\n",
       "      <th></th>\n",
       "      <th>bodyId</th>\n",
       "    </tr>\n",
       "  </thead>\n",
       "  <tbody>\n",
       "    <tr>\n",
       "      <th>0</th>\n",
       "      <td>1200049187</td>\n",
       "    </tr>\n",
       "    <tr>\n",
       "      <th>1</th>\n",
       "      <td>1200057627</td>\n",
       "    </tr>\n",
       "    <tr>\n",
       "      <th>2</th>\n",
       "      <td>1230712894</td>\n",
       "    </tr>\n",
       "    <tr>\n",
       "      <th>3</th>\n",
       "      <td>1230712956</td>\n",
       "    </tr>\n",
       "    <tr>\n",
       "      <th>4</th>\n",
       "      <td>1230738118</td>\n",
       "    </tr>\n",
       "    <tr>\n",
       "      <th>5</th>\n",
       "      <td>1230738237</td>\n",
       "    </tr>\n",
       "    <tr>\n",
       "      <th>6</th>\n",
       "      <td>1230738247</td>\n",
       "    </tr>\n",
       "    <tr>\n",
       "      <th>7</th>\n",
       "      <td>1230742431</td>\n",
       "    </tr>\n",
       "    <tr>\n",
       "      <th>8</th>\n",
       "      <td>1230742517</td>\n",
       "    </tr>\n",
       "    <tr>\n",
       "      <th>9</th>\n",
       "      <td>1230742552</td>\n",
       "    </tr>\n",
       "    <tr>\n",
       "      <th>10</th>\n",
       "      <td>1231066662</td>\n",
       "    </tr>\n",
       "    <tr>\n",
       "      <th>11</th>\n",
       "      <td>1231066732</td>\n",
       "    </tr>\n",
       "    <tr>\n",
       "      <th>12</th>\n",
       "      <td>1231066741</td>\n",
       "    </tr>\n",
       "    <tr>\n",
       "      <th>13</th>\n",
       "      <td>1231070792</td>\n",
       "    </tr>\n",
       "    <tr>\n",
       "      <th>14</th>\n",
       "      <td>1231070863</td>\n",
       "    </tr>\n",
       "    <tr>\n",
       "      <th>15</th>\n",
       "      <td>1231079482</td>\n",
       "    </tr>\n",
       "    <tr>\n",
       "      <th>16</th>\n",
       "      <td>1261751722</td>\n",
       "    </tr>\n",
       "    <tr>\n",
       "      <th>17</th>\n",
       "      <td>5812979604</td>\n",
       "    </tr>\n",
       "    <tr>\n",
       "      <th>18</th>\n",
       "      <td>5813020453</td>\n",
       "    </tr>\n",
       "    <tr>\n",
       "      <th>19</th>\n",
       "      <td>5813049931</td>\n",
       "    </tr>\n",
       "  </tbody>\n",
       "</table>\n",
       "</div>"
      ],
      "text/plain": [
       "        bodyId\n",
       "0   1200049187\n",
       "1   1200057627\n",
       "2   1230712894\n",
       "3   1230712956\n",
       "4   1230738118\n",
       "5   1230738237\n",
       "6   1230738247\n",
       "7   1230742431\n",
       "8   1230742517\n",
       "9   1230742552\n",
       "10  1231066662\n",
       "11  1231066732\n",
       "12  1231066741\n",
       "13  1231070792\n",
       "14  1231070863\n",
       "15  1231079482\n",
       "16  1261751722\n",
       "17  5812979604\n",
       "18  5813020453\n",
       "19  5813049931"
      ]
     },
     "execution_count": 9,
     "metadata": {},
     "output_type": "execute_result"
    }
   ],
   "source": [
    "er5bodyidList"
   ]
  },
  {
   "cell_type": "code",
   "execution_count": 10,
   "metadata": {},
   "outputs": [
    {
     "data": {
      "application/vnd.jupyter.widget-view+json": {
       "model_id": "",
       "version_major": 2,
       "version_minor": 0
      },
      "text/plain": [
       "Fetching:   0%|          | 0/20 [00:00<?, ?it/s]"
      ]
     },
     "metadata": {},
     "output_type": "display_data"
    },
    {
     "name": "stderr",
     "output_type": "stream",
     "text": [
      "INFO - 2021-08-11 19:23:12,421 - utils - NumExpr defaulting to 8 threads.\n",
      "WARNING - 2021-08-11 19:23:13,010 - connectionpool - Connection pool is full, discarding connection: neuprint.janelia.org\n",
      "WARNING - 2021-08-11 19:23:13,015 - connectionpool - Connection pool is full, discarding connection: neuprint.janelia.org\n",
      "WARNING - 2021-08-11 19:23:13,032 - connectionpool - Connection pool is full, discarding connection: neuprint.janelia.org\n",
      "WARNING - 2021-08-11 19:23:13,032 - connectionpool - Connection pool is full, discarding connection: neuprint.janelia.org\n",
      "WARNING - 2021-08-11 19:23:13,032 - connectionpool - Connection pool is full, discarding connection: neuprint.janelia.org\n",
      "WARNING - 2021-08-11 19:23:13,046 - connectionpool - Connection pool is full, discarding connection: neuprint.janelia.org\n",
      "WARNING - 2021-08-11 19:23:13,049 - connectionpool - Connection pool is full, discarding connection: neuprint.janelia.org\n",
      "WARNING - 2021-08-11 19:23:13,056 - connectionpool - Connection pool is full, discarding connection: neuprint.janelia.org\n",
      "WARNING - 2021-08-11 19:23:13,063 - connectionpool - Connection pool is full, discarding connection: neuprint.janelia.org\n",
      "WARNING - 2021-08-11 19:23:13,076 - connectionpool - Connection pool is full, discarding connection: neuprint.janelia.org\n",
      "WARNING - 2021-08-11 19:23:14,644 - connectionpool - Connection pool is full, discarding connection: neuprint.janelia.org\n",
      "WARNING - 2021-08-11 19:23:14,943 - connectionpool - Connection pool is full, discarding connection: neuprint.janelia.org\n",
      "WARNING - 2021-08-11 19:23:15,027 - connectionpool - Connection pool is full, discarding connection: neuprint.janelia.org\n",
      "WARNING - 2021-08-11 19:23:15,028 - connectionpool - Connection pool is full, discarding connection: neuprint.janelia.org\n"
     ]
    }
   ],
   "source": [
    "er5_skel = neu.fetch_skeletons(er5bodyidList, heal=1000, max_threads=30)"
   ]
  },
  {
   "cell_type": "code",
   "execution_count": 11,
   "metadata": {},
   "outputs": [],
   "source": [
    "#fetch mesh for Right Antenna lobe..\n",
    "al_R = neu.fetch_roi('AL(R)')"
   ]
  },
  {
   "cell_type": "code",
   "execution_count": 12,
   "metadata": {},
   "outputs": [],
   "source": [
    "hemibrain_mesh = navis.Volume(flybrains.JRCFIB2018Fraw.mesh)"
   ]
  },
  {
   "cell_type": "code",
   "execution_count": 13,
   "metadata": {},
   "outputs": [],
   "source": [
    "figwidth_size = 5\n",
    "figheigth_size = 5"
   ]
  },
  {
   "cell_type": "code",
   "execution_count": 14,
   "metadata": {},
   "outputs": [],
   "source": [
    "#navis display options for frontal view..\n",
    "elev = -180\n",
    "azim = -90\n",
    "dist = 6"
   ]
  },
  {
   "cell_type": "code",
   "execution_count": 15,
   "metadata": {},
   "outputs": [
    {
     "data": {
      "application/vnd.jupyter.widget-view+json": {
       "model_id": "",
       "version_major": 2,
       "version_minor": 0
      },
      "text/plain": [
       "Plot neurons:   0%|          | 0/20 [00:00<?, ?it/s]"
      ]
     },
     "metadata": {},
     "output_type": "display_data"
    },
    {
     "data": {
      "image/png": "[encoded data removed]",
      "text/plain": [
       "<Figure size 360x360 with 1 Axes>"
      ]
     },
     "metadata": {
      "needs_background": "light"
     },
     "output_type": "display_data"
    }
   ],
   "source": [
    "fig = plt.figure(figsize=(figwidth_size, figheigth_size))\n",
    "ax = fig.add_subplot(1, 1, 1, projection = '3d')\n",
    "navis.plot2d(er5_skel, method='3d', ax = ax, connectors=False)\n",
    "navis.plot2d(hemibrain_mesh, method='3d', ax = ax, connectors=False)\n",
    "# Rotate to frontal view\n",
    "ax.elev = elev\n",
    "ax.azim = azim\n",
    "ax.dist = dist"
   ]
  },
  {
   "cell_type": "markdown",
   "metadata": {},
   "source": [
    "### Transform them to Flywire space.."
   ]
  },
  {
   "cell_type": "code",
   "execution_count": 17,
   "metadata": {},
   "outputs": [
    {
     "name": "stderr",
     "output_type": "stream",
     "text": [
      "INFO  : Pre-caching deformation field(s) for transforms... (navis)\n",
      "INFO - 2021-08-11 19:23:40,154 - base - Pre-caching deformation field(s) for transforms...\n"
     ]
    },
    {
     "name": "stdout",
     "output_type": "stream",
     "text": [
      "Transform path: JRCFIB2018Fraw -> JRCFIB2018F -> JRCFIB2018Fum -> JRC2018F -> FAFB14um -> FAFB14 -> FAFB14raw -> FLYWIREraw -> FLYWIRE\n"
     ]
    },
    {
     "data": {
      "application/vnd.jupyter.widget-view+json": {
       "model_id": "",
       "version_major": 2,
       "version_minor": 0
      },
      "text/plain": [
       "Xforming:   0%|          | 0/20 [00:00<?, ?it/s]"
      ]
     },
     "metadata": {},
     "output_type": "display_data"
    }
   ],
   "source": [
    "flywire_neuron=navis.xform_brain(er5_skel,source='JRCFIB2018Fraw', target='FLYWIRE')"
   ]
  },
  {
   "cell_type": "code",
   "execution_count": 18,
   "metadata": {},
   "outputs": [
    {
     "name": "stdout",
     "output_type": "stream",
     "text": [
      "Transform path: JRCFIB2018Fraw -> JRCFIB2018F -> JRCFIB2018Fum -> JRC2018F -> FAFB14um -> FAFB14 -> FAFB14raw -> FLYWIREraw -> FLYWIRE\n",
      "Transform path: JRCFIB2018Fraw -> JRCFIB2018F -> JRCFIB2018Fum -> JRC2018F -> FAFB14um -> FAFB14 -> FAFB14raw -> FLYWIREraw -> FLYWIRE\n"
     ]
    }
   ],
   "source": [
    "flywirevol = {}\n",
    "flywirevol['hemibrain']=navis.xform_brain(hemibrain_mesh, source='JRCFIB2018Fraw', target='FLYWIRE')\n",
    "flywirevol['AL_R']=navis.xform_brain(al_R, source='JRCFIB2018Fraw', target='FLYWIRE')"
   ]
  },
  {
   "cell_type": "code",
   "execution_count": 19,
   "metadata": {},
   "outputs": [
    {
     "data": {
      "text/plain": [
       "{'hemibrain': <navis.Volume(name=None, id=200, color=(0.85, 0.85, 0.85, 0.2), vertices.shape=(22125, 3), faces.shape=(44270, 3))>,\n",
       " 'AL_R': <navis.Volume(name=None, id=300, color=(0.85, 0.85, 0.85, 0.2), vertices.shape=(38829, 3), faces.shape=(77672, 3))>}"
      ]
     },
     "execution_count": 19,
     "metadata": {},
     "output_type": "execute_result"
    }
   ],
   "source": [
    "flywirevol['hemibrain'].id = 200\n",
    "flywirevol['AL_R'].id = 300\n",
    "flywirevol"
   ]
  },
  {
   "cell_type": "markdown",
   "metadata": {},
   "source": [
    "### Start the dataserver to host precomputed data.."
   ]
  },
  {
   "cell_type": "code",
   "execution_count": 20,
   "metadata": {},
   "outputs": [
    {
     "name": "stdout",
     "output_type": "stream",
     "text": [
      "Serving data from:  /var/folders/4_/1td4h5lj50z735wckw6pjd5h0000gn/T/tmp_mub8so0\n",
      "Serving directory at http://127.0.0.1:8000\n"
     ]
    }
   ],
   "source": [
    "startdataserver()"
   ]
  },
  {
   "cell_type": "markdown",
   "metadata": {},
   "source": [
    "### Get the url from flywire to append data onto.."
   ]
  },
  {
   "cell_type": "code",
   "execution_count": 25,
   "metadata": {},
   "outputs": [],
   "source": [
    "shorturl = 'https://ngl.flywire.ai/?json_url=https://globalv1.flywire-daf.com/nglstate/4646812430368768'\n",
    "#This flywire segments has some stuff similar to the DA1 PNs, you will notice their closeness in the final plot"
   ]
  },
  {
   "cell_type": "markdown",
   "metadata": {},
   "source": [
    "### Add bodyids to flywire layers.."
   ]
  },
  {
   "cell_type": "code",
   "execution_count": 26,
   "metadata": {},
   "outputs": [
    {
     "name": "stdout",
     "output_type": "stream",
     "text": [
      "deleting.. /private/var/folders/4_/1td4h5lj50z735wckw6pjd5h0000gn/T/tmp_mub8so0/precomputed/hemibrain_skels\n",
      "/private/var/folders/4_/1td4h5lj50z735wckw6pjd5h0000gn/T/tmp_mub8so0/precomputed/hemibrain_skels/skeletons/1200057627\n",
      "/private/var/folders/4_/1td4h5lj50z735wckw6pjd5h0000gn/T/tmp_mub8so0/precomputed/hemibrain_skels/skeletons/1230712894\n",
      "/private/var/folders/4_/1td4h5lj50z735wckw6pjd5h0000gn/T/tmp_mub8so0/precomputed/hemibrain_skels/skeletons/1230738118\n",
      "/private/var/folders/4_/1td4h5lj50z735wckw6pjd5h0000gn/T/tmp_mub8so0/precomputed/hemibrain_skels/skeletons/1230742552\n",
      "/private/var/folders/4_/1td4h5lj50z735wckw6pjd5h0000gn/T/tmp_mub8so0/precomputed/hemibrain_skels/skeletons/1230738247\n",
      "/private/var/folders/4_/1td4h5lj50z735wckw6pjd5h0000gn/T/tmp_mub8so0/precomputed/hemibrain_skels/skeletons/1230742517\n",
      "/private/var/folders/4_/1td4h5lj50z735wckw6pjd5h0000gn/T/tmp_mub8so0/precomputed/hemibrain_skels/skeletons/5812979604\n",
      "/private/var/folders/4_/1td4h5lj50z735wckw6pjd5h0000gn/T/tmp_mub8so0/precomputed/hemibrain_skels/skeletons/1230712956\n",
      "/private/var/folders/4_/1td4h5lj50z735wckw6pjd5h0000gn/T/tmp_mub8so0/precomputed/hemibrain_skels/skeletons/1231079482\n",
      "/private/var/folders/4_/1td4h5lj50z735wckw6pjd5h0000gn/T/tmp_mub8so0/precomputed/hemibrain_skels/skeletons/1231066741\n",
      "/private/var/folders/4_/1td4h5lj50z735wckw6pjd5h0000gn/T/tmp_mub8so0/precomputed/hemibrain_skels/skeletons/1231070792\n",
      "/private/var/folders/4_/1td4h5lj50z735wckw6pjd5h0000gn/T/tmp_mub8so0/precomputed/hemibrain_skels/skeletons/1200049187\n",
      "/private/var/folders/4_/1td4h5lj50z735wckw6pjd5h0000gn/T/tmp_mub8so0/precomputed/hemibrain_skels/skeletons/1230738237\n",
      "/private/var/folders/4_/1td4h5lj50z735wckw6pjd5h0000gn/T/tmp_mub8so0/precomputed/hemibrain_skels/skeletons/1261751722\n",
      "/private/var/folders/4_/1td4h5lj50z735wckw6pjd5h0000gn/T/tmp_mub8so0/precomputed/hemibrain_skels/skeletons/1230742431\n",
      "/private/var/folders/4_/1td4h5lj50z735wckw6pjd5h0000gn/T/tmp_mub8so0/precomputed/hemibrain_skels/skeletons/1231070863\n",
      "/private/var/folders/4_/1td4h5lj50z735wckw6pjd5h0000gn/T/tmp_mub8so0/precomputed/hemibrain_skels/skeletons/1231066732\n",
      "/private/var/folders/4_/1td4h5lj50z735wckw6pjd5h0000gn/T/tmp_mub8so0/precomputed/hemibrain_skels/skeletons/5813049931\n",
      "/private/var/folders/4_/1td4h5lj50z735wckw6pjd5h0000gn/T/tmp_mub8so0/precomputed/hemibrain_skels/skeletons/5813020453\n",
      "/private/var/folders/4_/1td4h5lj50z735wckw6pjd5h0000gn/T/tmp_mub8so0/precomputed/hemibrain_skels/skeletons/1231066662\n",
      "creating: /private/var/folders/4_/1td4h5lj50z735wckw6pjd5h0000gn/T/tmp_mub8so0/precomputed/hemibrain_skels/skeletons/seg_props\n",
      "{'1200057627': ['#ff0000'], '1230712894': ['#ff0000'], '1230738118': ['#ff0000'], '1230742552': ['#ff0000'], '1230738247': ['#ff0000'], '1230742517': ['#ff0000'], '5812979604': ['#ff0000'], '1230712956': ['#ff0000'], '1231079482': ['#ff0000'], '1231066741': ['#ff0000'], '1231070792': ['#ff0000'], '1200049187': ['#ff0000'], '1230738237': ['#ff0000'], '1261751722': ['#ff0000'], '1230742431': ['#ff0000'], '1231070863': ['#ff0000'], '1231066732': ['#ff0000'], '5813049931': ['#ff0000'], '5813020453': ['#ff0000'], '1231066662': ['#ff0000']}\n",
      "flywire url at: https://ngl.flywire.ai/?json_url=https://globalv1.flywire-daf.com/nglstate/6397512290140160\n"
     ]
    }
   ],
   "source": [
    "tmpviewer = add_flywirelayer(flywireurl2dict(shorturl), layer_kws = {'type': 'skeletons',\n",
    "                                                                     'source': flywire_neuron,\n",
    "                                                                     'name': 'hemibrain_skels',\n",
    "                                                                     'color': 'red'}) \n",
    "#'alpha': 0.3, doesn't work yet in skeleton layers.."
   ]
  },
  {
   "cell_type": "markdown",
   "metadata": {},
   "source": [
    "### Add neuropil meshes to flywire layers"
   ]
  },
  {
   "cell_type": "code",
   "execution_count": 27,
   "metadata": {},
   "outputs": [],
   "source": [
    "shorturl = tmpviewer"
   ]
  },
  {
   "cell_type": "code",
   "execution_count": 28,
   "metadata": {},
   "outputs": [
    {
     "name": "stdout",
     "output_type": "stream",
     "text": [
      "deleting.. /private/var/folders/4_/1td4h5lj50z735wckw6pjd5h0000gn/T/tmp_mub8so0/precomputed/hemibrain_neuropils/mesh\n",
      "mesh/200\n",
      "Seg id is: 200\n",
      "Full filepath: /private/var/folders/4_/1td4h5lj50z735wckw6pjd5h0000gn/T/tmp_mub8so0/precomputed/hemibrain_neuropils/mesh/200\n",
      "mesh/300\n",
      "Seg id is: 300\n",
      "Full filepath: /private/var/folders/4_/1td4h5lj50z735wckw6pjd5h0000gn/T/tmp_mub8so0/precomputed/hemibrain_neuropils/mesh/300\n",
      "creating: /private/var/folders/4_/1td4h5lj50z735wckw6pjd5h0000gn/T/tmp_mub8so0/precomputed/hemibrain_neuropils/mesh/segment_properties\n",
      "creating: /private/var/folders/4_/1td4h5lj50z735wckw6pjd5h0000gn/T/tmp_mub8so0/precomputed/hemibrain_neuropils/mesh/segment_names\n",
      "flywire url at: https://ngl.flywire.ai/?json_url=https://globalv1.flywire-daf.com/nglstate/4849669104467968\n"
     ]
    }
   ],
   "source": [
    "tmpviewer = add_flywirelayer(flywireurl2dict(shorturl), layer_kws = {'type': 'volumes',\n",
    "                                                                     'source': [flywirevol['hemibrain'],\n",
    "                                                                                flywirevol['AL_R']],\n",
    "                                                                     'name': 'hemibrain_neuropils',\n",
    "                                                                     'color': ['grey', 'magenta'], \n",
    "                                                                     'alpha': 0.3})"
   ]
  },
  {
   "cell_type": "code",
   "execution_count": 29,
   "metadata": {},
   "outputs": [
    {
     "name": "stdout",
     "output_type": "stream",
     "text": [
      "flywire url at: https://ngl.flywire.ai/?json_url=https://globalv1.flywire-daf.com/nglstate/5975569011310592\n"
     ]
    },
    {
     "name": "stderr",
     "output_type": "stream",
     "text": [
      "127.0.0.1 - - [11/Aug/2021 19:26:04] \"GET /precomputed/hemibrain_skels/skeletons//info HTTP/1.1\" 200 -\n",
      "127.0.0.1 - - [11/Aug/2021 19:26:04] \"GET /precomputed/hemibrain_neuropils/mesh/info HTTP/1.1\" 200 -\n",
      "127.0.0.1 - - [11/Aug/2021 19:26:04] \"GET /precomputed/hemibrain_neuropils/mesh/200:0 HTTP/1.1\" 200 -\n",
      "127.0.0.1 - - [11/Aug/2021 19:26:04] \"GET /precomputed/hemibrain_neuropils/mesh/300:0 HTTP/1.1\" 200 -\n",
      "127.0.0.1 - - [11/Aug/2021 19:26:04] \"GET /precomputed/hemibrain_skels/skeletons//5812979604 HTTP/1.1\" 200 -\n",
      "127.0.0.1 - - [11/Aug/2021 19:26:04] \"GET /precomputed/hemibrain_skels/skeletons//1230712956 HTTP/1.1\" 200 -\n",
      "127.0.0.1 - - [11/Aug/2021 19:26:04] \"GET /precomputed/hemibrain_skels/skeletons//1200057627 HTTP/1.1\" 200 -\n",
      "127.0.0.1 - - [11/Aug/2021 19:26:04] \"GET /precomputed/hemibrain_skels/skeletons//1230742517 HTTP/1.1\" 200 -\n",
      "127.0.0.1 - - [11/Aug/2021 19:26:04] \"GET /precomputed/hemibrain_skels/skeletons//1231066662 HTTP/1.1\" 200 -\n",
      "127.0.0.1 - - [11/Aug/2021 19:26:04] \"GET /precomputed/hemibrain_skels/skeletons//1230742552 HTTP/1.1\" 200 -\n",
      "127.0.0.1 - - [11/Aug/2021 19:26:04] \"GET /precomputed/hemibrain_skels/skeletons//1230742431 HTTP/1.1\" 200 -\n",
      "127.0.0.1 - - [11/Aug/2021 19:26:04] \"GET /precomputed/hemibrain_skels/skeletons//1231070792 HTTP/1.1\" 200 -\n",
      "127.0.0.1 - - [11/Aug/2021 19:26:04] \"GET /precomputed/hemibrain_skels/skeletons//1231066732 HTTP/1.1\" 200 -\n",
      "127.0.0.1 - - [11/Aug/2021 19:26:04] \"GET /precomputed/hemibrain_skels/skeletons//1230712894 HTTP/1.1\" 200 -\n",
      "127.0.0.1 - - [11/Aug/2021 19:26:04] \"GET /precomputed/hemibrain_skels/skeletons//1230738237 HTTP/1.1\" 200 -\n",
      "127.0.0.1 - - [11/Aug/2021 19:26:04] \"GET /precomputed/hemibrain_skels/skeletons//1231066741 HTTP/1.1\" 200 -\n",
      "127.0.0.1 - - [11/Aug/2021 19:26:04] \"GET /precomputed/hemibrain_skels/skeletons//1230738118 HTTP/1.1\" 200 -\n",
      "127.0.0.1 - - [11/Aug/2021 19:26:04] \"GET /precomputed/hemibrain_skels/skeletons//1200049187 HTTP/1.1\" 200 -\n",
      "127.0.0.1 - - [11/Aug/2021 19:26:04] \"GET /precomputed/hemibrain_skels/skeletons//1231079482 HTTP/1.1\" 200 -\n",
      "127.0.0.1 - - [11/Aug/2021 19:26:04] \"GET /precomputed/hemibrain_skels/skeletons//1230738247 HTTP/1.1\" 200 -\n",
      "127.0.0.1 - - [11/Aug/2021 19:26:04] \"GET /precomputed/hemibrain_skels/skeletons//5813049931 HTTP/1.1\" 200 -\n",
      "127.0.0.1 - - [11/Aug/2021 19:26:04] \"GET /precomputed/hemibrain_skels/skeletons//1231070863 HTTP/1.1\" 200 -\n",
      "127.0.0.1 - - [11/Aug/2021 19:26:04] \"GET /precomputed/hemibrain_skels/skeletons//1261751722 HTTP/1.1\" 200 -\n",
      "127.0.0.1 - - [11/Aug/2021 19:26:04] \"GET /precomputed/hemibrain_skels/skeletons//5813020453 HTTP/1.1\" 200 -\n",
      "127.0.0.1 - - [11/Aug/2021 19:26:04] \"GET /precomputed/hemibrain_neuropils/mesh/200 HTTP/1.1\" 200 -\n",
      "127.0.0.1 - - [11/Aug/2021 19:26:04] \"GET /precomputed/hemibrain_neuropils/mesh/300 HTTP/1.1\" 200 -\n",
      "127.0.0.1 - - [11/Aug/2021 19:26:24] \"GET /precomputed/hemibrain_skels/skeletons//info HTTP/1.1\" 304 -\n",
      "127.0.0.1 - - [11/Aug/2021 19:26:24] \"GET /precomputed/hemibrain_neuropils/mesh/info HTTP/1.1\" 304 -\n",
      "127.0.0.1 - - [11/Aug/2021 19:26:24] \"GET /precomputed/hemibrain_skels/skeletons//1231066732 HTTP/1.1\" 304 -\n",
      "127.0.0.1 - - [11/Aug/2021 19:27:17] \"GET /precomputed/hemibrain_skels/skeletons//5812979604 HTTP/1.1\" 304 -\n"
     ]
    }
   ],
   "source": [
    "tmpviewer,shorturl = set_flywireviewerstate(tmpviewer, axis_lines=False, bounding_box=False)"
   ]
  },
  {
   "cell_type": "code",
   "execution_count": null,
   "metadata": {},
   "outputs": [],
   "source": []
  },
  {
   "cell_type": "code",
   "execution_count": null,
   "metadata": {},
   "outputs": [],
   "source": [
    "#some matches are.. 1231066732 --> 720575940630849069, 5812979604 --> 720575940624108862"
   ]
  },
  {
   "cell_type": "code",
   "execution_count": null,
   "metadata": {},
   "outputs": [],
   "source": [
    "#some of our matching er5 neurons are..\n",
    "#pre_syn = fafbseg.flywire.fetch_synapses([720575940620940045], transmitters=True, post=False)\n",
    "#fafbseg.flywire.predict_transmitter([720575940620940045], single_pred=True)"
   ]
  },
  {
   "cell_type": "code",
   "execution_count": 30,
   "metadata": {},
   "outputs": [
    {
     "data": {
      "application/vnd.jupyter.widget-view+json": {
       "model_id": "",
       "version_major": 2,
       "version_minor": 0
      },
      "text/plain": [
       "Querying:   0%|          | 0/2 [00:00<?, ?it/s]"
      ]
     },
     "metadata": {},
     "output_type": "display_data"
    },
    {
     "data": {
      "text/html": [
       "<div>\n",
       "<style scoped>\n",
       "    .dataframe tbody tr th:only-of-type {\n",
       "        vertical-align: middle;\n",
       "    }\n",
       "\n",
       "    .dataframe tbody tr th {\n",
       "        vertical-align: top;\n",
       "    }\n",
       "\n",
       "    .dataframe thead th {\n",
       "        text-align: right;\n",
       "    }\n",
       "</style>\n",
       "<table border=\"1\" class=\"dataframe\">\n",
       "  <thead>\n",
       "    <tr style=\"text-align: right;\">\n",
       "      <th></th>\n",
       "      <th>720575940630849069</th>\n",
       "      <th>720575940624108862</th>\n",
       "    </tr>\n",
       "  </thead>\n",
       "  <tbody>\n",
       "    <tr>\n",
       "      <th>gaba</th>\n",
       "      <td>0.934756</td>\n",
       "      <td>0.841731</td>\n",
       "    </tr>\n",
       "    <tr>\n",
       "      <th>acetylcholine</th>\n",
       "      <td>0.029308</td>\n",
       "      <td>0.062223</td>\n",
       "    </tr>\n",
       "    <tr>\n",
       "      <th>glutamate</th>\n",
       "      <td>0.010621</td>\n",
       "      <td>0.022981</td>\n",
       "    </tr>\n",
       "    <tr>\n",
       "      <th>octopamine</th>\n",
       "      <td>0.000676</td>\n",
       "      <td>0.003360</td>\n",
       "    </tr>\n",
       "    <tr>\n",
       "      <th>serotonin</th>\n",
       "      <td>0.003220</td>\n",
       "      <td>0.017663</td>\n",
       "    </tr>\n",
       "    <tr>\n",
       "      <th>dopamine</th>\n",
       "      <td>0.021419</td>\n",
       "      <td>0.052042</td>\n",
       "    </tr>\n",
       "  </tbody>\n",
       "</table>\n",
       "</div>"
      ],
      "text/plain": [
       "               720575940630849069  720575940624108862\n",
       "gaba                     0.934756            0.841731\n",
       "acetylcholine            0.029308            0.062223\n",
       "glutamate                0.010621            0.022981\n",
       "octopamine               0.000676            0.003360\n",
       "serotonin                0.003220            0.017663\n",
       "dopamine                 0.021419            0.052042"
      ]
     },
     "execution_count": 30,
     "metadata": {},
     "output_type": "execute_result"
    }
   ],
   "source": [
    "fafbseg.flywire.predict_transmitter([720575940630849069, 720575940624108862])"
   ]
  },
  {
   "cell_type": "code",
   "execution_count": null,
   "metadata": {},
   "outputs": [],
   "source": []
  },
  {
   "cell_type": "markdown",
   "metadata": {},
   "source": [
    "### Screenshot of the flywire instance"
   ]
  },
  {
   "cell_type": "markdown",
   "metadata": {},
   "source": [
    "#### you can see the skeletons from hemibrain (red) plotted in the skeleton layer, and some similar neurons (meshes) of the flywire dataset plotted in green and cyan"
   ]
  },
  {
   "cell_type": "markdown",
   "metadata": {},
   "source": [
    "![alt text](pics/neurotransmitterpred.png \"neurotransmitter_prediction\")"
   ]
  },
  {
   "cell_type": "markdown",
   "metadata": {},
   "source": [
    "### Close the dataserver"
   ]
  },
  {
   "cell_type": "code",
   "execution_count": 31,
   "metadata": {},
   "outputs": [
    {
     "name": "stdout",
     "output_type": "stream",
     "text": [
      "Closing server at http://127.0.0.1:8000\n",
      "Cleaning directory at /private/var/folders/4_/1td4h5lj50z735wckw6pjd5h0000gn/T/tmp_mub8so0\n"
     ]
    }
   ],
   "source": [
    "closedataserver()"
   ]
  },
  {
   "cell_type": "code",
   "execution_count": null,
   "metadata": {},
   "outputs": [],
   "source": []
  }
 ],
 "metadata": {
  "kernelspec": {
   "display_name": "Python 3",
   "language": "python",
   "name": "python3"
  },
  "language_info": {
   "codemirror_mode": {
    "name": "ipython",
    "version": 3
   },
   "file_extension": ".py",
   "mimetype": "text/x-python",
   "name": "python",
   "nbconvert_exporter": "python",
   "pygments_lexer": "ipython3",
   "version": "3.8.8"
  }
 },
 "nbformat": 4,
 "nbformat_minor": 4
}
